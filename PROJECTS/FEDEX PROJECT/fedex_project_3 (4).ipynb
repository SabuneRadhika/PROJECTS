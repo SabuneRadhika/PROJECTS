{
 "cells": [
  {
   "cell_type": "markdown",
   "metadata": {
    "id": "AjlVg-copAuE"
   },
   "source": [
    "**Title: \"FedEx Operations Dataset: Enhancing Efficiency and Customer Experience** \n",
    " \n",
    "**\"Introduction:**\n",
    "\n",
    "\n",
    "The FedEx Operations Dataset is a comprehensive collection of data that encompasses various aspects of FedEx's operations and customer interactions. This dataset was compiled as part of the FedEx project, which aimed to enhance operational efficiency and improve customer experience within the FedEx network. The dataset consists of information related to package tracking, delivery times, customer feedback, process optimization, and technological integrations. By analyzing this dataset, valuable insights can be derived to further optimize operations, enhance delivery speed, and provide an exceptional customer experience."
   ]
  },
  {
   "cell_type": "markdown",
   "metadata": {
    "id": "Q7IUoVJOpAFW"
   },
   "source": [
    "# importing library "
   ]
  },
  {
   "cell_type": "code",
   "execution_count": null,
   "metadata": {
    "colab": {
     "base_uri": "https://localhost:8080/"
    },
    "id": "R_6aJlesDVN3",
    "outputId": "50bd2def-299e-4ccc-9fc5-6a32589d235b"
   },
   "outputs": [
    {
     "name": "stdout",
     "output_type": "stream",
     "text": [
      "Mounted at /content/drive\n"
     ]
    }
   ],
   "source": [
    "from google.colab import drive\n",
    "drive.mount('/content/drive',force_remount=True)"
   ]
  },
  {
   "cell_type": "code",
   "execution_count": null,
   "metadata": {
    "colab": {
     "base_uri": "https://localhost:8080/"
    },
    "id": "EhNttp0-FFXc",
    "outputId": "8747d31f-14fb-47fe-fb78-f03323f020e8"
   },
   "outputs": [
    {
     "name": "stdout",
     "output_type": "stream",
     "text": [
      " Archive\t\t'ibm employee attrition project '\n",
      " Bank_Churn.csv\t\t'Plant Disease.ipynb'\n",
      "'bank exited project'\t PlantVillage\n",
      "'bank exited project '\t PlantVillage.zip\n",
      "'chilli b analogicx '\t'radhika resume 28.04.dotx'\n",
      " fedex.csv\t\t'radhika resume 29.04.pdf'\n"
     ]
    }
   ],
   "source": [
    "!ls \"/content/drive/My Drive/data science\""
   ]
  },
  {
   "cell_type": "code",
   "execution_count": null,
   "metadata": {
    "colab": {
     "base_uri": "https://localhost:8080/"
    },
    "id": "1a8Fhr5GJlnZ",
    "outputId": "ee2f647f-393b-4e84-8096-33b20dfc164f"
   },
   "outputs": [
    {
     "name": "stdout",
     "output_type": "stream",
     "text": [
      "'/content/drive/My Drive/data science/fedex.csv'\n"
     ]
    }
   ],
   "source": [
    "!ls \"/content/drive/My Drive/data science/fedex.csv\""
   ]
  },
  {
   "cell_type": "code",
   "execution_count": null,
   "metadata": {
    "id": "flAEkNIrFFRf"
   },
   "outputs": [],
   "source": [
    "import numpy as np\n",
    "import pandas as pd\n",
    "import matplotlib.pyplot as plt\n",
    "import seaborn as sns\n",
    "%matplotlib inline\n",
    "fedex = pd.read_csv(\"/content/drive/My Drive/data science/fedex.csv\")"
   ]
  },
  {
   "cell_type": "code",
   "execution_count": null,
   "metadata": {
    "colab": {
     "base_uri": "https://localhost:8080/",
     "height": 488
    },
    "id": "WaYINhIvFFO9",
    "outputId": "4f1704ba-6fab-4e87-8d5d-4c9d676a970d"
   },
   "outputs": [
    {
     "data": {
      "text/html": [
       "\n",
       "  <div id=\"df-43a604ad-0584-4424-af31-fd71fcf62fa6\">\n",
       "    <div class=\"colab-df-container\">\n",
       "      <div>\n",
       "<style scoped>\n",
       "    .dataframe tbody tr th:only-of-type {\n",
       "        vertical-align: middle;\n",
       "    }\n",
       "\n",
       "    .dataframe tbody tr th {\n",
       "        vertical-align: top;\n",
       "    }\n",
       "\n",
       "    .dataframe thead th {\n",
       "        text-align: right;\n",
       "    }\n",
       "</style>\n",
       "<table border=\"1\" class=\"dataframe\">\n",
       "  <thead>\n",
       "    <tr style=\"text-align: right;\">\n",
       "      <th></th>\n",
       "      <th>Year</th>\n",
       "      <th>Month</th>\n",
       "      <th>DayofMonth</th>\n",
       "      <th>DayOfWeek</th>\n",
       "      <th>Actual_Shipment_Time</th>\n",
       "      <th>Planned_Shipment_Time</th>\n",
       "      <th>Planned_Delivery_Time</th>\n",
       "      <th>Carrier_Name</th>\n",
       "      <th>Carrier_Num</th>\n",
       "      <th>Planned_TimeofTravel</th>\n",
       "      <th>Shipment_Delay</th>\n",
       "      <th>Source</th>\n",
       "      <th>Destination</th>\n",
       "      <th>Distance</th>\n",
       "      <th>Delivery_Status</th>\n",
       "    </tr>\n",
       "  </thead>\n",
       "  <tbody>\n",
       "    <tr>\n",
       "      <th>0</th>\n",
       "      <td>2008</td>\n",
       "      <td>1</td>\n",
       "      <td>3</td>\n",
       "      <td>4</td>\n",
       "      <td>2003.0</td>\n",
       "      <td>1955</td>\n",
       "      <td>2225</td>\n",
       "      <td>WN</td>\n",
       "      <td>335</td>\n",
       "      <td>150.0</td>\n",
       "      <td>8.0</td>\n",
       "      <td>IAD</td>\n",
       "      <td>TPA</td>\n",
       "      <td>810</td>\n",
       "      <td>0.0</td>\n",
       "    </tr>\n",
       "    <tr>\n",
       "      <th>1</th>\n",
       "      <td>2008</td>\n",
       "      <td>1</td>\n",
       "      <td>3</td>\n",
       "      <td>4</td>\n",
       "      <td>754.0</td>\n",
       "      <td>735</td>\n",
       "      <td>1000</td>\n",
       "      <td>WN</td>\n",
       "      <td>3231</td>\n",
       "      <td>145.0</td>\n",
       "      <td>19.0</td>\n",
       "      <td>IAD</td>\n",
       "      <td>TPA</td>\n",
       "      <td>810</td>\n",
       "      <td>1.0</td>\n",
       "    </tr>\n",
       "    <tr>\n",
       "      <th>2</th>\n",
       "      <td>2008</td>\n",
       "      <td>1</td>\n",
       "      <td>3</td>\n",
       "      <td>4</td>\n",
       "      <td>628.0</td>\n",
       "      <td>620</td>\n",
       "      <td>750</td>\n",
       "      <td>WN</td>\n",
       "      <td>448</td>\n",
       "      <td>90.0</td>\n",
       "      <td>8.0</td>\n",
       "      <td>IND</td>\n",
       "      <td>BWI</td>\n",
       "      <td>515</td>\n",
       "      <td>0.0</td>\n",
       "    </tr>\n",
       "    <tr>\n",
       "      <th>3</th>\n",
       "      <td>2008</td>\n",
       "      <td>1</td>\n",
       "      <td>3</td>\n",
       "      <td>4</td>\n",
       "      <td>926.0</td>\n",
       "      <td>930</td>\n",
       "      <td>1100</td>\n",
       "      <td>WN</td>\n",
       "      <td>1746</td>\n",
       "      <td>90.0</td>\n",
       "      <td>-4.0</td>\n",
       "      <td>IND</td>\n",
       "      <td>BWI</td>\n",
       "      <td>515</td>\n",
       "      <td>0.0</td>\n",
       "    </tr>\n",
       "    <tr>\n",
       "      <th>4</th>\n",
       "      <td>2008</td>\n",
       "      <td>1</td>\n",
       "      <td>3</td>\n",
       "      <td>4</td>\n",
       "      <td>1829.0</td>\n",
       "      <td>1755</td>\n",
       "      <td>1925</td>\n",
       "      <td>WN</td>\n",
       "      <td>3920</td>\n",
       "      <td>90.0</td>\n",
       "      <td>34.0</td>\n",
       "      <td>IND</td>\n",
       "      <td>BWI</td>\n",
       "      <td>515</td>\n",
       "      <td>1.0</td>\n",
       "    </tr>\n",
       "    <tr>\n",
       "      <th>...</th>\n",
       "      <td>...</td>\n",
       "      <td>...</td>\n",
       "      <td>...</td>\n",
       "      <td>...</td>\n",
       "      <td>...</td>\n",
       "      <td>...</td>\n",
       "      <td>...</td>\n",
       "      <td>...</td>\n",
       "      <td>...</td>\n",
       "      <td>...</td>\n",
       "      <td>...</td>\n",
       "      <td>...</td>\n",
       "      <td>...</td>\n",
       "      <td>...</td>\n",
       "      <td>...</td>\n",
       "    </tr>\n",
       "    <tr>\n",
       "      <th>3604170</th>\n",
       "      <td>2008</td>\n",
       "      <td>6</td>\n",
       "      <td>19</td>\n",
       "      <td>4</td>\n",
       "      <td>1059.0</td>\n",
       "      <td>1100</td>\n",
       "      <td>1256</td>\n",
       "      <td>DL</td>\n",
       "      <td>1547</td>\n",
       "      <td>236.0</td>\n",
       "      <td>-1.0</td>\n",
       "      <td>ATL</td>\n",
       "      <td>JAC</td>\n",
       "      <td>1572</td>\n",
       "      <td>0.0</td>\n",
       "    </tr>\n",
       "    <tr>\n",
       "      <th>3604171</th>\n",
       "      <td>2008</td>\n",
       "      <td>6</td>\n",
       "      <td>19</td>\n",
       "      <td>4</td>\n",
       "      <td>555.0</td>\n",
       "      <td>600</td>\n",
       "      <td>738</td>\n",
       "      <td>DL</td>\n",
       "      <td>1548</td>\n",
       "      <td>98.0</td>\n",
       "      <td>-5.0</td>\n",
       "      <td>RSW</td>\n",
       "      <td>ATL</td>\n",
       "      <td>515</td>\n",
       "      <td>0.0</td>\n",
       "    </tr>\n",
       "    <tr>\n",
       "      <th>3604172</th>\n",
       "      <td>2008</td>\n",
       "      <td>6</td>\n",
       "      <td>19</td>\n",
       "      <td>4</td>\n",
       "      <td>821.0</td>\n",
       "      <td>827</td>\n",
       "      <td>1003</td>\n",
       "      <td>DL</td>\n",
       "      <td>1548</td>\n",
       "      <td>96.0</td>\n",
       "      <td>-6.0</td>\n",
       "      <td>ATL</td>\n",
       "      <td>IND</td>\n",
       "      <td>432</td>\n",
       "      <td>0.0</td>\n",
       "    </tr>\n",
       "    <tr>\n",
       "      <th>3604173</th>\n",
       "      <td>2008</td>\n",
       "      <td>6</td>\n",
       "      <td>19</td>\n",
       "      <td>4</td>\n",
       "      <td>718.0</td>\n",
       "      <td>735</td>\n",
       "      <td>852</td>\n",
       "      <td>DL</td>\n",
       "      <td>1551</td>\n",
       "      <td>77.0</td>\n",
       "      <td>-17.0</td>\n",
       "      <td>CAE</td>\n",
       "      <td>ATL</td>\n",
       "      <td>191</td>\n",
       "      <td>0.0</td>\n",
       "    </tr>\n",
       "    <tr>\n",
       "      <th>3604174</th>\n",
       "      <td>2008</td>\n",
       "      <td>6</td>\n",
       "      <td>19</td>\n",
       "      <td>4</td>\n",
       "      <td>1127.0</td>\n",
       "      <td>951</td>\n",
       "      <td>1130</td>\n",
       "      <td>DL</td>\n",
       "      <td>1551</td>\n",
       "      <td>159.0</td>\n",
       "      <td>96.0</td>\n",
       "      <td>ATL</td>\n",
       "      <td>MSP</td>\n",
       "      <td>906</td>\n",
       "      <td>1.0</td>\n",
       "    </tr>\n",
       "  </tbody>\n",
       "</table>\n",
       "<p>3604175 rows × 15 columns</p>\n",
       "</div>\n",
       "      <button class=\"colab-df-convert\" onclick=\"convertToInteractive('df-43a604ad-0584-4424-af31-fd71fcf62fa6')\"\n",
       "              title=\"Convert this dataframe to an interactive table.\"\n",
       "              style=\"display:none;\">\n",
       "        \n",
       "  <svg xmlns=\"http://www.w3.org/2000/svg\" height=\"24px\"viewBox=\"0 0 24 24\"\n",
       "       width=\"24px\">\n",
       "    <path d=\"M0 0h24v24H0V0z\" fill=\"none\"/>\n",
       "    <path d=\"M18.56 5.44l.94 2.06.94-2.06 2.06-.94-2.06-.94-.94-2.06-.94 2.06-2.06.94zm-11 1L8.5 8.5l.94-2.06 2.06-.94-2.06-.94L8.5 2.5l-.94 2.06-2.06.94zm10 10l.94 2.06.94-2.06 2.06-.94-2.06-.94-.94-2.06-.94 2.06-2.06.94z\"/><path d=\"M17.41 7.96l-1.37-1.37c-.4-.4-.92-.59-1.43-.59-.52 0-1.04.2-1.43.59L10.3 9.45l-7.72 7.72c-.78.78-.78 2.05 0 2.83L4 21.41c.39.39.9.59 1.41.59.51 0 1.02-.2 1.41-.59l7.78-7.78 2.81-2.81c.8-.78.8-2.07 0-2.86zM5.41 20L4 18.59l7.72-7.72 1.47 1.35L5.41 20z\"/>\n",
       "  </svg>\n",
       "      </button>\n",
       "      \n",
       "  <style>\n",
       "    .colab-df-container {\n",
       "      display:flex;\n",
       "      flex-wrap:wrap;\n",
       "      gap: 12px;\n",
       "    }\n",
       "\n",
       "    .colab-df-convert {\n",
       "      background-color: #E8F0FE;\n",
       "      border: none;\n",
       "      border-radius: 50%;\n",
       "      cursor: pointer;\n",
       "      display: none;\n",
       "      fill: #1967D2;\n",
       "      height: 32px;\n",
       "      padding: 0 0 0 0;\n",
       "      width: 32px;\n",
       "    }\n",
       "\n",
       "    .colab-df-convert:hover {\n",
       "      background-color: #E2EBFA;\n",
       "      box-shadow: 0px 1px 2px rgba(60, 64, 67, 0.3), 0px 1px 3px 1px rgba(60, 64, 67, 0.15);\n",
       "      fill: #174EA6;\n",
       "    }\n",
       "\n",
       "    [theme=dark] .colab-df-convert {\n",
       "      background-color: #3B4455;\n",
       "      fill: #D2E3FC;\n",
       "    }\n",
       "\n",
       "    [theme=dark] .colab-df-convert:hover {\n",
       "      background-color: #434B5C;\n",
       "      box-shadow: 0px 1px 3px 1px rgba(0, 0, 0, 0.15);\n",
       "      filter: drop-shadow(0px 1px 2px rgba(0, 0, 0, 0.3));\n",
       "      fill: #FFFFFF;\n",
       "    }\n",
       "  </style>\n",
       "\n",
       "      <script>\n",
       "        const buttonEl =\n",
       "          document.querySelector('#df-43a604ad-0584-4424-af31-fd71fcf62fa6 button.colab-df-convert');\n",
       "        buttonEl.style.display =\n",
       "          google.colab.kernel.accessAllowed ? 'block' : 'none';\n",
       "\n",
       "        async function convertToInteractive(key) {\n",
       "          const element = document.querySelector('#df-43a604ad-0584-4424-af31-fd71fcf62fa6');\n",
       "          const dataTable =\n",
       "            await google.colab.kernel.invokeFunction('convertToInteractive',\n",
       "                                                     [key], {});\n",
       "          if (!dataTable) return;\n",
       "\n",
       "          const docLinkHtml = 'Like what you see? Visit the ' +\n",
       "            '<a target=\"_blank\" href=https://colab.research.google.com/notebooks/data_table.ipynb>data table notebook</a>'\n",
       "            + ' to learn more about interactive tables.';\n",
       "          element.innerHTML = '';\n",
       "          dataTable['output_type'] = 'display_data';\n",
       "          await google.colab.output.renderOutput(dataTable, element);\n",
       "          const docLink = document.createElement('div');\n",
       "          docLink.innerHTML = docLinkHtml;\n",
       "          element.appendChild(docLink);\n",
       "        }\n",
       "      </script>\n",
       "    </div>\n",
       "  </div>\n",
       "  "
      ],
      "text/plain": [
       "         Year  Month  DayofMonth  DayOfWeek  Actual_Shipment_Time  \\\n",
       "0        2008      1           3          4                2003.0   \n",
       "1        2008      1           3          4                 754.0   \n",
       "2        2008      1           3          4                 628.0   \n",
       "3        2008      1           3          4                 926.0   \n",
       "4        2008      1           3          4                1829.0   \n",
       "...       ...    ...         ...        ...                   ...   \n",
       "3604170  2008      6          19          4                1059.0   \n",
       "3604171  2008      6          19          4                 555.0   \n",
       "3604172  2008      6          19          4                 821.0   \n",
       "3604173  2008      6          19          4                 718.0   \n",
       "3604174  2008      6          19          4                1127.0   \n",
       "\n",
       "         Planned_Shipment_Time  Planned_Delivery_Time Carrier_Name  \\\n",
       "0                         1955                   2225           WN   \n",
       "1                          735                   1000           WN   \n",
       "2                          620                    750           WN   \n",
       "3                          930                   1100           WN   \n",
       "4                         1755                   1925           WN   \n",
       "...                        ...                    ...          ...   \n",
       "3604170                   1100                   1256           DL   \n",
       "3604171                    600                    738           DL   \n",
       "3604172                    827                   1003           DL   \n",
       "3604173                    735                    852           DL   \n",
       "3604174                    951                   1130           DL   \n",
       "\n",
       "         Carrier_Num  Planned_TimeofTravel  Shipment_Delay Source Destination  \\\n",
       "0                335                 150.0             8.0    IAD         TPA   \n",
       "1               3231                 145.0            19.0    IAD         TPA   \n",
       "2                448                  90.0             8.0    IND         BWI   \n",
       "3               1746                  90.0            -4.0    IND         BWI   \n",
       "4               3920                  90.0            34.0    IND         BWI   \n",
       "...              ...                   ...             ...    ...         ...   \n",
       "3604170         1547                 236.0            -1.0    ATL         JAC   \n",
       "3604171         1548                  98.0            -5.0    RSW         ATL   \n",
       "3604172         1548                  96.0            -6.0    ATL         IND   \n",
       "3604173         1551                  77.0           -17.0    CAE         ATL   \n",
       "3604174         1551                 159.0            96.0    ATL         MSP   \n",
       "\n",
       "         Distance  Delivery_Status  \n",
       "0             810              0.0  \n",
       "1             810              1.0  \n",
       "2             515              0.0  \n",
       "3             515              0.0  \n",
       "4             515              1.0  \n",
       "...           ...              ...  \n",
       "3604170      1572              0.0  \n",
       "3604171       515              0.0  \n",
       "3604172       432              0.0  \n",
       "3604173       191              0.0  \n",
       "3604174       906              1.0  \n",
       "\n",
       "[3604175 rows x 15 columns]"
      ]
     },
     "execution_count": 5,
     "metadata": {},
     "output_type": "execute_result"
    }
   ],
   "source": [
    "fedex"
   ]
  },
  {
   "cell_type": "code",
   "execution_count": null,
   "metadata": {
    "colab": {
     "base_uri": "https://localhost:8080/"
    },
    "id": "foks9OR5KUCO",
    "outputId": "df5a1c7f-54cd-4fd2-f295-09f2b749ff94"
   },
   "outputs": [
    {
     "name": "stdout",
     "output_type": "stream",
     "text": [
      "<class 'pandas.core.frame.DataFrame'>\n",
      "RangeIndex: 3604175 entries, 0 to 3604174\n",
      "Data columns (total 15 columns):\n",
      " #   Column                 Dtype  \n",
      "---  ------                 -----  \n",
      " 0   Year                   int64  \n",
      " 1   Month                  int64  \n",
      " 2   DayofMonth             int64  \n",
      " 3   DayOfWeek              int64  \n",
      " 4   Actual_Shipment_Time   float64\n",
      " 5   Planned_Shipment_Time  int64  \n",
      " 6   Planned_Delivery_Time  int64  \n",
      " 7   Carrier_Name           object \n",
      " 8   Carrier_Num            int64  \n",
      " 9   Planned_TimeofTravel   float64\n",
      " 10  Shipment_Delay         float64\n",
      " 11  Source                 object \n",
      " 12  Destination            object \n",
      " 13  Distance               int64  \n",
      " 14  Delivery_Status        float64\n",
      "dtypes: float64(4), int64(8), object(3)\n",
      "memory usage: 412.5+ MB\n"
     ]
    }
   ],
   "source": [
    "fedex.info()"
   ]
  },
  {
   "cell_type": "code",
   "execution_count": null,
   "metadata": {
    "colab": {
     "base_uri": "https://localhost:8080/"
    },
    "id": "WqcMkg35KT-5",
    "outputId": "b4e05f24-970b-4f3f-d5f9-1c6a6f7c9de2"
   },
   "outputs": [
    {
     "data": {
      "text/plain": [
       "4"
      ]
     },
     "execution_count": 7,
     "metadata": {},
     "output_type": "execute_result"
    }
   ],
   "source": [
    "fedex.duplicated().sum()"
   ]
  },
  {
   "cell_type": "code",
   "execution_count": null,
   "metadata": {
    "colab": {
     "base_uri": "https://localhost:8080/"
    },
    "id": "Eeh0fFQ-KT79",
    "outputId": "2b236c1f-bdf6-4e19-e267-305fdd835b30"
   },
   "outputs": [
    {
     "data": {
      "text/plain": [
       "Year                         0\n",
       "Month                        0\n",
       "DayofMonth                   0\n",
       "DayOfWeek                    0\n",
       "Actual_Shipment_Time     81602\n",
       "Planned_Shipment_Time        0\n",
       "Planned_Delivery_Time        0\n",
       "Carrier_Name                 0\n",
       "Carrier_Num                  0\n",
       "Planned_TimeofTravel       547\n",
       "Shipment_Delay           81602\n",
       "Source                       0\n",
       "Destination                  0\n",
       "Distance                     0\n",
       "Delivery_Status          81602\n",
       "dtype: int64"
      ]
     },
     "execution_count": 8,
     "metadata": {},
     "output_type": "execute_result"
    }
   ],
   "source": [
    "fedex.isnull().sum()"
   ]
  },
  {
   "cell_type": "code",
   "execution_count": null,
   "metadata": {
    "id": "f2zf14kxKT40"
   },
   "outputs": [],
   "source": [
    "fedex.dropna(inplace=True)\n",
    "fedex.drop_duplicates(inplace=True)"
   ]
  },
  {
   "cell_type": "code",
   "execution_count": null,
   "metadata": {
    "colab": {
     "base_uri": "https://localhost:8080/",
     "height": 488
    },
    "id": "OO5VOLidKT11",
    "outputId": "6c2f7c9f-6535-4579-a441-5a31ab7c4c7f"
   },
   "outputs": [
    {
     "data": {
      "text/html": [
       "\n",
       "  <div id=\"df-66cc198f-f301-465f-9e31-74bb93d998fa\">\n",
       "    <div class=\"colab-df-container\">\n",
       "      <div>\n",
       "<style scoped>\n",
       "    .dataframe tbody tr th:only-of-type {\n",
       "        vertical-align: middle;\n",
       "    }\n",
       "\n",
       "    .dataframe tbody tr th {\n",
       "        vertical-align: top;\n",
       "    }\n",
       "\n",
       "    .dataframe thead th {\n",
       "        text-align: right;\n",
       "    }\n",
       "</style>\n",
       "<table border=\"1\" class=\"dataframe\">\n",
       "  <thead>\n",
       "    <tr style=\"text-align: right;\">\n",
       "      <th></th>\n",
       "      <th>Year</th>\n",
       "      <th>Month</th>\n",
       "      <th>DayofMonth</th>\n",
       "      <th>DayOfWeek</th>\n",
       "      <th>Actual_Shipment_Time</th>\n",
       "      <th>Planned_Shipment_Time</th>\n",
       "      <th>Planned_Delivery_Time</th>\n",
       "      <th>Carrier_Name</th>\n",
       "      <th>Carrier_Num</th>\n",
       "      <th>Planned_TimeofTravel</th>\n",
       "      <th>Shipment_Delay</th>\n",
       "      <th>Source</th>\n",
       "      <th>Destination</th>\n",
       "      <th>Distance</th>\n",
       "      <th>Delivery_Status</th>\n",
       "    </tr>\n",
       "  </thead>\n",
       "  <tbody>\n",
       "    <tr>\n",
       "      <th>0</th>\n",
       "      <td>2008</td>\n",
       "      <td>1</td>\n",
       "      <td>3</td>\n",
       "      <td>4</td>\n",
       "      <td>2003.0</td>\n",
       "      <td>1955</td>\n",
       "      <td>2225</td>\n",
       "      <td>WN</td>\n",
       "      <td>335</td>\n",
       "      <td>150.0</td>\n",
       "      <td>8.0</td>\n",
       "      <td>IAD</td>\n",
       "      <td>TPA</td>\n",
       "      <td>810</td>\n",
       "      <td>0.0</td>\n",
       "    </tr>\n",
       "    <tr>\n",
       "      <th>1</th>\n",
       "      <td>2008</td>\n",
       "      <td>1</td>\n",
       "      <td>3</td>\n",
       "      <td>4</td>\n",
       "      <td>754.0</td>\n",
       "      <td>735</td>\n",
       "      <td>1000</td>\n",
       "      <td>WN</td>\n",
       "      <td>3231</td>\n",
       "      <td>145.0</td>\n",
       "      <td>19.0</td>\n",
       "      <td>IAD</td>\n",
       "      <td>TPA</td>\n",
       "      <td>810</td>\n",
       "      <td>1.0</td>\n",
       "    </tr>\n",
       "    <tr>\n",
       "      <th>2</th>\n",
       "      <td>2008</td>\n",
       "      <td>1</td>\n",
       "      <td>3</td>\n",
       "      <td>4</td>\n",
       "      <td>628.0</td>\n",
       "      <td>620</td>\n",
       "      <td>750</td>\n",
       "      <td>WN</td>\n",
       "      <td>448</td>\n",
       "      <td>90.0</td>\n",
       "      <td>8.0</td>\n",
       "      <td>IND</td>\n",
       "      <td>BWI</td>\n",
       "      <td>515</td>\n",
       "      <td>0.0</td>\n",
       "    </tr>\n",
       "    <tr>\n",
       "      <th>3</th>\n",
       "      <td>2008</td>\n",
       "      <td>1</td>\n",
       "      <td>3</td>\n",
       "      <td>4</td>\n",
       "      <td>926.0</td>\n",
       "      <td>930</td>\n",
       "      <td>1100</td>\n",
       "      <td>WN</td>\n",
       "      <td>1746</td>\n",
       "      <td>90.0</td>\n",
       "      <td>-4.0</td>\n",
       "      <td>IND</td>\n",
       "      <td>BWI</td>\n",
       "      <td>515</td>\n",
       "      <td>0.0</td>\n",
       "    </tr>\n",
       "    <tr>\n",
       "      <th>4</th>\n",
       "      <td>2008</td>\n",
       "      <td>1</td>\n",
       "      <td>3</td>\n",
       "      <td>4</td>\n",
       "      <td>1829.0</td>\n",
       "      <td>1755</td>\n",
       "      <td>1925</td>\n",
       "      <td>WN</td>\n",
       "      <td>3920</td>\n",
       "      <td>90.0</td>\n",
       "      <td>34.0</td>\n",
       "      <td>IND</td>\n",
       "      <td>BWI</td>\n",
       "      <td>515</td>\n",
       "      <td>1.0</td>\n",
       "    </tr>\n",
       "    <tr>\n",
       "      <th>...</th>\n",
       "      <td>...</td>\n",
       "      <td>...</td>\n",
       "      <td>...</td>\n",
       "      <td>...</td>\n",
       "      <td>...</td>\n",
       "      <td>...</td>\n",
       "      <td>...</td>\n",
       "      <td>...</td>\n",
       "      <td>...</td>\n",
       "      <td>...</td>\n",
       "      <td>...</td>\n",
       "      <td>...</td>\n",
       "      <td>...</td>\n",
       "      <td>...</td>\n",
       "      <td>...</td>\n",
       "    </tr>\n",
       "    <tr>\n",
       "      <th>3604170</th>\n",
       "      <td>2008</td>\n",
       "      <td>6</td>\n",
       "      <td>19</td>\n",
       "      <td>4</td>\n",
       "      <td>1059.0</td>\n",
       "      <td>1100</td>\n",
       "      <td>1256</td>\n",
       "      <td>DL</td>\n",
       "      <td>1547</td>\n",
       "      <td>236.0</td>\n",
       "      <td>-1.0</td>\n",
       "      <td>ATL</td>\n",
       "      <td>JAC</td>\n",
       "      <td>1572</td>\n",
       "      <td>0.0</td>\n",
       "    </tr>\n",
       "    <tr>\n",
       "      <th>3604171</th>\n",
       "      <td>2008</td>\n",
       "      <td>6</td>\n",
       "      <td>19</td>\n",
       "      <td>4</td>\n",
       "      <td>555.0</td>\n",
       "      <td>600</td>\n",
       "      <td>738</td>\n",
       "      <td>DL</td>\n",
       "      <td>1548</td>\n",
       "      <td>98.0</td>\n",
       "      <td>-5.0</td>\n",
       "      <td>RSW</td>\n",
       "      <td>ATL</td>\n",
       "      <td>515</td>\n",
       "      <td>0.0</td>\n",
       "    </tr>\n",
       "    <tr>\n",
       "      <th>3604172</th>\n",
       "      <td>2008</td>\n",
       "      <td>6</td>\n",
       "      <td>19</td>\n",
       "      <td>4</td>\n",
       "      <td>821.0</td>\n",
       "      <td>827</td>\n",
       "      <td>1003</td>\n",
       "      <td>DL</td>\n",
       "      <td>1548</td>\n",
       "      <td>96.0</td>\n",
       "      <td>-6.0</td>\n",
       "      <td>ATL</td>\n",
       "      <td>IND</td>\n",
       "      <td>432</td>\n",
       "      <td>0.0</td>\n",
       "    </tr>\n",
       "    <tr>\n",
       "      <th>3604173</th>\n",
       "      <td>2008</td>\n",
       "      <td>6</td>\n",
       "      <td>19</td>\n",
       "      <td>4</td>\n",
       "      <td>718.0</td>\n",
       "      <td>735</td>\n",
       "      <td>852</td>\n",
       "      <td>DL</td>\n",
       "      <td>1551</td>\n",
       "      <td>77.0</td>\n",
       "      <td>-17.0</td>\n",
       "      <td>CAE</td>\n",
       "      <td>ATL</td>\n",
       "      <td>191</td>\n",
       "      <td>0.0</td>\n",
       "    </tr>\n",
       "    <tr>\n",
       "      <th>3604174</th>\n",
       "      <td>2008</td>\n",
       "      <td>6</td>\n",
       "      <td>19</td>\n",
       "      <td>4</td>\n",
       "      <td>1127.0</td>\n",
       "      <td>951</td>\n",
       "      <td>1130</td>\n",
       "      <td>DL</td>\n",
       "      <td>1551</td>\n",
       "      <td>159.0</td>\n",
       "      <td>96.0</td>\n",
       "      <td>ATL</td>\n",
       "      <td>MSP</td>\n",
       "      <td>906</td>\n",
       "      <td>1.0</td>\n",
       "    </tr>\n",
       "  </tbody>\n",
       "</table>\n",
       "<p>3522163 rows × 15 columns</p>\n",
       "</div>\n",
       "      <button class=\"colab-df-convert\" onclick=\"convertToInteractive('df-66cc198f-f301-465f-9e31-74bb93d998fa')\"\n",
       "              title=\"Convert this dataframe to an interactive table.\"\n",
       "              style=\"display:none;\">\n",
       "        \n",
       "  <svg xmlns=\"http://www.w3.org/2000/svg\" height=\"24px\"viewBox=\"0 0 24 24\"\n",
       "       width=\"24px\">\n",
       "    <path d=\"M0 0h24v24H0V0z\" fill=\"none\"/>\n",
       "    <path d=\"M18.56 5.44l.94 2.06.94-2.06 2.06-.94-2.06-.94-.94-2.06-.94 2.06-2.06.94zm-11 1L8.5 8.5l.94-2.06 2.06-.94-2.06-.94L8.5 2.5l-.94 2.06-2.06.94zm10 10l.94 2.06.94-2.06 2.06-.94-2.06-.94-.94-2.06-.94 2.06-2.06.94z\"/><path d=\"M17.41 7.96l-1.37-1.37c-.4-.4-.92-.59-1.43-.59-.52 0-1.04.2-1.43.59L10.3 9.45l-7.72 7.72c-.78.78-.78 2.05 0 2.83L4 21.41c.39.39.9.59 1.41.59.51 0 1.02-.2 1.41-.59l7.78-7.78 2.81-2.81c.8-.78.8-2.07 0-2.86zM5.41 20L4 18.59l7.72-7.72 1.47 1.35L5.41 20z\"/>\n",
       "  </svg>\n",
       "      </button>\n",
       "      \n",
       "  <style>\n",
       "    .colab-df-container {\n",
       "      display:flex;\n",
       "      flex-wrap:wrap;\n",
       "      gap: 12px;\n",
       "    }\n",
       "\n",
       "    .colab-df-convert {\n",
       "      background-color: #E8F0FE;\n",
       "      border: none;\n",
       "      border-radius: 50%;\n",
       "      cursor: pointer;\n",
       "      display: none;\n",
       "      fill: #1967D2;\n",
       "      height: 32px;\n",
       "      padding: 0 0 0 0;\n",
       "      width: 32px;\n",
       "    }\n",
       "\n",
       "    .colab-df-convert:hover {\n",
       "      background-color: #E2EBFA;\n",
       "      box-shadow: 0px 1px 2px rgba(60, 64, 67, 0.3), 0px 1px 3px 1px rgba(60, 64, 67, 0.15);\n",
       "      fill: #174EA6;\n",
       "    }\n",
       "\n",
       "    [theme=dark] .colab-df-convert {\n",
       "      background-color: #3B4455;\n",
       "      fill: #D2E3FC;\n",
       "    }\n",
       "\n",
       "    [theme=dark] .colab-df-convert:hover {\n",
       "      background-color: #434B5C;\n",
       "      box-shadow: 0px 1px 3px 1px rgba(0, 0, 0, 0.15);\n",
       "      filter: drop-shadow(0px 1px 2px rgba(0, 0, 0, 0.3));\n",
       "      fill: #FFFFFF;\n",
       "    }\n",
       "  </style>\n",
       "\n",
       "      <script>\n",
       "        const buttonEl =\n",
       "          document.querySelector('#df-66cc198f-f301-465f-9e31-74bb93d998fa button.colab-df-convert');\n",
       "        buttonEl.style.display =\n",
       "          google.colab.kernel.accessAllowed ? 'block' : 'none';\n",
       "\n",
       "        async function convertToInteractive(key) {\n",
       "          const element = document.querySelector('#df-66cc198f-f301-465f-9e31-74bb93d998fa');\n",
       "          const dataTable =\n",
       "            await google.colab.kernel.invokeFunction('convertToInteractive',\n",
       "                                                     [key], {});\n",
       "          if (!dataTable) return;\n",
       "\n",
       "          const docLinkHtml = 'Like what you see? Visit the ' +\n",
       "            '<a target=\"_blank\" href=https://colab.research.google.com/notebooks/data_table.ipynb>data table notebook</a>'\n",
       "            + ' to learn more about interactive tables.';\n",
       "          element.innerHTML = '';\n",
       "          dataTable['output_type'] = 'display_data';\n",
       "          await google.colab.output.renderOutput(dataTable, element);\n",
       "          const docLink = document.createElement('div');\n",
       "          docLink.innerHTML = docLinkHtml;\n",
       "          element.appendChild(docLink);\n",
       "        }\n",
       "      </script>\n",
       "    </div>\n",
       "  </div>\n",
       "  "
      ],
      "text/plain": [
       "         Year  Month  DayofMonth  DayOfWeek  Actual_Shipment_Time  \\\n",
       "0        2008      1           3          4                2003.0   \n",
       "1        2008      1           3          4                 754.0   \n",
       "2        2008      1           3          4                 628.0   \n",
       "3        2008      1           3          4                 926.0   \n",
       "4        2008      1           3          4                1829.0   \n",
       "...       ...    ...         ...        ...                   ...   \n",
       "3604170  2008      6          19          4                1059.0   \n",
       "3604171  2008      6          19          4                 555.0   \n",
       "3604172  2008      6          19          4                 821.0   \n",
       "3604173  2008      6          19          4                 718.0   \n",
       "3604174  2008      6          19          4                1127.0   \n",
       "\n",
       "         Planned_Shipment_Time  Planned_Delivery_Time Carrier_Name  \\\n",
       "0                         1955                   2225           WN   \n",
       "1                          735                   1000           WN   \n",
       "2                          620                    750           WN   \n",
       "3                          930                   1100           WN   \n",
       "4                         1755                   1925           WN   \n",
       "...                        ...                    ...          ...   \n",
       "3604170                   1100                   1256           DL   \n",
       "3604171                    600                    738           DL   \n",
       "3604172                    827                   1003           DL   \n",
       "3604173                    735                    852           DL   \n",
       "3604174                    951                   1130           DL   \n",
       "\n",
       "         Carrier_Num  Planned_TimeofTravel  Shipment_Delay Source Destination  \\\n",
       "0                335                 150.0             8.0    IAD         TPA   \n",
       "1               3231                 145.0            19.0    IAD         TPA   \n",
       "2                448                  90.0             8.0    IND         BWI   \n",
       "3               1746                  90.0            -4.0    IND         BWI   \n",
       "4               3920                  90.0            34.0    IND         BWI   \n",
       "...              ...                   ...             ...    ...         ...   \n",
       "3604170         1547                 236.0            -1.0    ATL         JAC   \n",
       "3604171         1548                  98.0            -5.0    RSW         ATL   \n",
       "3604172         1548                  96.0            -6.0    ATL         IND   \n",
       "3604173         1551                  77.0           -17.0    CAE         ATL   \n",
       "3604174         1551                 159.0            96.0    ATL         MSP   \n",
       "\n",
       "         Distance  Delivery_Status  \n",
       "0             810              0.0  \n",
       "1             810              1.0  \n",
       "2             515              0.0  \n",
       "3             515              0.0  \n",
       "4             515              1.0  \n",
       "...           ...              ...  \n",
       "3604170      1572              0.0  \n",
       "3604171       515              0.0  \n",
       "3604172       432              0.0  \n",
       "3604173       191              0.0  \n",
       "3604174       906              1.0  \n",
       "\n",
       "[3522163 rows x 15 columns]"
      ]
     },
     "execution_count": 10,
     "metadata": {},
     "output_type": "execute_result"
    }
   ],
   "source": [
    "fedex"
   ]
  },
  {
   "cell_type": "code",
   "execution_count": null,
   "metadata": {
    "colab": {
     "base_uri": "https://localhost:8080/",
     "height": 488
    },
    "id": "EVDEs-Luz-w5",
    "outputId": "492faf99-70f5-44b4-fa14-c390e623d922"
   },
   "outputs": [
    {
     "data": {
      "text/html": [
       "\n",
       "  <div id=\"df-391be7fa-737d-43df-9ec1-9a058e0dcea2\">\n",
       "    <div class=\"colab-df-container\">\n",
       "      <div>\n",
       "<style scoped>\n",
       "    .dataframe tbody tr th:only-of-type {\n",
       "        vertical-align: middle;\n",
       "    }\n",
       "\n",
       "    .dataframe tbody tr th {\n",
       "        vertical-align: top;\n",
       "    }\n",
       "\n",
       "    .dataframe thead th {\n",
       "        text-align: right;\n",
       "    }\n",
       "</style>\n",
       "<table border=\"1\" class=\"dataframe\">\n",
       "  <thead>\n",
       "    <tr style=\"text-align: right;\">\n",
       "      <th></th>\n",
       "      <th>Year</th>\n",
       "      <th>Month</th>\n",
       "      <th>DayofMonth</th>\n",
       "      <th>DayOfWeek</th>\n",
       "      <th>Actual_Shipment_Time</th>\n",
       "      <th>Planned_Shipment_Time</th>\n",
       "      <th>Planned_Delivery_Time</th>\n",
       "      <th>Carrier_Name</th>\n",
       "      <th>Carrier_Num</th>\n",
       "      <th>Planned_TimeofTravel</th>\n",
       "      <th>Shipment_Delay</th>\n",
       "      <th>Source</th>\n",
       "      <th>Destination</th>\n",
       "      <th>Distance</th>\n",
       "      <th>Delivery_Status</th>\n",
       "    </tr>\n",
       "  </thead>\n",
       "  <tbody>\n",
       "    <tr>\n",
       "      <th>0</th>\n",
       "      <td>2008</td>\n",
       "      <td>1</td>\n",
       "      <td>3</td>\n",
       "      <td>4</td>\n",
       "      <td>2003.0</td>\n",
       "      <td>1955</td>\n",
       "      <td>2225</td>\n",
       "      <td>WN</td>\n",
       "      <td>335</td>\n",
       "      <td>150.0</td>\n",
       "      <td>8.0</td>\n",
       "      <td>IAD</td>\n",
       "      <td>TPA</td>\n",
       "      <td>810</td>\n",
       "      <td>0.0</td>\n",
       "    </tr>\n",
       "    <tr>\n",
       "      <th>1</th>\n",
       "      <td>2008</td>\n",
       "      <td>1</td>\n",
       "      <td>3</td>\n",
       "      <td>4</td>\n",
       "      <td>754.0</td>\n",
       "      <td>735</td>\n",
       "      <td>1000</td>\n",
       "      <td>WN</td>\n",
       "      <td>3231</td>\n",
       "      <td>145.0</td>\n",
       "      <td>19.0</td>\n",
       "      <td>IAD</td>\n",
       "      <td>TPA</td>\n",
       "      <td>810</td>\n",
       "      <td>1.0</td>\n",
       "    </tr>\n",
       "    <tr>\n",
       "      <th>2</th>\n",
       "      <td>2008</td>\n",
       "      <td>1</td>\n",
       "      <td>3</td>\n",
       "      <td>4</td>\n",
       "      <td>628.0</td>\n",
       "      <td>620</td>\n",
       "      <td>750</td>\n",
       "      <td>WN</td>\n",
       "      <td>448</td>\n",
       "      <td>90.0</td>\n",
       "      <td>8.0</td>\n",
       "      <td>IND</td>\n",
       "      <td>BWI</td>\n",
       "      <td>515</td>\n",
       "      <td>0.0</td>\n",
       "    </tr>\n",
       "    <tr>\n",
       "      <th>3</th>\n",
       "      <td>2008</td>\n",
       "      <td>1</td>\n",
       "      <td>3</td>\n",
       "      <td>4</td>\n",
       "      <td>926.0</td>\n",
       "      <td>930</td>\n",
       "      <td>1100</td>\n",
       "      <td>WN</td>\n",
       "      <td>1746</td>\n",
       "      <td>90.0</td>\n",
       "      <td>-4.0</td>\n",
       "      <td>IND</td>\n",
       "      <td>BWI</td>\n",
       "      <td>515</td>\n",
       "      <td>0.0</td>\n",
       "    </tr>\n",
       "    <tr>\n",
       "      <th>4</th>\n",
       "      <td>2008</td>\n",
       "      <td>1</td>\n",
       "      <td>3</td>\n",
       "      <td>4</td>\n",
       "      <td>1829.0</td>\n",
       "      <td>1755</td>\n",
       "      <td>1925</td>\n",
       "      <td>WN</td>\n",
       "      <td>3920</td>\n",
       "      <td>90.0</td>\n",
       "      <td>34.0</td>\n",
       "      <td>IND</td>\n",
       "      <td>BWI</td>\n",
       "      <td>515</td>\n",
       "      <td>1.0</td>\n",
       "    </tr>\n",
       "    <tr>\n",
       "      <th>...</th>\n",
       "      <td>...</td>\n",
       "      <td>...</td>\n",
       "      <td>...</td>\n",
       "      <td>...</td>\n",
       "      <td>...</td>\n",
       "      <td>...</td>\n",
       "      <td>...</td>\n",
       "      <td>...</td>\n",
       "      <td>...</td>\n",
       "      <td>...</td>\n",
       "      <td>...</td>\n",
       "      <td>...</td>\n",
       "      <td>...</td>\n",
       "      <td>...</td>\n",
       "      <td>...</td>\n",
       "    </tr>\n",
       "    <tr>\n",
       "      <th>3604170</th>\n",
       "      <td>2008</td>\n",
       "      <td>6</td>\n",
       "      <td>19</td>\n",
       "      <td>4</td>\n",
       "      <td>1059.0</td>\n",
       "      <td>1100</td>\n",
       "      <td>1256</td>\n",
       "      <td>DL</td>\n",
       "      <td>1547</td>\n",
       "      <td>236.0</td>\n",
       "      <td>-1.0</td>\n",
       "      <td>ATL</td>\n",
       "      <td>JAC</td>\n",
       "      <td>1572</td>\n",
       "      <td>0.0</td>\n",
       "    </tr>\n",
       "    <tr>\n",
       "      <th>3604171</th>\n",
       "      <td>2008</td>\n",
       "      <td>6</td>\n",
       "      <td>19</td>\n",
       "      <td>4</td>\n",
       "      <td>555.0</td>\n",
       "      <td>600</td>\n",
       "      <td>738</td>\n",
       "      <td>DL</td>\n",
       "      <td>1548</td>\n",
       "      <td>98.0</td>\n",
       "      <td>-5.0</td>\n",
       "      <td>RSW</td>\n",
       "      <td>ATL</td>\n",
       "      <td>515</td>\n",
       "      <td>0.0</td>\n",
       "    </tr>\n",
       "    <tr>\n",
       "      <th>3604172</th>\n",
       "      <td>2008</td>\n",
       "      <td>6</td>\n",
       "      <td>19</td>\n",
       "      <td>4</td>\n",
       "      <td>821.0</td>\n",
       "      <td>827</td>\n",
       "      <td>1003</td>\n",
       "      <td>DL</td>\n",
       "      <td>1548</td>\n",
       "      <td>96.0</td>\n",
       "      <td>-6.0</td>\n",
       "      <td>ATL</td>\n",
       "      <td>IND</td>\n",
       "      <td>432</td>\n",
       "      <td>0.0</td>\n",
       "    </tr>\n",
       "    <tr>\n",
       "      <th>3604173</th>\n",
       "      <td>2008</td>\n",
       "      <td>6</td>\n",
       "      <td>19</td>\n",
       "      <td>4</td>\n",
       "      <td>718.0</td>\n",
       "      <td>735</td>\n",
       "      <td>852</td>\n",
       "      <td>DL</td>\n",
       "      <td>1551</td>\n",
       "      <td>77.0</td>\n",
       "      <td>-17.0</td>\n",
       "      <td>CAE</td>\n",
       "      <td>ATL</td>\n",
       "      <td>191</td>\n",
       "      <td>0.0</td>\n",
       "    </tr>\n",
       "    <tr>\n",
       "      <th>3604174</th>\n",
       "      <td>2008</td>\n",
       "      <td>6</td>\n",
       "      <td>19</td>\n",
       "      <td>4</td>\n",
       "      <td>1127.0</td>\n",
       "      <td>951</td>\n",
       "      <td>1130</td>\n",
       "      <td>DL</td>\n",
       "      <td>1551</td>\n",
       "      <td>159.0</td>\n",
       "      <td>96.0</td>\n",
       "      <td>ATL</td>\n",
       "      <td>MSP</td>\n",
       "      <td>906</td>\n",
       "      <td>1.0</td>\n",
       "    </tr>\n",
       "  </tbody>\n",
       "</table>\n",
       "<p>3522163 rows × 15 columns</p>\n",
       "</div>\n",
       "      <button class=\"colab-df-convert\" onclick=\"convertToInteractive('df-391be7fa-737d-43df-9ec1-9a058e0dcea2')\"\n",
       "              title=\"Convert this dataframe to an interactive table.\"\n",
       "              style=\"display:none;\">\n",
       "        \n",
       "  <svg xmlns=\"http://www.w3.org/2000/svg\" height=\"24px\"viewBox=\"0 0 24 24\"\n",
       "       width=\"24px\">\n",
       "    <path d=\"M0 0h24v24H0V0z\" fill=\"none\"/>\n",
       "    <path d=\"M18.56 5.44l.94 2.06.94-2.06 2.06-.94-2.06-.94-.94-2.06-.94 2.06-2.06.94zm-11 1L8.5 8.5l.94-2.06 2.06-.94-2.06-.94L8.5 2.5l-.94 2.06-2.06.94zm10 10l.94 2.06.94-2.06 2.06-.94-2.06-.94-.94-2.06-.94 2.06-2.06.94z\"/><path d=\"M17.41 7.96l-1.37-1.37c-.4-.4-.92-.59-1.43-.59-.52 0-1.04.2-1.43.59L10.3 9.45l-7.72 7.72c-.78.78-.78 2.05 0 2.83L4 21.41c.39.39.9.59 1.41.59.51 0 1.02-.2 1.41-.59l7.78-7.78 2.81-2.81c.8-.78.8-2.07 0-2.86zM5.41 20L4 18.59l7.72-7.72 1.47 1.35L5.41 20z\"/>\n",
       "  </svg>\n",
       "      </button>\n",
       "      \n",
       "  <style>\n",
       "    .colab-df-container {\n",
       "      display:flex;\n",
       "      flex-wrap:wrap;\n",
       "      gap: 12px;\n",
       "    }\n",
       "\n",
       "    .colab-df-convert {\n",
       "      background-color: #E8F0FE;\n",
       "      border: none;\n",
       "      border-radius: 50%;\n",
       "      cursor: pointer;\n",
       "      display: none;\n",
       "      fill: #1967D2;\n",
       "      height: 32px;\n",
       "      padding: 0 0 0 0;\n",
       "      width: 32px;\n",
       "    }\n",
       "\n",
       "    .colab-df-convert:hover {\n",
       "      background-color: #E2EBFA;\n",
       "      box-shadow: 0px 1px 2px rgba(60, 64, 67, 0.3), 0px 1px 3px 1px rgba(60, 64, 67, 0.15);\n",
       "      fill: #174EA6;\n",
       "    }\n",
       "\n",
       "    [theme=dark] .colab-df-convert {\n",
       "      background-color: #3B4455;\n",
       "      fill: #D2E3FC;\n",
       "    }\n",
       "\n",
       "    [theme=dark] .colab-df-convert:hover {\n",
       "      background-color: #434B5C;\n",
       "      box-shadow: 0px 1px 3px 1px rgba(0, 0, 0, 0.15);\n",
       "      filter: drop-shadow(0px 1px 2px rgba(0, 0, 0, 0.3));\n",
       "      fill: #FFFFFF;\n",
       "    }\n",
       "  </style>\n",
       "\n",
       "      <script>\n",
       "        const buttonEl =\n",
       "          document.querySelector('#df-391be7fa-737d-43df-9ec1-9a058e0dcea2 button.colab-df-convert');\n",
       "        buttonEl.style.display =\n",
       "          google.colab.kernel.accessAllowed ? 'block' : 'none';\n",
       "\n",
       "        async function convertToInteractive(key) {\n",
       "          const element = document.querySelector('#df-391be7fa-737d-43df-9ec1-9a058e0dcea2');\n",
       "          const dataTable =\n",
       "            await google.colab.kernel.invokeFunction('convertToInteractive',\n",
       "                                                     [key], {});\n",
       "          if (!dataTable) return;\n",
       "\n",
       "          const docLinkHtml = 'Like what you see? Visit the ' +\n",
       "            '<a target=\"_blank\" href=https://colab.research.google.com/notebooks/data_table.ipynb>data table notebook</a>'\n",
       "            + ' to learn more about interactive tables.';\n",
       "          element.innerHTML = '';\n",
       "          dataTable['output_type'] = 'display_data';\n",
       "          await google.colab.output.renderOutput(dataTable, element);\n",
       "          const docLink = document.createElement('div');\n",
       "          docLink.innerHTML = docLinkHtml;\n",
       "          element.appendChild(docLink);\n",
       "        }\n",
       "      </script>\n",
       "    </div>\n",
       "  </div>\n",
       "  "
      ],
      "text/plain": [
       "         Year  Month  DayofMonth  DayOfWeek  Actual_Shipment_Time  \\\n",
       "0        2008      1           3          4                2003.0   \n",
       "1        2008      1           3          4                 754.0   \n",
       "2        2008      1           3          4                 628.0   \n",
       "3        2008      1           3          4                 926.0   \n",
       "4        2008      1           3          4                1829.0   \n",
       "...       ...    ...         ...        ...                   ...   \n",
       "3604170  2008      6          19          4                1059.0   \n",
       "3604171  2008      6          19          4                 555.0   \n",
       "3604172  2008      6          19          4                 821.0   \n",
       "3604173  2008      6          19          4                 718.0   \n",
       "3604174  2008      6          19          4                1127.0   \n",
       "\n",
       "         Planned_Shipment_Time  Planned_Delivery_Time Carrier_Name  \\\n",
       "0                         1955                   2225           WN   \n",
       "1                          735                   1000           WN   \n",
       "2                          620                    750           WN   \n",
       "3                          930                   1100           WN   \n",
       "4                         1755                   1925           WN   \n",
       "...                        ...                    ...          ...   \n",
       "3604170                   1100                   1256           DL   \n",
       "3604171                    600                    738           DL   \n",
       "3604172                    827                   1003           DL   \n",
       "3604173                    735                    852           DL   \n",
       "3604174                    951                   1130           DL   \n",
       "\n",
       "         Carrier_Num  Planned_TimeofTravel  Shipment_Delay Source Destination  \\\n",
       "0                335                 150.0             8.0    IAD         TPA   \n",
       "1               3231                 145.0            19.0    IAD         TPA   \n",
       "2                448                  90.0             8.0    IND         BWI   \n",
       "3               1746                  90.0            -4.0    IND         BWI   \n",
       "4               3920                  90.0            34.0    IND         BWI   \n",
       "...              ...                   ...             ...    ...         ...   \n",
       "3604170         1547                 236.0            -1.0    ATL         JAC   \n",
       "3604171         1548                  98.0            -5.0    RSW         ATL   \n",
       "3604172         1548                  96.0            -6.0    ATL         IND   \n",
       "3604173         1551                  77.0           -17.0    CAE         ATL   \n",
       "3604174         1551                 159.0            96.0    ATL         MSP   \n",
       "\n",
       "         Distance  Delivery_Status  \n",
       "0             810              0.0  \n",
       "1             810              1.0  \n",
       "2             515              0.0  \n",
       "3             515              0.0  \n",
       "4             515              1.0  \n",
       "...           ...              ...  \n",
       "3604170      1572              0.0  \n",
       "3604171       515              0.0  \n",
       "3604172       432              0.0  \n",
       "3604173       191              0.0  \n",
       "3604174       906              1.0  \n",
       "\n",
       "[3522163 rows x 15 columns]"
      ]
     },
     "execution_count": 11,
     "metadata": {},
     "output_type": "execute_result"
    }
   ],
   "source": [
    "fedex"
   ]
  },
  {
   "cell_type": "markdown",
   "metadata": {
    "id": "OJZq2cUQEZFo"
   },
   "source": [
    "# EDA(EXPLORATORY DATA ANALYSIS)"
   ]
  },
  {
   "cell_type": "code",
   "execution_count": null,
   "metadata": {
    "id": "52B0X-fQH0pC"
   },
   "outputs": [],
   "source": [
    "columns_to_convert = ['Actual_Shipment_Time', 'Planned_Shipment_Time','Planned_Delivery_Time']\n",
    "\n",
    "for column in columns_to_convert:\n",
    "    fedex[column] = fedex[column].astype(int).apply(lambda num: str(num).zfill(4))"
   ]
  },
  {
   "cell_type": "code",
   "execution_count": null,
   "metadata": {
    "id": "hRJcBSkdE9px"
   },
   "outputs": [],
   "source": [
    "fedex['Actual_Shipment_Time']=fedex['Actual_Shipment_Time'].astype(int)"
   ]
  },
  {
   "cell_type": "code",
   "execution_count": null,
   "metadata": {
    "id": "pIC-6VGxDucu"
   },
   "outputs": [],
   "source": [
    "#four_digit_dataset = [str(num).zfill(4) for num in dataset]\n",
    "fedex['Actual_Shipment_Time'] = [str(num).zfill(4) for num in fedex['Actual_Shipment_Time']]"
   ]
  },
  {
   "cell_type": "code",
   "execution_count": null,
   "metadata": {
    "colab": {
     "base_uri": "https://localhost:8080/",
     "height": 113
    },
    "id": "fzYrZSE7E-g4",
    "outputId": "5d6bae83-031f-4a01-8c62-5ecd66a54d00"
   },
   "outputs": [
    {
     "data": {
      "text/html": [
       "\n",
       "  <div id=\"df-024e9741-18a9-4d6c-8345-74012defa23b\">\n",
       "    <div class=\"colab-df-container\">\n",
       "      <div>\n",
       "<style scoped>\n",
       "    .dataframe tbody tr th:only-of-type {\n",
       "        vertical-align: middle;\n",
       "    }\n",
       "\n",
       "    .dataframe tbody tr th {\n",
       "        vertical-align: top;\n",
       "    }\n",
       "\n",
       "    .dataframe thead th {\n",
       "        text-align: right;\n",
       "    }\n",
       "</style>\n",
       "<table border=\"1\" class=\"dataframe\">\n",
       "  <thead>\n",
       "    <tr style=\"text-align: right;\">\n",
       "      <th></th>\n",
       "      <th>Year</th>\n",
       "      <th>Month</th>\n",
       "      <th>DayofMonth</th>\n",
       "      <th>DayOfWeek</th>\n",
       "      <th>Actual_Shipment_Time</th>\n",
       "      <th>Planned_Shipment_Time</th>\n",
       "      <th>Planned_Delivery_Time</th>\n",
       "      <th>Carrier_Name</th>\n",
       "      <th>Carrier_Num</th>\n",
       "      <th>Planned_TimeofTravel</th>\n",
       "      <th>Shipment_Delay</th>\n",
       "      <th>Source</th>\n",
       "      <th>Destination</th>\n",
       "      <th>Distance</th>\n",
       "      <th>Delivery_Status</th>\n",
       "    </tr>\n",
       "  </thead>\n",
       "  <tbody>\n",
       "  </tbody>\n",
       "</table>\n",
       "</div>\n",
       "      <button class=\"colab-df-convert\" onclick=\"convertToInteractive('df-024e9741-18a9-4d6c-8345-74012defa23b')\"\n",
       "              title=\"Convert this dataframe to an interactive table.\"\n",
       "              style=\"display:none;\">\n",
       "        \n",
       "  <svg xmlns=\"http://www.w3.org/2000/svg\" height=\"24px\"viewBox=\"0 0 24 24\"\n",
       "       width=\"24px\">\n",
       "    <path d=\"M0 0h24v24H0V0z\" fill=\"none\"/>\n",
       "    <path d=\"M18.56 5.44l.94 2.06.94-2.06 2.06-.94-2.06-.94-.94-2.06-.94 2.06-2.06.94zm-11 1L8.5 8.5l.94-2.06 2.06-.94-2.06-.94L8.5 2.5l-.94 2.06-2.06.94zm10 10l.94 2.06.94-2.06 2.06-.94-2.06-.94-.94-2.06-.94 2.06-2.06.94z\"/><path d=\"M17.41 7.96l-1.37-1.37c-.4-.4-.92-.59-1.43-.59-.52 0-1.04.2-1.43.59L10.3 9.45l-7.72 7.72c-.78.78-.78 2.05 0 2.83L4 21.41c.39.39.9.59 1.41.59.51 0 1.02-.2 1.41-.59l7.78-7.78 2.81-2.81c.8-.78.8-2.07 0-2.86zM5.41 20L4 18.59l7.72-7.72 1.47 1.35L5.41 20z\"/>\n",
       "  </svg>\n",
       "      </button>\n",
       "      \n",
       "  <style>\n",
       "    .colab-df-container {\n",
       "      display:flex;\n",
       "      flex-wrap:wrap;\n",
       "      gap: 12px;\n",
       "    }\n",
       "\n",
       "    .colab-df-convert {\n",
       "      background-color: #E8F0FE;\n",
       "      border: none;\n",
       "      border-radius: 50%;\n",
       "      cursor: pointer;\n",
       "      display: none;\n",
       "      fill: #1967D2;\n",
       "      height: 32px;\n",
       "      padding: 0 0 0 0;\n",
       "      width: 32px;\n",
       "    }\n",
       "\n",
       "    .colab-df-convert:hover {\n",
       "      background-color: #E2EBFA;\n",
       "      box-shadow: 0px 1px 2px rgba(60, 64, 67, 0.3), 0px 1px 3px 1px rgba(60, 64, 67, 0.15);\n",
       "      fill: #174EA6;\n",
       "    }\n",
       "\n",
       "    [theme=dark] .colab-df-convert {\n",
       "      background-color: #3B4455;\n",
       "      fill: #D2E3FC;\n",
       "    }\n",
       "\n",
       "    [theme=dark] .colab-df-convert:hover {\n",
       "      background-color: #434B5C;\n",
       "      box-shadow: 0px 1px 3px 1px rgba(0, 0, 0, 0.15);\n",
       "      filter: drop-shadow(0px 1px 2px rgba(0, 0, 0, 0.3));\n",
       "      fill: #FFFFFF;\n",
       "    }\n",
       "  </style>\n",
       "\n",
       "      <script>\n",
       "        const buttonEl =\n",
       "          document.querySelector('#df-024e9741-18a9-4d6c-8345-74012defa23b button.colab-df-convert');\n",
       "        buttonEl.style.display =\n",
       "          google.colab.kernel.accessAllowed ? 'block' : 'none';\n",
       "\n",
       "        async function convertToInteractive(key) {\n",
       "          const element = document.querySelector('#df-024e9741-18a9-4d6c-8345-74012defa23b');\n",
       "          const dataTable =\n",
       "            await google.colab.kernel.invokeFunction('convertToInteractive',\n",
       "                                                     [key], {});\n",
       "          if (!dataTable) return;\n",
       "\n",
       "          const docLinkHtml = 'Like what you see? Visit the ' +\n",
       "            '<a target=\"_blank\" href=https://colab.research.google.com/notebooks/data_table.ipynb>data table notebook</a>'\n",
       "            + ' to learn more about interactive tables.';\n",
       "          element.innerHTML = '';\n",
       "          dataTable['output_type'] = 'display_data';\n",
       "          await google.colab.output.renderOutput(dataTable, element);\n",
       "          const docLink = document.createElement('div');\n",
       "          docLink.innerHTML = docLinkHtml;\n",
       "          element.appendChild(docLink);\n",
       "        }\n",
       "      </script>\n",
       "    </div>\n",
       "  </div>\n",
       "  "
      ],
      "text/plain": [
       "Empty DataFrame\n",
       "Columns: [Year, Month, DayofMonth, DayOfWeek, Actual_Shipment_Time, Planned_Shipment_Time, Planned_Delivery_Time, Carrier_Name, Carrier_Num, Planned_TimeofTravel, Shipment_Delay, Source, Destination, Distance, Delivery_Status]\n",
       "Index: []"
      ]
     },
     "execution_count": 16,
     "metadata": {},
     "output_type": "execute_result"
    }
   ],
   "source": [
    "fedex[fedex['Actual_Shipment_Time'] == '47']"
   ]
  },
  {
   "cell_type": "code",
   "execution_count": null,
   "metadata": {
    "colab": {
     "base_uri": "https://localhost:8080/",
     "height": 53
    },
    "id": "AoRhJWNo0OOZ",
    "outputId": "89948028-a8bd-4fa5-9a01-48cb6856b22f"
   },
   "outputs": [],
   "source": []
  },
  {
   "cell_type": "code",
   "execution_count": null,
   "metadata": {
    "id": "AUL35zRz1apb"
   },
   "outputs": [],
   "source": [
    "fedex[['Actual_Shipment_Time','Planned_Shipment_Time'\t,'Planned_Delivery_Time']]=fedex[['Actual_Shipment_Time','Planned_Shipment_Time'\t,'Planned_Delivery_Time']].astype(str)"
   ]
  },
  {
   "cell_type": "code",
   "execution_count": null,
   "metadata": {
    "colab": {
     "base_uri": "https://localhost:8080/",
     "height": 53
    },
    "id": "-5nNRAwsZ59S",
    "outputId": "f040d786-62c2-4f1b-fc5e-1029d80e0648"
   },
   "outputs": [],
   "source": []
  },
  {
   "cell_type": "code",
   "execution_count": null,
   "metadata": {
    "colab": {
     "base_uri": "https://localhost:8080/",
     "height": 488
    },
    "id": "C5BMZBc_TymH",
    "outputId": "bc76222e-cd2e-443a-d545-986e98edac90"
   },
   "outputs": [
    {
     "data": {
      "text/html": [
       "\n",
       "  <div id=\"df-4e7b6a4a-d739-46f9-88e1-58cbb1e53032\">\n",
       "    <div class=\"colab-df-container\">\n",
       "      <div>\n",
       "<style scoped>\n",
       "    .dataframe tbody tr th:only-of-type {\n",
       "        vertical-align: middle;\n",
       "    }\n",
       "\n",
       "    .dataframe tbody tr th {\n",
       "        vertical-align: top;\n",
       "    }\n",
       "\n",
       "    .dataframe thead th {\n",
       "        text-align: right;\n",
       "    }\n",
       "</style>\n",
       "<table border=\"1\" class=\"dataframe\">\n",
       "  <thead>\n",
       "    <tr style=\"text-align: right;\">\n",
       "      <th></th>\n",
       "      <th>Year</th>\n",
       "      <th>Month</th>\n",
       "      <th>DayofMonth</th>\n",
       "      <th>DayOfWeek</th>\n",
       "      <th>Actual_Shipment_Time</th>\n",
       "      <th>Planned_Shipment_Time</th>\n",
       "      <th>Planned_Delivery_Time</th>\n",
       "      <th>Carrier_Name</th>\n",
       "      <th>Carrier_Num</th>\n",
       "      <th>Planned_TimeofTravel</th>\n",
       "      <th>Shipment_Delay</th>\n",
       "      <th>Source</th>\n",
       "      <th>Destination</th>\n",
       "      <th>Distance</th>\n",
       "      <th>Delivery_Status</th>\n",
       "    </tr>\n",
       "  </thead>\n",
       "  <tbody>\n",
       "    <tr>\n",
       "      <th>0</th>\n",
       "      <td>2008</td>\n",
       "      <td>1</td>\n",
       "      <td>3</td>\n",
       "      <td>4</td>\n",
       "      <td>2003</td>\n",
       "      <td>1955</td>\n",
       "      <td>2225</td>\n",
       "      <td>WN</td>\n",
       "      <td>335</td>\n",
       "      <td>150.0</td>\n",
       "      <td>8.0</td>\n",
       "      <td>IAD</td>\n",
       "      <td>TPA</td>\n",
       "      <td>810</td>\n",
       "      <td>0.0</td>\n",
       "    </tr>\n",
       "    <tr>\n",
       "      <th>1</th>\n",
       "      <td>2008</td>\n",
       "      <td>1</td>\n",
       "      <td>3</td>\n",
       "      <td>4</td>\n",
       "      <td>0754</td>\n",
       "      <td>0735</td>\n",
       "      <td>1000</td>\n",
       "      <td>WN</td>\n",
       "      <td>3231</td>\n",
       "      <td>145.0</td>\n",
       "      <td>19.0</td>\n",
       "      <td>IAD</td>\n",
       "      <td>TPA</td>\n",
       "      <td>810</td>\n",
       "      <td>1.0</td>\n",
       "    </tr>\n",
       "    <tr>\n",
       "      <th>2</th>\n",
       "      <td>2008</td>\n",
       "      <td>1</td>\n",
       "      <td>3</td>\n",
       "      <td>4</td>\n",
       "      <td>0628</td>\n",
       "      <td>0620</td>\n",
       "      <td>0750</td>\n",
       "      <td>WN</td>\n",
       "      <td>448</td>\n",
       "      <td>90.0</td>\n",
       "      <td>8.0</td>\n",
       "      <td>IND</td>\n",
       "      <td>BWI</td>\n",
       "      <td>515</td>\n",
       "      <td>0.0</td>\n",
       "    </tr>\n",
       "    <tr>\n",
       "      <th>3</th>\n",
       "      <td>2008</td>\n",
       "      <td>1</td>\n",
       "      <td>3</td>\n",
       "      <td>4</td>\n",
       "      <td>0926</td>\n",
       "      <td>0930</td>\n",
       "      <td>1100</td>\n",
       "      <td>WN</td>\n",
       "      <td>1746</td>\n",
       "      <td>90.0</td>\n",
       "      <td>-4.0</td>\n",
       "      <td>IND</td>\n",
       "      <td>BWI</td>\n",
       "      <td>515</td>\n",
       "      <td>0.0</td>\n",
       "    </tr>\n",
       "    <tr>\n",
       "      <th>4</th>\n",
       "      <td>2008</td>\n",
       "      <td>1</td>\n",
       "      <td>3</td>\n",
       "      <td>4</td>\n",
       "      <td>1829</td>\n",
       "      <td>1755</td>\n",
       "      <td>1925</td>\n",
       "      <td>WN</td>\n",
       "      <td>3920</td>\n",
       "      <td>90.0</td>\n",
       "      <td>34.0</td>\n",
       "      <td>IND</td>\n",
       "      <td>BWI</td>\n",
       "      <td>515</td>\n",
       "      <td>1.0</td>\n",
       "    </tr>\n",
       "    <tr>\n",
       "      <th>...</th>\n",
       "      <td>...</td>\n",
       "      <td>...</td>\n",
       "      <td>...</td>\n",
       "      <td>...</td>\n",
       "      <td>...</td>\n",
       "      <td>...</td>\n",
       "      <td>...</td>\n",
       "      <td>...</td>\n",
       "      <td>...</td>\n",
       "      <td>...</td>\n",
       "      <td>...</td>\n",
       "      <td>...</td>\n",
       "      <td>...</td>\n",
       "      <td>...</td>\n",
       "      <td>...</td>\n",
       "    </tr>\n",
       "    <tr>\n",
       "      <th>3604170</th>\n",
       "      <td>2008</td>\n",
       "      <td>6</td>\n",
       "      <td>19</td>\n",
       "      <td>4</td>\n",
       "      <td>1059</td>\n",
       "      <td>1100</td>\n",
       "      <td>1256</td>\n",
       "      <td>DL</td>\n",
       "      <td>1547</td>\n",
       "      <td>236.0</td>\n",
       "      <td>-1.0</td>\n",
       "      <td>ATL</td>\n",
       "      <td>JAC</td>\n",
       "      <td>1572</td>\n",
       "      <td>0.0</td>\n",
       "    </tr>\n",
       "    <tr>\n",
       "      <th>3604171</th>\n",
       "      <td>2008</td>\n",
       "      <td>6</td>\n",
       "      <td>19</td>\n",
       "      <td>4</td>\n",
       "      <td>0555</td>\n",
       "      <td>0600</td>\n",
       "      <td>0738</td>\n",
       "      <td>DL</td>\n",
       "      <td>1548</td>\n",
       "      <td>98.0</td>\n",
       "      <td>-5.0</td>\n",
       "      <td>RSW</td>\n",
       "      <td>ATL</td>\n",
       "      <td>515</td>\n",
       "      <td>0.0</td>\n",
       "    </tr>\n",
       "    <tr>\n",
       "      <th>3604172</th>\n",
       "      <td>2008</td>\n",
       "      <td>6</td>\n",
       "      <td>19</td>\n",
       "      <td>4</td>\n",
       "      <td>0821</td>\n",
       "      <td>0827</td>\n",
       "      <td>1003</td>\n",
       "      <td>DL</td>\n",
       "      <td>1548</td>\n",
       "      <td>96.0</td>\n",
       "      <td>-6.0</td>\n",
       "      <td>ATL</td>\n",
       "      <td>IND</td>\n",
       "      <td>432</td>\n",
       "      <td>0.0</td>\n",
       "    </tr>\n",
       "    <tr>\n",
       "      <th>3604173</th>\n",
       "      <td>2008</td>\n",
       "      <td>6</td>\n",
       "      <td>19</td>\n",
       "      <td>4</td>\n",
       "      <td>0718</td>\n",
       "      <td>0735</td>\n",
       "      <td>0852</td>\n",
       "      <td>DL</td>\n",
       "      <td>1551</td>\n",
       "      <td>77.0</td>\n",
       "      <td>-17.0</td>\n",
       "      <td>CAE</td>\n",
       "      <td>ATL</td>\n",
       "      <td>191</td>\n",
       "      <td>0.0</td>\n",
       "    </tr>\n",
       "    <tr>\n",
       "      <th>3604174</th>\n",
       "      <td>2008</td>\n",
       "      <td>6</td>\n",
       "      <td>19</td>\n",
       "      <td>4</td>\n",
       "      <td>1127</td>\n",
       "      <td>0951</td>\n",
       "      <td>1130</td>\n",
       "      <td>DL</td>\n",
       "      <td>1551</td>\n",
       "      <td>159.0</td>\n",
       "      <td>96.0</td>\n",
       "      <td>ATL</td>\n",
       "      <td>MSP</td>\n",
       "      <td>906</td>\n",
       "      <td>1.0</td>\n",
       "    </tr>\n",
       "  </tbody>\n",
       "</table>\n",
       "<p>3522163 rows × 15 columns</p>\n",
       "</div>\n",
       "      <button class=\"colab-df-convert\" onclick=\"convertToInteractive('df-4e7b6a4a-d739-46f9-88e1-58cbb1e53032')\"\n",
       "              title=\"Convert this dataframe to an interactive table.\"\n",
       "              style=\"display:none;\">\n",
       "        \n",
       "  <svg xmlns=\"http://www.w3.org/2000/svg\" height=\"24px\"viewBox=\"0 0 24 24\"\n",
       "       width=\"24px\">\n",
       "    <path d=\"M0 0h24v24H0V0z\" fill=\"none\"/>\n",
       "    <path d=\"M18.56 5.44l.94 2.06.94-2.06 2.06-.94-2.06-.94-.94-2.06-.94 2.06-2.06.94zm-11 1L8.5 8.5l.94-2.06 2.06-.94-2.06-.94L8.5 2.5l-.94 2.06-2.06.94zm10 10l.94 2.06.94-2.06 2.06-.94-2.06-.94-.94-2.06-.94 2.06-2.06.94z\"/><path d=\"M17.41 7.96l-1.37-1.37c-.4-.4-.92-.59-1.43-.59-.52 0-1.04.2-1.43.59L10.3 9.45l-7.72 7.72c-.78.78-.78 2.05 0 2.83L4 21.41c.39.39.9.59 1.41.59.51 0 1.02-.2 1.41-.59l7.78-7.78 2.81-2.81c.8-.78.8-2.07 0-2.86zM5.41 20L4 18.59l7.72-7.72 1.47 1.35L5.41 20z\"/>\n",
       "  </svg>\n",
       "      </button>\n",
       "      \n",
       "  <style>\n",
       "    .colab-df-container {\n",
       "      display:flex;\n",
       "      flex-wrap:wrap;\n",
       "      gap: 12px;\n",
       "    }\n",
       "\n",
       "    .colab-df-convert {\n",
       "      background-color: #E8F0FE;\n",
       "      border: none;\n",
       "      border-radius: 50%;\n",
       "      cursor: pointer;\n",
       "      display: none;\n",
       "      fill: #1967D2;\n",
       "      height: 32px;\n",
       "      padding: 0 0 0 0;\n",
       "      width: 32px;\n",
       "    }\n",
       "\n",
       "    .colab-df-convert:hover {\n",
       "      background-color: #E2EBFA;\n",
       "      box-shadow: 0px 1px 2px rgba(60, 64, 67, 0.3), 0px 1px 3px 1px rgba(60, 64, 67, 0.15);\n",
       "      fill: #174EA6;\n",
       "    }\n",
       "\n",
       "    [theme=dark] .colab-df-convert {\n",
       "      background-color: #3B4455;\n",
       "      fill: #D2E3FC;\n",
       "    }\n",
       "\n",
       "    [theme=dark] .colab-df-convert:hover {\n",
       "      background-color: #434B5C;\n",
       "      box-shadow: 0px 1px 3px 1px rgba(0, 0, 0, 0.15);\n",
       "      filter: drop-shadow(0px 1px 2px rgba(0, 0, 0, 0.3));\n",
       "      fill: #FFFFFF;\n",
       "    }\n",
       "  </style>\n",
       "\n",
       "      <script>\n",
       "        const buttonEl =\n",
       "          document.querySelector('#df-4e7b6a4a-d739-46f9-88e1-58cbb1e53032 button.colab-df-convert');\n",
       "        buttonEl.style.display =\n",
       "          google.colab.kernel.accessAllowed ? 'block' : 'none';\n",
       "\n",
       "        async function convertToInteractive(key) {\n",
       "          const element = document.querySelector('#df-4e7b6a4a-d739-46f9-88e1-58cbb1e53032');\n",
       "          const dataTable =\n",
       "            await google.colab.kernel.invokeFunction('convertToInteractive',\n",
       "                                                     [key], {});\n",
       "          if (!dataTable) return;\n",
       "\n",
       "          const docLinkHtml = 'Like what you see? Visit the ' +\n",
       "            '<a target=\"_blank\" href=https://colab.research.google.com/notebooks/data_table.ipynb>data table notebook</a>'\n",
       "            + ' to learn more about interactive tables.';\n",
       "          element.innerHTML = '';\n",
       "          dataTable['output_type'] = 'display_data';\n",
       "          await google.colab.output.renderOutput(dataTable, element);\n",
       "          const docLink = document.createElement('div');\n",
       "          docLink.innerHTML = docLinkHtml;\n",
       "          element.appendChild(docLink);\n",
       "        }\n",
       "      </script>\n",
       "    </div>\n",
       "  </div>\n",
       "  "
      ],
      "text/plain": [
       "         Year  Month  DayofMonth  DayOfWeek Actual_Shipment_Time  \\\n",
       "0        2008      1           3          4                 2003   \n",
       "1        2008      1           3          4                 0754   \n",
       "2        2008      1           3          4                 0628   \n",
       "3        2008      1           3          4                 0926   \n",
       "4        2008      1           3          4                 1829   \n",
       "...       ...    ...         ...        ...                  ...   \n",
       "3604170  2008      6          19          4                 1059   \n",
       "3604171  2008      6          19          4                 0555   \n",
       "3604172  2008      6          19          4                 0821   \n",
       "3604173  2008      6          19          4                 0718   \n",
       "3604174  2008      6          19          4                 1127   \n",
       "\n",
       "        Planned_Shipment_Time Planned_Delivery_Time Carrier_Name  Carrier_Num  \\\n",
       "0                        1955                  2225           WN          335   \n",
       "1                        0735                  1000           WN         3231   \n",
       "2                        0620                  0750           WN          448   \n",
       "3                        0930                  1100           WN         1746   \n",
       "4                        1755                  1925           WN         3920   \n",
       "...                       ...                   ...          ...          ...   \n",
       "3604170                  1100                  1256           DL         1547   \n",
       "3604171                  0600                  0738           DL         1548   \n",
       "3604172                  0827                  1003           DL         1548   \n",
       "3604173                  0735                  0852           DL         1551   \n",
       "3604174                  0951                  1130           DL         1551   \n",
       "\n",
       "         Planned_TimeofTravel  Shipment_Delay Source Destination  Distance  \\\n",
       "0                       150.0             8.0    IAD         TPA       810   \n",
       "1                       145.0            19.0    IAD         TPA       810   \n",
       "2                        90.0             8.0    IND         BWI       515   \n",
       "3                        90.0            -4.0    IND         BWI       515   \n",
       "4                        90.0            34.0    IND         BWI       515   \n",
       "...                       ...             ...    ...         ...       ...   \n",
       "3604170                 236.0            -1.0    ATL         JAC      1572   \n",
       "3604171                  98.0            -5.0    RSW         ATL       515   \n",
       "3604172                  96.0            -6.0    ATL         IND       432   \n",
       "3604173                  77.0           -17.0    CAE         ATL       191   \n",
       "3604174                 159.0            96.0    ATL         MSP       906   \n",
       "\n",
       "         Delivery_Status  \n",
       "0                    0.0  \n",
       "1                    1.0  \n",
       "2                    0.0  \n",
       "3                    0.0  \n",
       "4                    1.0  \n",
       "...                  ...  \n",
       "3604170              0.0  \n",
       "3604171              0.0  \n",
       "3604172              0.0  \n",
       "3604173              0.0  \n",
       "3604174              1.0  \n",
       "\n",
       "[3522163 rows x 15 columns]"
      ]
     },
     "execution_count": 20,
     "metadata": {},
     "output_type": "execute_result"
    }
   ],
   "source": [
    "fedex"
   ]
  },
  {
   "cell_type": "code",
   "execution_count": null,
   "metadata": {
    "colab": {
     "base_uri": "https://localhost:8080/",
     "height": 113
    },
    "id": "-_fNyNFNfE76",
    "outputId": "ef2830cf-2bd7-4cd9-f0bb-eb091e0178e0"
   },
   "outputs": [
    {
     "data": {
      "text/html": [
       "\n",
       "  <div id=\"df-e9e3415d-64d5-45ce-93f2-c016fae775e6\">\n",
       "    <div class=\"colab-df-container\">\n",
       "      <div>\n",
       "<style scoped>\n",
       "    .dataframe tbody tr th:only-of-type {\n",
       "        vertical-align: middle;\n",
       "    }\n",
       "\n",
       "    .dataframe tbody tr th {\n",
       "        vertical-align: top;\n",
       "    }\n",
       "\n",
       "    .dataframe thead th {\n",
       "        text-align: right;\n",
       "    }\n",
       "</style>\n",
       "<table border=\"1\" class=\"dataframe\">\n",
       "  <thead>\n",
       "    <tr style=\"text-align: right;\">\n",
       "      <th></th>\n",
       "      <th>Year</th>\n",
       "      <th>Month</th>\n",
       "      <th>DayofMonth</th>\n",
       "      <th>DayOfWeek</th>\n",
       "      <th>Actual_Shipment_Time</th>\n",
       "      <th>Planned_Shipment_Time</th>\n",
       "      <th>Planned_Delivery_Time</th>\n",
       "      <th>Carrier_Name</th>\n",
       "      <th>Carrier_Num</th>\n",
       "      <th>Planned_TimeofTravel</th>\n",
       "      <th>Shipment_Delay</th>\n",
       "      <th>Source</th>\n",
       "      <th>Destination</th>\n",
       "      <th>Distance</th>\n",
       "      <th>Delivery_Status</th>\n",
       "    </tr>\n",
       "  </thead>\n",
       "  <tbody>\n",
       "  </tbody>\n",
       "</table>\n",
       "</div>\n",
       "      <button class=\"colab-df-convert\" onclick=\"convertToInteractive('df-e9e3415d-64d5-45ce-93f2-c016fae775e6')\"\n",
       "              title=\"Convert this dataframe to an interactive table.\"\n",
       "              style=\"display:none;\">\n",
       "        \n",
       "  <svg xmlns=\"http://www.w3.org/2000/svg\" height=\"24px\"viewBox=\"0 0 24 24\"\n",
       "       width=\"24px\">\n",
       "    <path d=\"M0 0h24v24H0V0z\" fill=\"none\"/>\n",
       "    <path d=\"M18.56 5.44l.94 2.06.94-2.06 2.06-.94-2.06-.94-.94-2.06-.94 2.06-2.06.94zm-11 1L8.5 8.5l.94-2.06 2.06-.94-2.06-.94L8.5 2.5l-.94 2.06-2.06.94zm10 10l.94 2.06.94-2.06 2.06-.94-2.06-.94-.94-2.06-.94 2.06-2.06.94z\"/><path d=\"M17.41 7.96l-1.37-1.37c-.4-.4-.92-.59-1.43-.59-.52 0-1.04.2-1.43.59L10.3 9.45l-7.72 7.72c-.78.78-.78 2.05 0 2.83L4 21.41c.39.39.9.59 1.41.59.51 0 1.02-.2 1.41-.59l7.78-7.78 2.81-2.81c.8-.78.8-2.07 0-2.86zM5.41 20L4 18.59l7.72-7.72 1.47 1.35L5.41 20z\"/>\n",
       "  </svg>\n",
       "      </button>\n",
       "      \n",
       "  <style>\n",
       "    .colab-df-container {\n",
       "      display:flex;\n",
       "      flex-wrap:wrap;\n",
       "      gap: 12px;\n",
       "    }\n",
       "\n",
       "    .colab-df-convert {\n",
       "      background-color: #E8F0FE;\n",
       "      border: none;\n",
       "      border-radius: 50%;\n",
       "      cursor: pointer;\n",
       "      display: none;\n",
       "      fill: #1967D2;\n",
       "      height: 32px;\n",
       "      padding: 0 0 0 0;\n",
       "      width: 32px;\n",
       "    }\n",
       "\n",
       "    .colab-df-convert:hover {\n",
       "      background-color: #E2EBFA;\n",
       "      box-shadow: 0px 1px 2px rgba(60, 64, 67, 0.3), 0px 1px 3px 1px rgba(60, 64, 67, 0.15);\n",
       "      fill: #174EA6;\n",
       "    }\n",
       "\n",
       "    [theme=dark] .colab-df-convert {\n",
       "      background-color: #3B4455;\n",
       "      fill: #D2E3FC;\n",
       "    }\n",
       "\n",
       "    [theme=dark] .colab-df-convert:hover {\n",
       "      background-color: #434B5C;\n",
       "      box-shadow: 0px 1px 3px 1px rgba(0, 0, 0, 0.15);\n",
       "      filter: drop-shadow(0px 1px 2px rgba(0, 0, 0, 0.3));\n",
       "      fill: #FFFFFF;\n",
       "    }\n",
       "  </style>\n",
       "\n",
       "      <script>\n",
       "        const buttonEl =\n",
       "          document.querySelector('#df-e9e3415d-64d5-45ce-93f2-c016fae775e6 button.colab-df-convert');\n",
       "        buttonEl.style.display =\n",
       "          google.colab.kernel.accessAllowed ? 'block' : 'none';\n",
       "\n",
       "        async function convertToInteractive(key) {\n",
       "          const element = document.querySelector('#df-e9e3415d-64d5-45ce-93f2-c016fae775e6');\n",
       "          const dataTable =\n",
       "            await google.colab.kernel.invokeFunction('convertToInteractive',\n",
       "                                                     [key], {});\n",
       "          if (!dataTable) return;\n",
       "\n",
       "          const docLinkHtml = 'Like what you see? Visit the ' +\n",
       "            '<a target=\"_blank\" href=https://colab.research.google.com/notebooks/data_table.ipynb>data table notebook</a>'\n",
       "            + ' to learn more about interactive tables.';\n",
       "          element.innerHTML = '';\n",
       "          dataTable['output_type'] = 'display_data';\n",
       "          await google.colab.output.renderOutput(dataTable, element);\n",
       "          const docLink = document.createElement('div');\n",
       "          docLink.innerHTML = docLinkHtml;\n",
       "          element.appendChild(docLink);\n",
       "        }\n",
       "      </script>\n",
       "    </div>\n",
       "  </div>\n",
       "  "
      ],
      "text/plain": [
       "Empty DataFrame\n",
       "Columns: [Year, Month, DayofMonth, DayOfWeek, Actual_Shipment_Time, Planned_Shipment_Time, Planned_Delivery_Time, Carrier_Name, Carrier_Num, Planned_TimeofTravel, Shipment_Delay, Source, Destination, Distance, Delivery_Status]\n",
       "Index: []"
      ]
     },
     "execution_count": 21,
     "metadata": {},
     "output_type": "execute_result"
    }
   ],
   "source": [
    "fedex[fedex.Actual_Shipment_Time=='24.0']"
   ]
  },
  {
   "cell_type": "code",
   "execution_count": null,
   "metadata": {
    "id": "euTd7PJOfUgH"
   },
   "outputs": [],
   "source": [
    "fedex.drop(fedex[fedex.Actual_Shipment_Time=='24.0'].index,inplace=True)\n",
    "fedex.drop(fedex[fedex.Planned_Shipment_Time=='24.0'].index,inplace=True)\n"
   ]
  },
  {
   "cell_type": "code",
   "execution_count": null,
   "metadata": {
    "colab": {
     "base_uri": "https://localhost:8080/"
    },
    "id": "ePrfDNzO50Hf",
    "outputId": "e1223a45-76e7-4f7f-be2d-f1008743ad32"
   },
   "outputs": [
    {
     "data": {
      "text/plain": [
       "0          2003\n",
       "1          0754\n",
       "2          0628\n",
       "3          0926\n",
       "4          1829\n",
       "           ... \n",
       "3604170    1059\n",
       "3604171    0555\n",
       "3604172    0821\n",
       "3604173    0718\n",
       "3604174    1127\n",
       "Name: Actual_Shipment_Time, Length: 3522163, dtype: object"
      ]
     },
     "execution_count": 23,
     "metadata": {},
     "output_type": "execute_result"
    }
   ],
   "source": [
    "fedex.Actual_Shipment_Time"
   ]
  },
  {
   "cell_type": "code",
   "execution_count": null,
   "metadata": {
    "id": "tBIsAittdJTL"
   },
   "outputs": [],
   "source": [
    "fedex.Actual_Shipment_Time=pd.to_datetime(fedex.Actual_Shipment_Time,format='%H%M%S')\n",
    "fedex.Planned_Shipment_Time=pd.to_datetime(fedex.Planned_Shipment_Time,format='%H%M%S')\n",
    "fedex.Planned_Delivery_Time=pd.to_datetime(fedex.Planned_Delivery_Time,format='%H%M%S')"
   ]
  },
  {
   "cell_type": "code",
   "execution_count": null,
   "metadata": {
    "colab": {
     "base_uri": "https://localhost:8080/",
     "height": 53
    },
    "id": "bnusLNCfJHOd",
    "outputId": "e47a4f6f-4daa-4efa-d54d-cf712aa09615"
   },
   "outputs": [],
   "source": []
  },
  {
   "cell_type": "code",
   "execution_count": null,
   "metadata": {
    "colab": {
     "base_uri": "https://localhost:8080/",
     "height": 488
    },
    "id": "2n-BHYC1dVV3",
    "outputId": "296083d9-137c-4054-93de-73c5cefc8782"
   },
   "outputs": [
    {
     "data": {
      "text/html": [
       "\n",
       "  <div id=\"df-12ccbf08-2fe7-4d98-b080-b9710e5d1433\">\n",
       "    <div class=\"colab-df-container\">\n",
       "      <div>\n",
       "<style scoped>\n",
       "    .dataframe tbody tr th:only-of-type {\n",
       "        vertical-align: middle;\n",
       "    }\n",
       "\n",
       "    .dataframe tbody tr th {\n",
       "        vertical-align: top;\n",
       "    }\n",
       "\n",
       "    .dataframe thead th {\n",
       "        text-align: right;\n",
       "    }\n",
       "</style>\n",
       "<table border=\"1\" class=\"dataframe\">\n",
       "  <thead>\n",
       "    <tr style=\"text-align: right;\">\n",
       "      <th></th>\n",
       "      <th>Year</th>\n",
       "      <th>Month</th>\n",
       "      <th>DayofMonth</th>\n",
       "      <th>DayOfWeek</th>\n",
       "      <th>Actual_Shipment_Time</th>\n",
       "      <th>Planned_Shipment_Time</th>\n",
       "      <th>Planned_Delivery_Time</th>\n",
       "      <th>Carrier_Name</th>\n",
       "      <th>Carrier_Num</th>\n",
       "      <th>Planned_TimeofTravel</th>\n",
       "      <th>Shipment_Delay</th>\n",
       "      <th>Source</th>\n",
       "      <th>Destination</th>\n",
       "      <th>Distance</th>\n",
       "      <th>Delivery_Status</th>\n",
       "    </tr>\n",
       "  </thead>\n",
       "  <tbody>\n",
       "    <tr>\n",
       "      <th>0</th>\n",
       "      <td>2008</td>\n",
       "      <td>1</td>\n",
       "      <td>3</td>\n",
       "      <td>4</td>\n",
       "      <td>1900-01-01 20:00:03</td>\n",
       "      <td>1900-01-01 19:05:05</td>\n",
       "      <td>1900-01-01 22:02:05</td>\n",
       "      <td>WN</td>\n",
       "      <td>335</td>\n",
       "      <td>150.0</td>\n",
       "      <td>8.0</td>\n",
       "      <td>IAD</td>\n",
       "      <td>TPA</td>\n",
       "      <td>810</td>\n",
       "      <td>0.0</td>\n",
       "    </tr>\n",
       "    <tr>\n",
       "      <th>1</th>\n",
       "      <td>2008</td>\n",
       "      <td>1</td>\n",
       "      <td>3</td>\n",
       "      <td>4</td>\n",
       "      <td>1900-01-01 07:05:04</td>\n",
       "      <td>1900-01-01 07:03:05</td>\n",
       "      <td>1900-01-01 10:00:00</td>\n",
       "      <td>WN</td>\n",
       "      <td>3231</td>\n",
       "      <td>145.0</td>\n",
       "      <td>19.0</td>\n",
       "      <td>IAD</td>\n",
       "      <td>TPA</td>\n",
       "      <td>810</td>\n",
       "      <td>1.0</td>\n",
       "    </tr>\n",
       "    <tr>\n",
       "      <th>2</th>\n",
       "      <td>2008</td>\n",
       "      <td>1</td>\n",
       "      <td>3</td>\n",
       "      <td>4</td>\n",
       "      <td>1900-01-01 06:02:08</td>\n",
       "      <td>1900-01-01 06:02:00</td>\n",
       "      <td>1900-01-01 07:05:00</td>\n",
       "      <td>WN</td>\n",
       "      <td>448</td>\n",
       "      <td>90.0</td>\n",
       "      <td>8.0</td>\n",
       "      <td>IND</td>\n",
       "      <td>BWI</td>\n",
       "      <td>515</td>\n",
       "      <td>0.0</td>\n",
       "    </tr>\n",
       "    <tr>\n",
       "      <th>3</th>\n",
       "      <td>2008</td>\n",
       "      <td>1</td>\n",
       "      <td>3</td>\n",
       "      <td>4</td>\n",
       "      <td>1900-01-01 09:02:06</td>\n",
       "      <td>1900-01-01 09:03:00</td>\n",
       "      <td>1900-01-01 11:00:00</td>\n",
       "      <td>WN</td>\n",
       "      <td>1746</td>\n",
       "      <td>90.0</td>\n",
       "      <td>-4.0</td>\n",
       "      <td>IND</td>\n",
       "      <td>BWI</td>\n",
       "      <td>515</td>\n",
       "      <td>0.0</td>\n",
       "    </tr>\n",
       "    <tr>\n",
       "      <th>4</th>\n",
       "      <td>2008</td>\n",
       "      <td>1</td>\n",
       "      <td>3</td>\n",
       "      <td>4</td>\n",
       "      <td>1900-01-01 18:02:09</td>\n",
       "      <td>1900-01-01 17:05:05</td>\n",
       "      <td>1900-01-01 19:02:05</td>\n",
       "      <td>WN</td>\n",
       "      <td>3920</td>\n",
       "      <td>90.0</td>\n",
       "      <td>34.0</td>\n",
       "      <td>IND</td>\n",
       "      <td>BWI</td>\n",
       "      <td>515</td>\n",
       "      <td>1.0</td>\n",
       "    </tr>\n",
       "    <tr>\n",
       "      <th>...</th>\n",
       "      <td>...</td>\n",
       "      <td>...</td>\n",
       "      <td>...</td>\n",
       "      <td>...</td>\n",
       "      <td>...</td>\n",
       "      <td>...</td>\n",
       "      <td>...</td>\n",
       "      <td>...</td>\n",
       "      <td>...</td>\n",
       "      <td>...</td>\n",
       "      <td>...</td>\n",
       "      <td>...</td>\n",
       "      <td>...</td>\n",
       "      <td>...</td>\n",
       "      <td>...</td>\n",
       "    </tr>\n",
       "    <tr>\n",
       "      <th>3604170</th>\n",
       "      <td>2008</td>\n",
       "      <td>6</td>\n",
       "      <td>19</td>\n",
       "      <td>4</td>\n",
       "      <td>1900-01-01 10:05:09</td>\n",
       "      <td>1900-01-01 11:00:00</td>\n",
       "      <td>1900-01-01 12:05:06</td>\n",
       "      <td>DL</td>\n",
       "      <td>1547</td>\n",
       "      <td>236.0</td>\n",
       "      <td>-1.0</td>\n",
       "      <td>ATL</td>\n",
       "      <td>JAC</td>\n",
       "      <td>1572</td>\n",
       "      <td>0.0</td>\n",
       "    </tr>\n",
       "    <tr>\n",
       "      <th>3604171</th>\n",
       "      <td>2008</td>\n",
       "      <td>6</td>\n",
       "      <td>19</td>\n",
       "      <td>4</td>\n",
       "      <td>1900-01-01 05:05:05</td>\n",
       "      <td>1900-01-01 06:00:00</td>\n",
       "      <td>1900-01-01 07:03:08</td>\n",
       "      <td>DL</td>\n",
       "      <td>1548</td>\n",
       "      <td>98.0</td>\n",
       "      <td>-5.0</td>\n",
       "      <td>RSW</td>\n",
       "      <td>ATL</td>\n",
       "      <td>515</td>\n",
       "      <td>0.0</td>\n",
       "    </tr>\n",
       "    <tr>\n",
       "      <th>3604172</th>\n",
       "      <td>2008</td>\n",
       "      <td>6</td>\n",
       "      <td>19</td>\n",
       "      <td>4</td>\n",
       "      <td>1900-01-01 08:02:01</td>\n",
       "      <td>1900-01-01 08:02:07</td>\n",
       "      <td>1900-01-01 10:00:03</td>\n",
       "      <td>DL</td>\n",
       "      <td>1548</td>\n",
       "      <td>96.0</td>\n",
       "      <td>-6.0</td>\n",
       "      <td>ATL</td>\n",
       "      <td>IND</td>\n",
       "      <td>432</td>\n",
       "      <td>0.0</td>\n",
       "    </tr>\n",
       "    <tr>\n",
       "      <th>3604173</th>\n",
       "      <td>2008</td>\n",
       "      <td>6</td>\n",
       "      <td>19</td>\n",
       "      <td>4</td>\n",
       "      <td>1900-01-01 07:01:08</td>\n",
       "      <td>1900-01-01 07:03:05</td>\n",
       "      <td>1900-01-01 08:05:02</td>\n",
       "      <td>DL</td>\n",
       "      <td>1551</td>\n",
       "      <td>77.0</td>\n",
       "      <td>-17.0</td>\n",
       "      <td>CAE</td>\n",
       "      <td>ATL</td>\n",
       "      <td>191</td>\n",
       "      <td>0.0</td>\n",
       "    </tr>\n",
       "    <tr>\n",
       "      <th>3604174</th>\n",
       "      <td>2008</td>\n",
       "      <td>6</td>\n",
       "      <td>19</td>\n",
       "      <td>4</td>\n",
       "      <td>1900-01-01 11:02:07</td>\n",
       "      <td>1900-01-01 09:05:01</td>\n",
       "      <td>1900-01-01 11:03:00</td>\n",
       "      <td>DL</td>\n",
       "      <td>1551</td>\n",
       "      <td>159.0</td>\n",
       "      <td>96.0</td>\n",
       "      <td>ATL</td>\n",
       "      <td>MSP</td>\n",
       "      <td>906</td>\n",
       "      <td>1.0</td>\n",
       "    </tr>\n",
       "  </tbody>\n",
       "</table>\n",
       "<p>3522163 rows × 15 columns</p>\n",
       "</div>\n",
       "      <button class=\"colab-df-convert\" onclick=\"convertToInteractive('df-12ccbf08-2fe7-4d98-b080-b9710e5d1433')\"\n",
       "              title=\"Convert this dataframe to an interactive table.\"\n",
       "              style=\"display:none;\">\n",
       "        \n",
       "  <svg xmlns=\"http://www.w3.org/2000/svg\" height=\"24px\"viewBox=\"0 0 24 24\"\n",
       "       width=\"24px\">\n",
       "    <path d=\"M0 0h24v24H0V0z\" fill=\"none\"/>\n",
       "    <path d=\"M18.56 5.44l.94 2.06.94-2.06 2.06-.94-2.06-.94-.94-2.06-.94 2.06-2.06.94zm-11 1L8.5 8.5l.94-2.06 2.06-.94-2.06-.94L8.5 2.5l-.94 2.06-2.06.94zm10 10l.94 2.06.94-2.06 2.06-.94-2.06-.94-.94-2.06-.94 2.06-2.06.94z\"/><path d=\"M17.41 7.96l-1.37-1.37c-.4-.4-.92-.59-1.43-.59-.52 0-1.04.2-1.43.59L10.3 9.45l-7.72 7.72c-.78.78-.78 2.05 0 2.83L4 21.41c.39.39.9.59 1.41.59.51 0 1.02-.2 1.41-.59l7.78-7.78 2.81-2.81c.8-.78.8-2.07 0-2.86zM5.41 20L4 18.59l7.72-7.72 1.47 1.35L5.41 20z\"/>\n",
       "  </svg>\n",
       "      </button>\n",
       "      \n",
       "  <style>\n",
       "    .colab-df-container {\n",
       "      display:flex;\n",
       "      flex-wrap:wrap;\n",
       "      gap: 12px;\n",
       "    }\n",
       "\n",
       "    .colab-df-convert {\n",
       "      background-color: #E8F0FE;\n",
       "      border: none;\n",
       "      border-radius: 50%;\n",
       "      cursor: pointer;\n",
       "      display: none;\n",
       "      fill: #1967D2;\n",
       "      height: 32px;\n",
       "      padding: 0 0 0 0;\n",
       "      width: 32px;\n",
       "    }\n",
       "\n",
       "    .colab-df-convert:hover {\n",
       "      background-color: #E2EBFA;\n",
       "      box-shadow: 0px 1px 2px rgba(60, 64, 67, 0.3), 0px 1px 3px 1px rgba(60, 64, 67, 0.15);\n",
       "      fill: #174EA6;\n",
       "    }\n",
       "\n",
       "    [theme=dark] .colab-df-convert {\n",
       "      background-color: #3B4455;\n",
       "      fill: #D2E3FC;\n",
       "    }\n",
       "\n",
       "    [theme=dark] .colab-df-convert:hover {\n",
       "      background-color: #434B5C;\n",
       "      box-shadow: 0px 1px 3px 1px rgba(0, 0, 0, 0.15);\n",
       "      filter: drop-shadow(0px 1px 2px rgba(0, 0, 0, 0.3));\n",
       "      fill: #FFFFFF;\n",
       "    }\n",
       "  </style>\n",
       "\n",
       "      <script>\n",
       "        const buttonEl =\n",
       "          document.querySelector('#df-12ccbf08-2fe7-4d98-b080-b9710e5d1433 button.colab-df-convert');\n",
       "        buttonEl.style.display =\n",
       "          google.colab.kernel.accessAllowed ? 'block' : 'none';\n",
       "\n",
       "        async function convertToInteractive(key) {\n",
       "          const element = document.querySelector('#df-12ccbf08-2fe7-4d98-b080-b9710e5d1433');\n",
       "          const dataTable =\n",
       "            await google.colab.kernel.invokeFunction('convertToInteractive',\n",
       "                                                     [key], {});\n",
       "          if (!dataTable) return;\n",
       "\n",
       "          const docLinkHtml = 'Like what you see? Visit the ' +\n",
       "            '<a target=\"_blank\" href=https://colab.research.google.com/notebooks/data_table.ipynb>data table notebook</a>'\n",
       "            + ' to learn more about interactive tables.';\n",
       "          element.innerHTML = '';\n",
       "          dataTable['output_type'] = 'display_data';\n",
       "          await google.colab.output.renderOutput(dataTable, element);\n",
       "          const docLink = document.createElement('div');\n",
       "          docLink.innerHTML = docLinkHtml;\n",
       "          element.appendChild(docLink);\n",
       "        }\n",
       "      </script>\n",
       "    </div>\n",
       "  </div>\n",
       "  "
      ],
      "text/plain": [
       "         Year  Month  DayofMonth  DayOfWeek Actual_Shipment_Time  \\\n",
       "0        2008      1           3          4  1900-01-01 20:00:03   \n",
       "1        2008      1           3          4  1900-01-01 07:05:04   \n",
       "2        2008      1           3          4  1900-01-01 06:02:08   \n",
       "3        2008      1           3          4  1900-01-01 09:02:06   \n",
       "4        2008      1           3          4  1900-01-01 18:02:09   \n",
       "...       ...    ...         ...        ...                  ...   \n",
       "3604170  2008      6          19          4  1900-01-01 10:05:09   \n",
       "3604171  2008      6          19          4  1900-01-01 05:05:05   \n",
       "3604172  2008      6          19          4  1900-01-01 08:02:01   \n",
       "3604173  2008      6          19          4  1900-01-01 07:01:08   \n",
       "3604174  2008      6          19          4  1900-01-01 11:02:07   \n",
       "\n",
       "        Planned_Shipment_Time Planned_Delivery_Time Carrier_Name  Carrier_Num  \\\n",
       "0         1900-01-01 19:05:05   1900-01-01 22:02:05           WN          335   \n",
       "1         1900-01-01 07:03:05   1900-01-01 10:00:00           WN         3231   \n",
       "2         1900-01-01 06:02:00   1900-01-01 07:05:00           WN          448   \n",
       "3         1900-01-01 09:03:00   1900-01-01 11:00:00           WN         1746   \n",
       "4         1900-01-01 17:05:05   1900-01-01 19:02:05           WN         3920   \n",
       "...                       ...                   ...          ...          ...   \n",
       "3604170   1900-01-01 11:00:00   1900-01-01 12:05:06           DL         1547   \n",
       "3604171   1900-01-01 06:00:00   1900-01-01 07:03:08           DL         1548   \n",
       "3604172   1900-01-01 08:02:07   1900-01-01 10:00:03           DL         1548   \n",
       "3604173   1900-01-01 07:03:05   1900-01-01 08:05:02           DL         1551   \n",
       "3604174   1900-01-01 09:05:01   1900-01-01 11:03:00           DL         1551   \n",
       "\n",
       "         Planned_TimeofTravel  Shipment_Delay Source Destination  Distance  \\\n",
       "0                       150.0             8.0    IAD         TPA       810   \n",
       "1                       145.0            19.0    IAD         TPA       810   \n",
       "2                        90.0             8.0    IND         BWI       515   \n",
       "3                        90.0            -4.0    IND         BWI       515   \n",
       "4                        90.0            34.0    IND         BWI       515   \n",
       "...                       ...             ...    ...         ...       ...   \n",
       "3604170                 236.0            -1.0    ATL         JAC      1572   \n",
       "3604171                  98.0            -5.0    RSW         ATL       515   \n",
       "3604172                  96.0            -6.0    ATL         IND       432   \n",
       "3604173                  77.0           -17.0    CAE         ATL       191   \n",
       "3604174                 159.0            96.0    ATL         MSP       906   \n",
       "\n",
       "         Delivery_Status  \n",
       "0                    0.0  \n",
       "1                    1.0  \n",
       "2                    0.0  \n",
       "3                    0.0  \n",
       "4                    1.0  \n",
       "...                  ...  \n",
       "3604170              0.0  \n",
       "3604171              0.0  \n",
       "3604172              0.0  \n",
       "3604173              0.0  \n",
       "3604174              1.0  \n",
       "\n",
       "[3522163 rows x 15 columns]"
      ]
     },
     "execution_count": 26,
     "metadata": {},
     "output_type": "execute_result"
    }
   ],
   "source": [
    "fedex"
   ]
  },
  {
   "cell_type": "code",
   "execution_count": null,
   "metadata": {
    "id": "3D2S6oijjzMu"
   },
   "outputs": [],
   "source": [
    "fedex['Actual_Shipment_hour']=(pd.to_datetime(fedex.Actual_Shipment_Time).dt.hour)\n",
    "fedex['Planned_Shipment_hour']=(pd.to_datetime(fedex.Planned_Shipment_Time).dt.hour)\n",
    "fedex['Planned_Delivery_hour']=(pd.to_datetime(fedex.Planned_Delivery_Time).dt.hour)"
   ]
  },
  {
   "cell_type": "code",
   "execution_count": null,
   "metadata": {
    "colab": {
     "base_uri": "https://localhost:8080/",
     "height": 488
    },
    "id": "TTN1MSLdjb5N",
    "outputId": "4ca3ca7f-fa0f-4468-a164-570de3dabb72"
   },
   "outputs": [
    {
     "data": {
      "text/html": [
       "\n",
       "  <div id=\"df-5ffc7b10-2445-413c-b200-5db0338c22bf\">\n",
       "    <div class=\"colab-df-container\">\n",
       "      <div>\n",
       "<style scoped>\n",
       "    .dataframe tbody tr th:only-of-type {\n",
       "        vertical-align: middle;\n",
       "    }\n",
       "\n",
       "    .dataframe tbody tr th {\n",
       "        vertical-align: top;\n",
       "    }\n",
       "\n",
       "    .dataframe thead th {\n",
       "        text-align: right;\n",
       "    }\n",
       "</style>\n",
       "<table border=\"1\" class=\"dataframe\">\n",
       "  <thead>\n",
       "    <tr style=\"text-align: right;\">\n",
       "      <th></th>\n",
       "      <th>Year</th>\n",
       "      <th>Month</th>\n",
       "      <th>DayofMonth</th>\n",
       "      <th>DayOfWeek</th>\n",
       "      <th>Actual_Shipment_Time</th>\n",
       "      <th>Planned_Shipment_Time</th>\n",
       "      <th>Planned_Delivery_Time</th>\n",
       "      <th>Carrier_Name</th>\n",
       "      <th>Carrier_Num</th>\n",
       "      <th>Planned_TimeofTravel</th>\n",
       "      <th>Shipment_Delay</th>\n",
       "      <th>Source</th>\n",
       "      <th>Destination</th>\n",
       "      <th>Distance</th>\n",
       "      <th>Delivery_Status</th>\n",
       "      <th>Actual_Shipment_hour</th>\n",
       "      <th>Planned_Shipment_hour</th>\n",
       "      <th>Planned_Delivery_hour</th>\n",
       "    </tr>\n",
       "  </thead>\n",
       "  <tbody>\n",
       "    <tr>\n",
       "      <th>0</th>\n",
       "      <td>2008</td>\n",
       "      <td>1</td>\n",
       "      <td>3</td>\n",
       "      <td>4</td>\n",
       "      <td>1900-01-01 20:00:03</td>\n",
       "      <td>1900-01-01 19:05:05</td>\n",
       "      <td>1900-01-01 22:02:05</td>\n",
       "      <td>WN</td>\n",
       "      <td>335</td>\n",
       "      <td>150.0</td>\n",
       "      <td>8.0</td>\n",
       "      <td>IAD</td>\n",
       "      <td>TPA</td>\n",
       "      <td>810</td>\n",
       "      <td>0.0</td>\n",
       "      <td>20</td>\n",
       "      <td>19</td>\n",
       "      <td>22</td>\n",
       "    </tr>\n",
       "    <tr>\n",
       "      <th>1</th>\n",
       "      <td>2008</td>\n",
       "      <td>1</td>\n",
       "      <td>3</td>\n",
       "      <td>4</td>\n",
       "      <td>1900-01-01 07:05:04</td>\n",
       "      <td>1900-01-01 07:03:05</td>\n",
       "      <td>1900-01-01 10:00:00</td>\n",
       "      <td>WN</td>\n",
       "      <td>3231</td>\n",
       "      <td>145.0</td>\n",
       "      <td>19.0</td>\n",
       "      <td>IAD</td>\n",
       "      <td>TPA</td>\n",
       "      <td>810</td>\n",
       "      <td>1.0</td>\n",
       "      <td>7</td>\n",
       "      <td>7</td>\n",
       "      <td>10</td>\n",
       "    </tr>\n",
       "    <tr>\n",
       "      <th>2</th>\n",
       "      <td>2008</td>\n",
       "      <td>1</td>\n",
       "      <td>3</td>\n",
       "      <td>4</td>\n",
       "      <td>1900-01-01 06:02:08</td>\n",
       "      <td>1900-01-01 06:02:00</td>\n",
       "      <td>1900-01-01 07:05:00</td>\n",
       "      <td>WN</td>\n",
       "      <td>448</td>\n",
       "      <td>90.0</td>\n",
       "      <td>8.0</td>\n",
       "      <td>IND</td>\n",
       "      <td>BWI</td>\n",
       "      <td>515</td>\n",
       "      <td>0.0</td>\n",
       "      <td>6</td>\n",
       "      <td>6</td>\n",
       "      <td>7</td>\n",
       "    </tr>\n",
       "    <tr>\n",
       "      <th>3</th>\n",
       "      <td>2008</td>\n",
       "      <td>1</td>\n",
       "      <td>3</td>\n",
       "      <td>4</td>\n",
       "      <td>1900-01-01 09:02:06</td>\n",
       "      <td>1900-01-01 09:03:00</td>\n",
       "      <td>1900-01-01 11:00:00</td>\n",
       "      <td>WN</td>\n",
       "      <td>1746</td>\n",
       "      <td>90.0</td>\n",
       "      <td>-4.0</td>\n",
       "      <td>IND</td>\n",
       "      <td>BWI</td>\n",
       "      <td>515</td>\n",
       "      <td>0.0</td>\n",
       "      <td>9</td>\n",
       "      <td>9</td>\n",
       "      <td>11</td>\n",
       "    </tr>\n",
       "    <tr>\n",
       "      <th>4</th>\n",
       "      <td>2008</td>\n",
       "      <td>1</td>\n",
       "      <td>3</td>\n",
       "      <td>4</td>\n",
       "      <td>1900-01-01 18:02:09</td>\n",
       "      <td>1900-01-01 17:05:05</td>\n",
       "      <td>1900-01-01 19:02:05</td>\n",
       "      <td>WN</td>\n",
       "      <td>3920</td>\n",
       "      <td>90.0</td>\n",
       "      <td>34.0</td>\n",
       "      <td>IND</td>\n",
       "      <td>BWI</td>\n",
       "      <td>515</td>\n",
       "      <td>1.0</td>\n",
       "      <td>18</td>\n",
       "      <td>17</td>\n",
       "      <td>19</td>\n",
       "    </tr>\n",
       "    <tr>\n",
       "      <th>...</th>\n",
       "      <td>...</td>\n",
       "      <td>...</td>\n",
       "      <td>...</td>\n",
       "      <td>...</td>\n",
       "      <td>...</td>\n",
       "      <td>...</td>\n",
       "      <td>...</td>\n",
       "      <td>...</td>\n",
       "      <td>...</td>\n",
       "      <td>...</td>\n",
       "      <td>...</td>\n",
       "      <td>...</td>\n",
       "      <td>...</td>\n",
       "      <td>...</td>\n",
       "      <td>...</td>\n",
       "      <td>...</td>\n",
       "      <td>...</td>\n",
       "      <td>...</td>\n",
       "    </tr>\n",
       "    <tr>\n",
       "      <th>3604170</th>\n",
       "      <td>2008</td>\n",
       "      <td>6</td>\n",
       "      <td>19</td>\n",
       "      <td>4</td>\n",
       "      <td>1900-01-01 10:05:09</td>\n",
       "      <td>1900-01-01 11:00:00</td>\n",
       "      <td>1900-01-01 12:05:06</td>\n",
       "      <td>DL</td>\n",
       "      <td>1547</td>\n",
       "      <td>236.0</td>\n",
       "      <td>-1.0</td>\n",
       "      <td>ATL</td>\n",
       "      <td>JAC</td>\n",
       "      <td>1572</td>\n",
       "      <td>0.0</td>\n",
       "      <td>10</td>\n",
       "      <td>11</td>\n",
       "      <td>12</td>\n",
       "    </tr>\n",
       "    <tr>\n",
       "      <th>3604171</th>\n",
       "      <td>2008</td>\n",
       "      <td>6</td>\n",
       "      <td>19</td>\n",
       "      <td>4</td>\n",
       "      <td>1900-01-01 05:05:05</td>\n",
       "      <td>1900-01-01 06:00:00</td>\n",
       "      <td>1900-01-01 07:03:08</td>\n",
       "      <td>DL</td>\n",
       "      <td>1548</td>\n",
       "      <td>98.0</td>\n",
       "      <td>-5.0</td>\n",
       "      <td>RSW</td>\n",
       "      <td>ATL</td>\n",
       "      <td>515</td>\n",
       "      <td>0.0</td>\n",
       "      <td>5</td>\n",
       "      <td>6</td>\n",
       "      <td>7</td>\n",
       "    </tr>\n",
       "    <tr>\n",
       "      <th>3604172</th>\n",
       "      <td>2008</td>\n",
       "      <td>6</td>\n",
       "      <td>19</td>\n",
       "      <td>4</td>\n",
       "      <td>1900-01-01 08:02:01</td>\n",
       "      <td>1900-01-01 08:02:07</td>\n",
       "      <td>1900-01-01 10:00:03</td>\n",
       "      <td>DL</td>\n",
       "      <td>1548</td>\n",
       "      <td>96.0</td>\n",
       "      <td>-6.0</td>\n",
       "      <td>ATL</td>\n",
       "      <td>IND</td>\n",
       "      <td>432</td>\n",
       "      <td>0.0</td>\n",
       "      <td>8</td>\n",
       "      <td>8</td>\n",
       "      <td>10</td>\n",
       "    </tr>\n",
       "    <tr>\n",
       "      <th>3604173</th>\n",
       "      <td>2008</td>\n",
       "      <td>6</td>\n",
       "      <td>19</td>\n",
       "      <td>4</td>\n",
       "      <td>1900-01-01 07:01:08</td>\n",
       "      <td>1900-01-01 07:03:05</td>\n",
       "      <td>1900-01-01 08:05:02</td>\n",
       "      <td>DL</td>\n",
       "      <td>1551</td>\n",
       "      <td>77.0</td>\n",
       "      <td>-17.0</td>\n",
       "      <td>CAE</td>\n",
       "      <td>ATL</td>\n",
       "      <td>191</td>\n",
       "      <td>0.0</td>\n",
       "      <td>7</td>\n",
       "      <td>7</td>\n",
       "      <td>8</td>\n",
       "    </tr>\n",
       "    <tr>\n",
       "      <th>3604174</th>\n",
       "      <td>2008</td>\n",
       "      <td>6</td>\n",
       "      <td>19</td>\n",
       "      <td>4</td>\n",
       "      <td>1900-01-01 11:02:07</td>\n",
       "      <td>1900-01-01 09:05:01</td>\n",
       "      <td>1900-01-01 11:03:00</td>\n",
       "      <td>DL</td>\n",
       "      <td>1551</td>\n",
       "      <td>159.0</td>\n",
       "      <td>96.0</td>\n",
       "      <td>ATL</td>\n",
       "      <td>MSP</td>\n",
       "      <td>906</td>\n",
       "      <td>1.0</td>\n",
       "      <td>11</td>\n",
       "      <td>9</td>\n",
       "      <td>11</td>\n",
       "    </tr>\n",
       "  </tbody>\n",
       "</table>\n",
       "<p>3522163 rows × 18 columns</p>\n",
       "</div>\n",
       "      <button class=\"colab-df-convert\" onclick=\"convertToInteractive('df-5ffc7b10-2445-413c-b200-5db0338c22bf')\"\n",
       "              title=\"Convert this dataframe to an interactive table.\"\n",
       "              style=\"display:none;\">\n",
       "        \n",
       "  <svg xmlns=\"http://www.w3.org/2000/svg\" height=\"24px\"viewBox=\"0 0 24 24\"\n",
       "       width=\"24px\">\n",
       "    <path d=\"M0 0h24v24H0V0z\" fill=\"none\"/>\n",
       "    <path d=\"M18.56 5.44l.94 2.06.94-2.06 2.06-.94-2.06-.94-.94-2.06-.94 2.06-2.06.94zm-11 1L8.5 8.5l.94-2.06 2.06-.94-2.06-.94L8.5 2.5l-.94 2.06-2.06.94zm10 10l.94 2.06.94-2.06 2.06-.94-2.06-.94-.94-2.06-.94 2.06-2.06.94z\"/><path d=\"M17.41 7.96l-1.37-1.37c-.4-.4-.92-.59-1.43-.59-.52 0-1.04.2-1.43.59L10.3 9.45l-7.72 7.72c-.78.78-.78 2.05 0 2.83L4 21.41c.39.39.9.59 1.41.59.51 0 1.02-.2 1.41-.59l7.78-7.78 2.81-2.81c.8-.78.8-2.07 0-2.86zM5.41 20L4 18.59l7.72-7.72 1.47 1.35L5.41 20z\"/>\n",
       "  </svg>\n",
       "      </button>\n",
       "      \n",
       "  <style>\n",
       "    .colab-df-container {\n",
       "      display:flex;\n",
       "      flex-wrap:wrap;\n",
       "      gap: 12px;\n",
       "    }\n",
       "\n",
       "    .colab-df-convert {\n",
       "      background-color: #E8F0FE;\n",
       "      border: none;\n",
       "      border-radius: 50%;\n",
       "      cursor: pointer;\n",
       "      display: none;\n",
       "      fill: #1967D2;\n",
       "      height: 32px;\n",
       "      padding: 0 0 0 0;\n",
       "      width: 32px;\n",
       "    }\n",
       "\n",
       "    .colab-df-convert:hover {\n",
       "      background-color: #E2EBFA;\n",
       "      box-shadow: 0px 1px 2px rgba(60, 64, 67, 0.3), 0px 1px 3px 1px rgba(60, 64, 67, 0.15);\n",
       "      fill: #174EA6;\n",
       "    }\n",
       "\n",
       "    [theme=dark] .colab-df-convert {\n",
       "      background-color: #3B4455;\n",
       "      fill: #D2E3FC;\n",
       "    }\n",
       "\n",
       "    [theme=dark] .colab-df-convert:hover {\n",
       "      background-color: #434B5C;\n",
       "      box-shadow: 0px 1px 3px 1px rgba(0, 0, 0, 0.15);\n",
       "      filter: drop-shadow(0px 1px 2px rgba(0, 0, 0, 0.3));\n",
       "      fill: #FFFFFF;\n",
       "    }\n",
       "  </style>\n",
       "\n",
       "      <script>\n",
       "        const buttonEl =\n",
       "          document.querySelector('#df-5ffc7b10-2445-413c-b200-5db0338c22bf button.colab-df-convert');\n",
       "        buttonEl.style.display =\n",
       "          google.colab.kernel.accessAllowed ? 'block' : 'none';\n",
       "\n",
       "        async function convertToInteractive(key) {\n",
       "          const element = document.querySelector('#df-5ffc7b10-2445-413c-b200-5db0338c22bf');\n",
       "          const dataTable =\n",
       "            await google.colab.kernel.invokeFunction('convertToInteractive',\n",
       "                                                     [key], {});\n",
       "          if (!dataTable) return;\n",
       "\n",
       "          const docLinkHtml = 'Like what you see? Visit the ' +\n",
       "            '<a target=\"_blank\" href=https://colab.research.google.com/notebooks/data_table.ipynb>data table notebook</a>'\n",
       "            + ' to learn more about interactive tables.';\n",
       "          element.innerHTML = '';\n",
       "          dataTable['output_type'] = 'display_data';\n",
       "          await google.colab.output.renderOutput(dataTable, element);\n",
       "          const docLink = document.createElement('div');\n",
       "          docLink.innerHTML = docLinkHtml;\n",
       "          element.appendChild(docLink);\n",
       "        }\n",
       "      </script>\n",
       "    </div>\n",
       "  </div>\n",
       "  "
      ],
      "text/plain": [
       "         Year  Month  DayofMonth  DayOfWeek Actual_Shipment_Time  \\\n",
       "0        2008      1           3          4  1900-01-01 20:00:03   \n",
       "1        2008      1           3          4  1900-01-01 07:05:04   \n",
       "2        2008      1           3          4  1900-01-01 06:02:08   \n",
       "3        2008      1           3          4  1900-01-01 09:02:06   \n",
       "4        2008      1           3          4  1900-01-01 18:02:09   \n",
       "...       ...    ...         ...        ...                  ...   \n",
       "3604170  2008      6          19          4  1900-01-01 10:05:09   \n",
       "3604171  2008      6          19          4  1900-01-01 05:05:05   \n",
       "3604172  2008      6          19          4  1900-01-01 08:02:01   \n",
       "3604173  2008      6          19          4  1900-01-01 07:01:08   \n",
       "3604174  2008      6          19          4  1900-01-01 11:02:07   \n",
       "\n",
       "        Planned_Shipment_Time Planned_Delivery_Time Carrier_Name  Carrier_Num  \\\n",
       "0         1900-01-01 19:05:05   1900-01-01 22:02:05           WN          335   \n",
       "1         1900-01-01 07:03:05   1900-01-01 10:00:00           WN         3231   \n",
       "2         1900-01-01 06:02:00   1900-01-01 07:05:00           WN          448   \n",
       "3         1900-01-01 09:03:00   1900-01-01 11:00:00           WN         1746   \n",
       "4         1900-01-01 17:05:05   1900-01-01 19:02:05           WN         3920   \n",
       "...                       ...                   ...          ...          ...   \n",
       "3604170   1900-01-01 11:00:00   1900-01-01 12:05:06           DL         1547   \n",
       "3604171   1900-01-01 06:00:00   1900-01-01 07:03:08           DL         1548   \n",
       "3604172   1900-01-01 08:02:07   1900-01-01 10:00:03           DL         1548   \n",
       "3604173   1900-01-01 07:03:05   1900-01-01 08:05:02           DL         1551   \n",
       "3604174   1900-01-01 09:05:01   1900-01-01 11:03:00           DL         1551   \n",
       "\n",
       "         Planned_TimeofTravel  Shipment_Delay Source Destination  Distance  \\\n",
       "0                       150.0             8.0    IAD         TPA       810   \n",
       "1                       145.0            19.0    IAD         TPA       810   \n",
       "2                        90.0             8.0    IND         BWI       515   \n",
       "3                        90.0            -4.0    IND         BWI       515   \n",
       "4                        90.0            34.0    IND         BWI       515   \n",
       "...                       ...             ...    ...         ...       ...   \n",
       "3604170                 236.0            -1.0    ATL         JAC      1572   \n",
       "3604171                  98.0            -5.0    RSW         ATL       515   \n",
       "3604172                  96.0            -6.0    ATL         IND       432   \n",
       "3604173                  77.0           -17.0    CAE         ATL       191   \n",
       "3604174                 159.0            96.0    ATL         MSP       906   \n",
       "\n",
       "         Delivery_Status  Actual_Shipment_hour  Planned_Shipment_hour  \\\n",
       "0                    0.0                    20                     19   \n",
       "1                    1.0                     7                      7   \n",
       "2                    0.0                     6                      6   \n",
       "3                    0.0                     9                      9   \n",
       "4                    1.0                    18                     17   \n",
       "...                  ...                   ...                    ...   \n",
       "3604170              0.0                    10                     11   \n",
       "3604171              0.0                     5                      6   \n",
       "3604172              0.0                     8                      8   \n",
       "3604173              0.0                     7                      7   \n",
       "3604174              1.0                    11                      9   \n",
       "\n",
       "         Planned_Delivery_hour  \n",
       "0                           22  \n",
       "1                           10  \n",
       "2                            7  \n",
       "3                           11  \n",
       "4                           19  \n",
       "...                        ...  \n",
       "3604170                     12  \n",
       "3604171                      7  \n",
       "3604172                     10  \n",
       "3604173                      8  \n",
       "3604174                     11  \n",
       "\n",
       "[3522163 rows x 18 columns]"
      ]
     },
     "execution_count": 28,
     "metadata": {},
     "output_type": "execute_result"
    }
   ],
   "source": [
    "fedex"
   ]
  },
  {
   "cell_type": "code",
   "execution_count": null,
   "metadata": {
    "id": "KMD73byKtBjM"
   },
   "outputs": [],
   "source": [
    "fedex.Actual_Shipment_Time=fedex['Actual_Shipment_hour']\n",
    "fedex.Planned_Shipment_Time=fedex['Planned_Shipment_hour']\n",
    "fedex.Planned_Delivery_Time=fedex['Planned_Delivery_hour']"
   ]
  },
  {
   "cell_type": "code",
   "execution_count": null,
   "metadata": {
    "colab": {
     "base_uri": "https://localhost:8080/"
    },
    "id": "9Hmsdhwi-1I9",
    "outputId": "2fb1bcb4-21c5-4365-84df-ab453ccfd0a7"
   },
   "outputs": [
    {
     "data": {
      "text/plain": [
       "5    600025\n",
       "3    599850\n",
       "6    597655\n",
       "1    588366\n",
       "4    587711\n",
       "2    548556\n",
       "Name: Month, dtype: int64"
      ]
     },
     "execution_count": 30,
     "metadata": {},
     "output_type": "execute_result"
    }
   ],
   "source": [
    "fedex['Month'].value_counts()"
   ]
  },
  {
   "cell_type": "code",
   "execution_count": null,
   "metadata": {
    "colab": {
     "base_uri": "https://localhost:8080/"
    },
    "id": "cnQxskYg_b9_",
    "outputId": "e5a9e468-44d5-4aca-8928-feceec1d76ac"
   },
   "outputs": [
    {
     "data": {
      "text/plain": [
       "0.0    2804071\n",
       "1.0     718092\n",
       "Name: Delivery_Status, dtype: int64"
      ]
     },
     "execution_count": 31,
     "metadata": {},
     "output_type": "execute_result"
    }
   ],
   "source": [
    "fedex['Delivery_Status'].value_counts()"
   ]
  },
  {
   "cell_type": "code",
   "execution_count": null,
   "metadata": {
    "colab": {
     "base_uri": "https://localhost:8080/"
    },
    "id": "xoO4E0b3KTy9",
    "outputId": "594efb21-f7e4-42e1-b0d0-92f509df17f8"
   },
   "outputs": [
    {
     "data": {
      "text/plain": [
       "Year                        1\n",
       "Month                       6\n",
       "DayofMonth                 31\n",
       "DayOfWeek                   7\n",
       "Actual_Shipment_Time       24\n",
       "Planned_Shipment_Time      24\n",
       "Planned_Delivery_Time      24\n",
       "Carrier_Name               20\n",
       "Carrier_Num              7338\n",
       "Planned_TimeofTravel      498\n",
       "Shipment_Delay            997\n",
       "Source                    297\n",
       "Destination               299\n",
       "Distance                 1420\n",
       "Delivery_Status             2\n",
       "Actual_Shipment_hour       24\n",
       "Planned_Shipment_hour      24\n",
       "Planned_Delivery_hour      24\n",
       "dtype: int64"
      ]
     },
     "execution_count": 32,
     "metadata": {},
     "output_type": "execute_result"
    }
   ],
   "source": [
    "fedex.nunique()"
   ]
  },
  {
   "cell_type": "code",
   "execution_count": null,
   "metadata": {
    "id": "T3hbe2oeATRJ"
   },
   "outputs": [],
   "source": [
    "aa=pd.to_datetime(fedex.Year,format='%H%M')"
   ]
  },
  {
   "cell_type": "code",
   "execution_count": null,
   "metadata": {
    "colab": {
     "base_uri": "https://localhost:8080/"
    },
    "id": "40zezbwqAryg",
    "outputId": "e30eb54e-d0da-4063-b8c4-fa32ddf2da6c"
   },
   "outputs": [
    {
     "data": {
      "text/plain": [
       "0         1900-01-01 20:08:00\n",
       "1         1900-01-01 20:08:00\n",
       "2         1900-01-01 20:08:00\n",
       "3         1900-01-01 20:08:00\n",
       "4         1900-01-01 20:08:00\n",
       "                  ...        \n",
       "3604170   1900-01-01 20:08:00\n",
       "3604171   1900-01-01 20:08:00\n",
       "3604172   1900-01-01 20:08:00\n",
       "3604173   1900-01-01 20:08:00\n",
       "3604174   1900-01-01 20:08:00\n",
       "Name: Year, Length: 3522163, dtype: datetime64[ns]"
      ]
     },
     "execution_count": 34,
     "metadata": {},
     "output_type": "execute_result"
    }
   ],
   "source": [
    "aa"
   ]
  },
  {
   "cell_type": "code",
   "execution_count": null,
   "metadata": {
    "id": "DiReB0ABAyeU"
   },
   "outputs": [],
   "source": []
  },
  {
   "cell_type": "markdown",
   "metadata": {
    "id": "3SLMDTqhLYr4"
   },
   "source": [
    "as year column have only one unique value so we can drop "
   ]
  },
  {
   "cell_type": "code",
   "execution_count": null,
   "metadata": {
    "id": "fYLybPxFuFVY"
   },
   "outputs": [],
   "source": []
  },
  {
   "cell_type": "code",
   "execution_count": null,
   "metadata": {
    "id": "LlnIQLDmwRw8"
   },
   "outputs": [],
   "source": [
    "def outlier(data, column, q1, q3, threshold=1.5):\n",
    "    # Calculate IQR\n",
    "    iqr = data[column].quantile(q3) - data[column].quantile(q1)\n",
    "\n",
    "    # Find outliers\n",
    "    outliers = data[(data[column] < data[column].quantile(q1) - threshold * iqr) | (data[column] > data[column].quantile(q3) + threshold * iqr)]\n",
    "\n",
    "    return outliers"
   ]
  },
  {
   "cell_type": "code",
   "execution_count": null,
   "metadata": {
    "colab": {
     "base_uri": "https://localhost:8080/"
    },
    "id": "iBlPY5MMwbRg",
    "outputId": "9aa90336-b89e-4070-cda7-f37c97f2354b"
   },
   "outputs": [
    {
     "name": "stdout",
     "output_type": "stream",
     "text": [
      "Year                          0.0\n",
      "Month                         0.0\n",
      "DayofMonth                    0.0\n",
      "DayOfWeek                     0.0\n",
      "Actual_Shipment_Time     46086265\n",
      "Planned_Shipment_Time         0.0\n",
      "Planned_Delivery_Time         0.0\n",
      "Carrier_Name                    0\n",
      "Carrier_Num                   0.0\n",
      "Planned_TimeofTravel          0.0\n",
      "Shipment_Delay                0.0\n",
      "Source                          0\n",
      "Destination                     0\n",
      "Distance                      0.0\n",
      "Delivery_Status               0.0\n",
      "Actual_Shipment_hour          0.0\n",
      "Planned_Shipment_hour         0.0\n",
      "Planned_Delivery_hour         0.0\n",
      "dtype: object\n"
     ]
    }
   ],
   "source": [
    "out_1 = outlier(fedex,['Actual_Shipment_Time'],0.35,0.85,-1.5)\n",
    "print(out_1.sum())"
   ]
  },
  {
   "cell_type": "code",
   "execution_count": null,
   "metadata": {
    "id": "Uh3rV8MjyEfF"
   },
   "outputs": [],
   "source": []
  },
  {
   "cell_type": "code",
   "execution_count": null,
   "metadata": {
    "id": "gt8ZXwDrxtvf"
   },
   "outputs": [],
   "source": []
  },
  {
   "cell_type": "code",
   "execution_count": null,
   "metadata": {
    "id": "mUsb6RApGCCP"
   },
   "outputs": [],
   "source": [
    "q1 = fedex['Actual_Shipment_Time'].quantile(0.35)\n",
    "q3 = fedex['Actual_Shipment_Time'].quantile(0.85)\n",
    "iqr = q3 - q1\n",
    "\n",
    "# Find outliers\n",
    "threshold = 1.5\n",
    "outliers1 = fedex[(fedex['Actual_Shipment_Time'] < q1 - threshold * iqr) | (fedex['Actual_Shipment_Time'] > q3 + threshold * iqr)]"
   ]
  },
  {
   "cell_type": "code",
   "execution_count": null,
   "metadata": {
    "id": "kJmg2wNLAjr0"
   },
   "outputs": [],
   "source": [
    "q1 = fedex['Planned_Shipment_Time'].quantile(0.35)\n",
    "q3 = fedex['Planned_Shipment_Time'].quantile(0.85)\n",
    "iqr = q3 - q1\n",
    "\n",
    "# Find outliers\n",
    "threshold = 1.5\n",
    "outliers2 = fedex[(fedex['Planned_Shipment_Time'] < q1 - threshold * iqr) | (fedex['Planned_Shipment_Time'] > q3 + threshold * iqr)]"
   ]
  },
  {
   "cell_type": "code",
   "execution_count": null,
   "metadata": {
    "id": "E6sZfG0CAjoB"
   },
   "outputs": [],
   "source": [
    "q1 = fedex['Planned_Delivery_Time'].quantile(0.35)\n",
    "q3 = fedex['Planned_Delivery_Time'].quantile(0.85)\n",
    "iqr = q3 - q1\n",
    "\n",
    "# Find outliers\n",
    "threshold = 1.5\n",
    "outliers3 = fedex[(fedex['Planned_Delivery_Time'] < q1 - threshold * iqr) | (fedex['Planned_Delivery_Time'] > q3 + threshold * iqr)]"
   ]
  },
  {
   "cell_type": "code",
   "execution_count": null,
   "metadata": {
    "id": "BnKMa_QKAjke"
   },
   "outputs": [],
   "source": [
    "q1 = fedex['Planned_TimeofTravel'].quantile(0.25)\n",
    "q3 = fedex['Planned_TimeofTravel'].quantile(0.85)\n",
    "iqr = q3 - q1\n",
    "\n",
    "# Find outliers\n",
    "threshold = 1.5\n",
    "outliers4 = fedex[(fedex['Planned_TimeofTravel'] < q1 - threshold * iqr) | (fedex['Planned_TimeofTravel'] > q3 + threshold * iqr)]"
   ]
  },
  {
   "cell_type": "code",
   "execution_count": null,
   "metadata": {
    "id": "Reka8EpPAjhx"
   },
   "outputs": [],
   "source": [
    "q1=fedex['Shipment_Delay'].quantile(0.25)\n",
    "q3=fedex['Shipment_Delay'].quantile(0.9)\n",
    "iqr=q3-q1\n",
    "threshold=1.5\n",
    "outliers5=fedex[(fedex['Shipment_Delay']<q1-threshold*iqr)|(fedex['Shipment_Delay']>q3+threshold*iqr)]"
   ]
  },
  {
   "cell_type": "code",
   "execution_count": null,
   "metadata": {
    "id": "nqo6F6aLAjej"
   },
   "outputs": [],
   "source": [
    "q1=fedex['Distance'].quantile(0.25)\n",
    "q3=fedex['Distance'].quantile(0.9)\n",
    "iqr=q3-q1\n",
    "threshold=1.5\n",
    "outliers6=fedex[(fedex['Distance']<q1-threshold*iqr)|(fedex['Distance']>q3+threshold*iqr)]"
   ]
  },
  {
   "cell_type": "code",
   "execution_count": null,
   "metadata": {
    "colab": {
     "base_uri": "https://localhost:8080/"
    },
    "id": "cYpyLOojGXpt",
    "outputId": "8871a0d0-52c4-4702-e95a-2c65b6c15982"
   },
   "outputs": [
    {
     "name": "stdout",
     "output_type": "stream",
     "text": [
      "6th 4915\n",
      "5th 94263\n",
      "4th 39272\n",
      "3ed 0\n",
      "2nd 0\n",
      "1st 0\n"
     ]
    }
   ],
   "source": [
    "print(\"6th\",len(outliers6))\n",
    "print(\"5th\",len(outliers5))\n",
    "print(\"4th\",len(outliers4))\n",
    "print(\"3ed\",len(outliers3))\n",
    "print(\"2nd\",len(outliers2))\n",
    "print(\"1st\",len(outliers1))"
   ]
  },
  {
   "cell_type": "code",
   "execution_count": null,
   "metadata": {
    "id": "3QFVkM2gDXlh"
   },
   "outputs": [],
   "source": [
    "outlier = pd.concat([outliers1,outliers2,outliers3,outliers4,outliers5,outliers6],axis=0)"
   ]
  },
  {
   "cell_type": "code",
   "execution_count": null,
   "metadata": {
    "colab": {
     "base_uri": "https://localhost:8080/",
     "height": 488
    },
    "id": "xedwVyzkF7mx",
    "outputId": "a7e99815-67eb-4371-a2af-8dfbd58c7492"
   },
   "outputs": [
    {
     "data": {
      "text/html": [
       "\n",
       "  <div id=\"df-a3565f1f-7858-426a-b1e9-1065e8113a53\">\n",
       "    <div class=\"colab-df-container\">\n",
       "      <div>\n",
       "<style scoped>\n",
       "    .dataframe tbody tr th:only-of-type {\n",
       "        vertical-align: middle;\n",
       "    }\n",
       "\n",
       "    .dataframe tbody tr th {\n",
       "        vertical-align: top;\n",
       "    }\n",
       "\n",
       "    .dataframe thead th {\n",
       "        text-align: right;\n",
       "    }\n",
       "</style>\n",
       "<table border=\"1\" class=\"dataframe\">\n",
       "  <thead>\n",
       "    <tr style=\"text-align: right;\">\n",
       "      <th></th>\n",
       "      <th>Year</th>\n",
       "      <th>Month</th>\n",
       "      <th>DayofMonth</th>\n",
       "      <th>DayOfWeek</th>\n",
       "      <th>Actual_Shipment_Time</th>\n",
       "      <th>Planned_Shipment_Time</th>\n",
       "      <th>Planned_Delivery_Time</th>\n",
       "      <th>Carrier_Name</th>\n",
       "      <th>Carrier_Num</th>\n",
       "      <th>Planned_TimeofTravel</th>\n",
       "      <th>Shipment_Delay</th>\n",
       "      <th>Source</th>\n",
       "      <th>Destination</th>\n",
       "      <th>Distance</th>\n",
       "      <th>Delivery_Status</th>\n",
       "      <th>Actual_Shipment_hour</th>\n",
       "      <th>Planned_Shipment_hour</th>\n",
       "      <th>Planned_Delivery_hour</th>\n",
       "    </tr>\n",
       "  </thead>\n",
       "  <tbody>\n",
       "    <tr>\n",
       "      <th>907</th>\n",
       "      <td>2008</td>\n",
       "      <td>1</td>\n",
       "      <td>3</td>\n",
       "      <td>4</td>\n",
       "      <td>7</td>\n",
       "      <td>6</td>\n",
       "      <td>9</td>\n",
       "      <td>WN</td>\n",
       "      <td>2719</td>\n",
       "      <td>365.0</td>\n",
       "      <td>69.0</td>\n",
       "      <td>MHT</td>\n",
       "      <td>LAS</td>\n",
       "      <td>2356</td>\n",
       "      <td>1.0</td>\n",
       "      <td>7</td>\n",
       "      <td>6</td>\n",
       "      <td>9</td>\n",
       "    </tr>\n",
       "    <tr>\n",
       "      <th>1568</th>\n",
       "      <td>2008</td>\n",
       "      <td>1</td>\n",
       "      <td>3</td>\n",
       "      <td>4</td>\n",
       "      <td>7</td>\n",
       "      <td>7</td>\n",
       "      <td>10</td>\n",
       "      <td>WN</td>\n",
       "      <td>3423</td>\n",
       "      <td>370.0</td>\n",
       "      <td>17.0</td>\n",
       "      <td>PVD</td>\n",
       "      <td>LAS</td>\n",
       "      <td>2363</td>\n",
       "      <td>1.0</td>\n",
       "      <td>7</td>\n",
       "      <td>7</td>\n",
       "      <td>10</td>\n",
       "    </tr>\n",
       "    <tr>\n",
       "      <th>2517</th>\n",
       "      <td>2008</td>\n",
       "      <td>1</td>\n",
       "      <td>4</td>\n",
       "      <td>5</td>\n",
       "      <td>7</td>\n",
       "      <td>7</td>\n",
       "      <td>10</td>\n",
       "      <td>WN</td>\n",
       "      <td>3655</td>\n",
       "      <td>360.0</td>\n",
       "      <td>6.0</td>\n",
       "      <td>BDL</td>\n",
       "      <td>LAS</td>\n",
       "      <td>2298</td>\n",
       "      <td>0.0</td>\n",
       "      <td>7</td>\n",
       "      <td>7</td>\n",
       "      <td>10</td>\n",
       "    </tr>\n",
       "    <tr>\n",
       "      <th>4345</th>\n",
       "      <td>2008</td>\n",
       "      <td>1</td>\n",
       "      <td>4</td>\n",
       "      <td>5</td>\n",
       "      <td>6</td>\n",
       "      <td>6</td>\n",
       "      <td>9</td>\n",
       "      <td>WN</td>\n",
       "      <td>2719</td>\n",
       "      <td>365.0</td>\n",
       "      <td>1.0</td>\n",
       "      <td>MHT</td>\n",
       "      <td>LAS</td>\n",
       "      <td>2356</td>\n",
       "      <td>0.0</td>\n",
       "      <td>6</td>\n",
       "      <td>6</td>\n",
       "      <td>9</td>\n",
       "    </tr>\n",
       "    <tr>\n",
       "      <th>5006</th>\n",
       "      <td>2008</td>\n",
       "      <td>1</td>\n",
       "      <td>4</td>\n",
       "      <td>5</td>\n",
       "      <td>7</td>\n",
       "      <td>7</td>\n",
       "      <td>10</td>\n",
       "      <td>WN</td>\n",
       "      <td>3423</td>\n",
       "      <td>370.0</td>\n",
       "      <td>17.0</td>\n",
       "      <td>PVD</td>\n",
       "      <td>LAS</td>\n",
       "      <td>2363</td>\n",
       "      <td>1.0</td>\n",
       "      <td>7</td>\n",
       "      <td>7</td>\n",
       "      <td>10</td>\n",
       "    </tr>\n",
       "    <tr>\n",
       "      <th>...</th>\n",
       "      <td>...</td>\n",
       "      <td>...</td>\n",
       "      <td>...</td>\n",
       "      <td>...</td>\n",
       "      <td>...</td>\n",
       "      <td>...</td>\n",
       "      <td>...</td>\n",
       "      <td>...</td>\n",
       "      <td>...</td>\n",
       "      <td>...</td>\n",
       "      <td>...</td>\n",
       "      <td>...</td>\n",
       "      <td>...</td>\n",
       "      <td>...</td>\n",
       "      <td>...</td>\n",
       "      <td>...</td>\n",
       "      <td>...</td>\n",
       "      <td>...</td>\n",
       "    </tr>\n",
       "    <tr>\n",
       "      <th>3602868</th>\n",
       "      <td>2008</td>\n",
       "      <td>6</td>\n",
       "      <td>18</td>\n",
       "      <td>3</td>\n",
       "      <td>16</td>\n",
       "      <td>16</td>\n",
       "      <td>19</td>\n",
       "      <td>DL</td>\n",
       "      <td>1561</td>\n",
       "      <td>577.0</td>\n",
       "      <td>5.0</td>\n",
       "      <td>ATL</td>\n",
       "      <td>HNL</td>\n",
       "      <td>4502</td>\n",
       "      <td>0.0</td>\n",
       "      <td>16</td>\n",
       "      <td>16</td>\n",
       "      <td>19</td>\n",
       "    </tr>\n",
       "    <tr>\n",
       "      <th>3603646</th>\n",
       "      <td>2008</td>\n",
       "      <td>6</td>\n",
       "      <td>19</td>\n",
       "      <td>4</td>\n",
       "      <td>14</td>\n",
       "      <td>14</td>\n",
       "      <td>17</td>\n",
       "      <td>DL</td>\n",
       "      <td>862</td>\n",
       "      <td>452.0</td>\n",
       "      <td>10.0</td>\n",
       "      <td>ATL</td>\n",
       "      <td>ANC</td>\n",
       "      <td>3417</td>\n",
       "      <td>0.0</td>\n",
       "      <td>14</td>\n",
       "      <td>14</td>\n",
       "      <td>17</td>\n",
       "    </tr>\n",
       "    <tr>\n",
       "      <th>3604015</th>\n",
       "      <td>2008</td>\n",
       "      <td>6</td>\n",
       "      <td>19</td>\n",
       "      <td>4</td>\n",
       "      <td>10</td>\n",
       "      <td>10</td>\n",
       "      <td>13</td>\n",
       "      <td>DL</td>\n",
       "      <td>1273</td>\n",
       "      <td>573.0</td>\n",
       "      <td>4.0</td>\n",
       "      <td>ATL</td>\n",
       "      <td>HNL</td>\n",
       "      <td>4502</td>\n",
       "      <td>0.0</td>\n",
       "      <td>10</td>\n",
       "      <td>10</td>\n",
       "      <td>13</td>\n",
       "    </tr>\n",
       "    <tr>\n",
       "      <th>3604025</th>\n",
       "      <td>2008</td>\n",
       "      <td>6</td>\n",
       "      <td>19</td>\n",
       "      <td>4</td>\n",
       "      <td>15</td>\n",
       "      <td>15</td>\n",
       "      <td>5</td>\n",
       "      <td>DL</td>\n",
       "      <td>1282</td>\n",
       "      <td>529.0</td>\n",
       "      <td>9.0</td>\n",
       "      <td>HNL</td>\n",
       "      <td>ATL</td>\n",
       "      <td>4502</td>\n",
       "      <td>0.0</td>\n",
       "      <td>15</td>\n",
       "      <td>15</td>\n",
       "      <td>5</td>\n",
       "    </tr>\n",
       "    <tr>\n",
       "      <th>3604052</th>\n",
       "      <td>2008</td>\n",
       "      <td>6</td>\n",
       "      <td>19</td>\n",
       "      <td>4</td>\n",
       "      <td>19</td>\n",
       "      <td>19</td>\n",
       "      <td>6</td>\n",
       "      <td>DL</td>\n",
       "      <td>1414</td>\n",
       "      <td>422.0</td>\n",
       "      <td>15.0</td>\n",
       "      <td>ANC</td>\n",
       "      <td>ATL</td>\n",
       "      <td>3417</td>\n",
       "      <td>0.0</td>\n",
       "      <td>19</td>\n",
       "      <td>19</td>\n",
       "      <td>6</td>\n",
       "    </tr>\n",
       "  </tbody>\n",
       "</table>\n",
       "<p>138450 rows × 18 columns</p>\n",
       "</div>\n",
       "      <button class=\"colab-df-convert\" onclick=\"convertToInteractive('df-a3565f1f-7858-426a-b1e9-1065e8113a53')\"\n",
       "              title=\"Convert this dataframe to an interactive table.\"\n",
       "              style=\"display:none;\">\n",
       "        \n",
       "  <svg xmlns=\"http://www.w3.org/2000/svg\" height=\"24px\"viewBox=\"0 0 24 24\"\n",
       "       width=\"24px\">\n",
       "    <path d=\"M0 0h24v24H0V0z\" fill=\"none\"/>\n",
       "    <path d=\"M18.56 5.44l.94 2.06.94-2.06 2.06-.94-2.06-.94-.94-2.06-.94 2.06-2.06.94zm-11 1L8.5 8.5l.94-2.06 2.06-.94-2.06-.94L8.5 2.5l-.94 2.06-2.06.94zm10 10l.94 2.06.94-2.06 2.06-.94-2.06-.94-.94-2.06-.94 2.06-2.06.94z\"/><path d=\"M17.41 7.96l-1.37-1.37c-.4-.4-.92-.59-1.43-.59-.52 0-1.04.2-1.43.59L10.3 9.45l-7.72 7.72c-.78.78-.78 2.05 0 2.83L4 21.41c.39.39.9.59 1.41.59.51 0 1.02-.2 1.41-.59l7.78-7.78 2.81-2.81c.8-.78.8-2.07 0-2.86zM5.41 20L4 18.59l7.72-7.72 1.47 1.35L5.41 20z\"/>\n",
       "  </svg>\n",
       "      </button>\n",
       "      \n",
       "  <style>\n",
       "    .colab-df-container {\n",
       "      display:flex;\n",
       "      flex-wrap:wrap;\n",
       "      gap: 12px;\n",
       "    }\n",
       "\n",
       "    .colab-df-convert {\n",
       "      background-color: #E8F0FE;\n",
       "      border: none;\n",
       "      border-radius: 50%;\n",
       "      cursor: pointer;\n",
       "      display: none;\n",
       "      fill: #1967D2;\n",
       "      height: 32px;\n",
       "      padding: 0 0 0 0;\n",
       "      width: 32px;\n",
       "    }\n",
       "\n",
       "    .colab-df-convert:hover {\n",
       "      background-color: #E2EBFA;\n",
       "      box-shadow: 0px 1px 2px rgba(60, 64, 67, 0.3), 0px 1px 3px 1px rgba(60, 64, 67, 0.15);\n",
       "      fill: #174EA6;\n",
       "    }\n",
       "\n",
       "    [theme=dark] .colab-df-convert {\n",
       "      background-color: #3B4455;\n",
       "      fill: #D2E3FC;\n",
       "    }\n",
       "\n",
       "    [theme=dark] .colab-df-convert:hover {\n",
       "      background-color: #434B5C;\n",
       "      box-shadow: 0px 1px 3px 1px rgba(0, 0, 0, 0.15);\n",
       "      filter: drop-shadow(0px 1px 2px rgba(0, 0, 0, 0.3));\n",
       "      fill: #FFFFFF;\n",
       "    }\n",
       "  </style>\n",
       "\n",
       "      <script>\n",
       "        const buttonEl =\n",
       "          document.querySelector('#df-a3565f1f-7858-426a-b1e9-1065e8113a53 button.colab-df-convert');\n",
       "        buttonEl.style.display =\n",
       "          google.colab.kernel.accessAllowed ? 'block' : 'none';\n",
       "\n",
       "        async function convertToInteractive(key) {\n",
       "          const element = document.querySelector('#df-a3565f1f-7858-426a-b1e9-1065e8113a53');\n",
       "          const dataTable =\n",
       "            await google.colab.kernel.invokeFunction('convertToInteractive',\n",
       "                                                     [key], {});\n",
       "          if (!dataTable) return;\n",
       "\n",
       "          const docLinkHtml = 'Like what you see? Visit the ' +\n",
       "            '<a target=\"_blank\" href=https://colab.research.google.com/notebooks/data_table.ipynb>data table notebook</a>'\n",
       "            + ' to learn more about interactive tables.';\n",
       "          element.innerHTML = '';\n",
       "          dataTable['output_type'] = 'display_data';\n",
       "          await google.colab.output.renderOutput(dataTable, element);\n",
       "          const docLink = document.createElement('div');\n",
       "          docLink.innerHTML = docLinkHtml;\n",
       "          element.appendChild(docLink);\n",
       "        }\n",
       "      </script>\n",
       "    </div>\n",
       "  </div>\n",
       "  "
      ],
      "text/plain": [
       "         Year  Month  DayofMonth  DayOfWeek  Actual_Shipment_Time  \\\n",
       "907      2008      1           3          4                     7   \n",
       "1568     2008      1           3          4                     7   \n",
       "2517     2008      1           4          5                     7   \n",
       "4345     2008      1           4          5                     6   \n",
       "5006     2008      1           4          5                     7   \n",
       "...       ...    ...         ...        ...                   ...   \n",
       "3602868  2008      6          18          3                    16   \n",
       "3603646  2008      6          19          4                    14   \n",
       "3604015  2008      6          19          4                    10   \n",
       "3604025  2008      6          19          4                    15   \n",
       "3604052  2008      6          19          4                    19   \n",
       "\n",
       "         Planned_Shipment_Time  Planned_Delivery_Time Carrier_Name  \\\n",
       "907                          6                      9           WN   \n",
       "1568                         7                     10           WN   \n",
       "2517                         7                     10           WN   \n",
       "4345                         6                      9           WN   \n",
       "5006                         7                     10           WN   \n",
       "...                        ...                    ...          ...   \n",
       "3602868                     16                     19           DL   \n",
       "3603646                     14                     17           DL   \n",
       "3604015                     10                     13           DL   \n",
       "3604025                     15                      5           DL   \n",
       "3604052                     19                      6           DL   \n",
       "\n",
       "         Carrier_Num  Planned_TimeofTravel  Shipment_Delay Source Destination  \\\n",
       "907             2719                 365.0            69.0    MHT         LAS   \n",
       "1568            3423                 370.0            17.0    PVD         LAS   \n",
       "2517            3655                 360.0             6.0    BDL         LAS   \n",
       "4345            2719                 365.0             1.0    MHT         LAS   \n",
       "5006            3423                 370.0            17.0    PVD         LAS   \n",
       "...              ...                   ...             ...    ...         ...   \n",
       "3602868         1561                 577.0             5.0    ATL         HNL   \n",
       "3603646          862                 452.0            10.0    ATL         ANC   \n",
       "3604015         1273                 573.0             4.0    ATL         HNL   \n",
       "3604025         1282                 529.0             9.0    HNL         ATL   \n",
       "3604052         1414                 422.0            15.0    ANC         ATL   \n",
       "\n",
       "         Distance  Delivery_Status  Actual_Shipment_hour  \\\n",
       "907          2356              1.0                     7   \n",
       "1568         2363              1.0                     7   \n",
       "2517         2298              0.0                     7   \n",
       "4345         2356              0.0                     6   \n",
       "5006         2363              1.0                     7   \n",
       "...           ...              ...                   ...   \n",
       "3602868      4502              0.0                    16   \n",
       "3603646      3417              0.0                    14   \n",
       "3604015      4502              0.0                    10   \n",
       "3604025      4502              0.0                    15   \n",
       "3604052      3417              0.0                    19   \n",
       "\n",
       "         Planned_Shipment_hour  Planned_Delivery_hour  \n",
       "907                          6                      9  \n",
       "1568                         7                     10  \n",
       "2517                         7                     10  \n",
       "4345                         6                      9  \n",
       "5006                         7                     10  \n",
       "...                        ...                    ...  \n",
       "3602868                     16                     19  \n",
       "3603646                     14                     17  \n",
       "3604015                     10                     13  \n",
       "3604025                     15                      5  \n",
       "3604052                     19                      6  \n",
       "\n",
       "[138450 rows x 18 columns]"
      ]
     },
     "execution_count": 45,
     "metadata": {},
     "output_type": "execute_result"
    }
   ],
   "source": [
    "outlier"
   ]
  },
  {
   "cell_type": "code",
   "execution_count": null,
   "metadata": {
    "id": "yyxtYVyJKOVs"
   },
   "outputs": [],
   "source": [
    "fedex=pd.concat([fedex,outlier],axis=0)"
   ]
  },
  {
   "cell_type": "code",
   "execution_count": null,
   "metadata": {
    "id": "6WfSzzXpDsAs"
   },
   "outputs": [],
   "source": [
    "fedex=fedex.drop_duplicates()"
   ]
  },
  {
   "cell_type": "code",
   "execution_count": null,
   "metadata": {
    "colab": {
     "base_uri": "https://localhost:8080/",
     "height": 472
    },
    "id": "aLP66T6zKTo0",
    "outputId": "571c3bed-0bc5-4ef7-a29a-5eb739beffa1"
   },
   "outputs": [
    {
     "data": {
      "text/plain": [
       "(2007.0, 2009.0)"
      ]
     },
     "execution_count": 48,
     "metadata": {},
     "output_type": "execute_result"
    },
    {
     "data": {
      "image/png": "[encoded data removed]",
      "text/plain": [
       "<Figure size 640x480 with 1 Axes>"
      ]
     },
     "metadata": {},
     "output_type": "display_data"
    }
   ],
   "source": [
    "sns.countplot(x='Year',data=fedex)\n",
    "plt.ylim(2007,2009)"
   ]
  },
  {
   "cell_type": "markdown",
   "metadata": {
    "id": "DyPQswo3ba-h"
   },
   "source": [
    "**`inferences-`**\n",
    "\n",
    "\n",
    "Based on the information provided, it appears that all deliveries in the FedEx dataset were performed in the year 2008. Therefore, the year variable would not have any effect on the delivery status column, as there is no variation in the year variable within the dataset. This finding is important to consider when analyzing the relationship between delivery status and other variables in the dataset, as any observed patterns or relationships may be specific to the year 2008 and may not generalize to other time periods. Additionally, this finding may be relevant for data cleaning and preparation purposes, as the year variable could potentially be removed from the dataset without affecting the results of the analysis."
   ]
  },
  {
   "cell_type": "code",
   "execution_count": null,
   "metadata": {
    "colab": {
     "base_uri": "https://localhost:8080/",
     "height": 472
    },
    "id": "D60obgjeto5F",
    "outputId": "7d651a90-7569-40b0-a9a8-6d9b78b1960c"
   },
   "outputs": [
    {
     "data": {
      "text/plain": [
       "(500000.0, 600000.0)"
      ]
     },
     "execution_count": 49,
     "metadata": {},
     "output_type": "execute_result"
    },
    {
     "data": {
      "image/png": "[encoded data removed]",
      "text/plain": [
       "<Figure size 640x480 with 1 Axes>"
      ]
     },
     "metadata": {},
     "output_type": "display_data"
    }
   ],
   "source": [
    "sns.countplot(x=fedex['Month'],palette='rocket')\n",
    "plt.ylim(500000,600000)"
   ]
  },
  {
   "cell_type": "markdown",
   "metadata": {
    "id": "E9nJpIJFqqXX"
   },
   "source": [
    "**`inferences-`**\n",
    "\n",
    "The countplot shows the distribution of delivery orders across different months, and the y-limit has been set to focus on the range between 500,000 to 600,000 orders. The months are arranged from left to right in descending order of order volume, with the month 2 having the highest order volume and month 5 having the lowest.\n",
    "\n",
    "The inference from this plot is that the delivery order volume is highest in the month of February, followed by January, April, June, March, and May. This information can be useful for identifying the months with the highest order volumes and planning the allocation of resources accordingly. It could also be useful for analyzing any seasonal trends in order volume and planning marketing and promotional activities accordingly."
   ]
  },
  {
   "cell_type": "code",
   "execution_count": null,
   "metadata": {
    "colab": {
     "base_uri": "https://localhost:8080/",
     "height": 467
    },
    "id": "OOgfkApiZXX-",
    "outputId": "31951dc2-0273-43ee-b52c-e02c6eac69f6"
   },
   "outputs": [
    {
     "data": {
      "text/plain": [
       "<Axes: xlabel='Delivery_Status', ylabel='Month'>"
      ]
     },
     "execution_count": 50,
     "metadata": {},
     "output_type": "execute_result"
    },
    {
     "data": {
      "image/png": "[encoded data removed]",
      "text/plain": [
       "<Figure size 640x480 with 1 Axes>"
      ]
     },
     "metadata": {},
     "output_type": "display_data"
    }
   ],
   "source": [
    "sns.boxplot(x='Delivery_Status',y='Month',data=fedex)"
   ]
  },
  {
   "cell_type": "markdown",
   "metadata": {
    "id": "wBn5SQfVcIst"
   },
   "source": [
    "**`inferences-`**\n",
    "\n",
    "Based on the boxplot analysis of the relationship between delivery status and month in the FedEx dataset, it appears that the median (q2) delivery status for all months is relatively consistent, with an average value occurring specifically in the 3rd month. Additionally, the first quartile (q1) of delivery statuses shows a slightly lower value of 4, but this does not appear to have a significant effect on the overall delivery status column. These findings suggest that there may not be a strong relationship between month and delivery status in the FedEx dataset, or that any potential patterns are not strong enough to significantly impact overall delivery performance."
   ]
  },
  {
   "cell_type": "code",
   "execution_count": null,
   "metadata": {
    "colab": {
     "base_uri": "https://localhost:8080/",
     "height": 467
    },
    "id": "VRAn724TZXUd",
    "outputId": "016e9bf8-5a99-4db4-b3f8-304c0afbdc72"
   },
   "outputs": [
    {
     "data": {
      "text/plain": [
       "<Axes: xlabel='Delivery_Status', ylabel='DayofMonth'>"
      ]
     },
     "execution_count": 51,
     "metadata": {},
     "output_type": "execute_result"
    },
    {
     "data": {
      "image/png": "[encoded data removed]",
      "text/plain": [
       "<Figure size 640x480 with 1 Axes>"
      ]
     },
     "metadata": {},
     "output_type": "display_data"
    }
   ],
   "source": [
    "sns.boxplot(x='Delivery_Status',y='DayofMonth',data=fedex)"
   ]
  },
  {
   "cell_type": "markdown",
   "metadata": {
    "id": "GpxT11udchRh"
   },
   "source": [
    "**`inferences-`**\n",
    "\n",
    "Based on the barplot analysis of the relationship between delivery status and day of the month in the FedEx dataset, it appears that there is not a significant difference in the distribution of delivery statuses (0 and 1) across different days of the month. Both delivery status values are relatively consistent throughout the month, with no clear patterns or trends that would indicate that certain days of the month are more likely to have delivery cancellations than others. This finding suggests that other factors may be more influential in determining the likelihood of delivery cancellations, such as shipping volume, geographic location, or other external factors. However, further analysis may be necessary to fully understand the relationship between day of the month and delivery status in the FedEx dataset."
   ]
  },
  {
   "cell_type": "code",
   "execution_count": null,
   "metadata": {
    "colab": {
     "base_uri": "https://localhost:8080/",
     "height": 467
    },
    "id": "_-b5w14pZXRc",
    "outputId": "5de7de03-4a5b-4b53-a4e5-d43b6633765d"
   },
   "outputs": [
    {
     "data": {
      "text/plain": [
       "<Axes: xlabel='Delivery_Status', ylabel='DayOfWeek'>"
      ]
     },
     "execution_count": 52,
     "metadata": {},
     "output_type": "execute_result"
    },
    {
     "data": {
      "image/png": "[encoded data removed]",
      "text/plain": [
       "<Figure size 640x480 with 1 Axes>"
      ]
     },
     "metadata": {},
     "output_type": "display_data"
    }
   ],
   "source": [
    "sns.barplot(x='Delivery_Status',y='DayOfWeek',data=fedex)"
   ]
  },
  {
   "cell_type": "markdown",
   "metadata": {
    "id": "PkEcJO9TdSz4"
   },
   "source": [
    "**`inferences-`**\n",
    "\n",
    "Based on the barplot analysis of the relationship between delivery status and day of the week in the FedEx dataset, it appears that the distribution of delivery status is relatively consistent across all days of the week. This suggests that there may not be a significant relationship between day of the week and delivery status in the dataset, or that any potential patterns are not strong enough to significantly impact overall delivery performance. However, it is important to note that further analysis may be necessary to fully understand any potential temporal patterns in delivery status and to confirm that there are no significant differences between different days of the week."
   ]
  },
  {
   "cell_type": "code",
   "execution_count": null,
   "metadata": {
    "colab": {
     "base_uri": "https://localhost:8080/",
     "height": 467
    },
    "id": "MhJxDLFYZXOL",
    "outputId": "ed3ecf8c-9245-4cd1-c95f-930a57819580"
   },
   "outputs": [
    {
     "data": {
      "text/plain": [
       "<Axes: xlabel='Delivery_Status', ylabel='Actual_Shipment_Time'>"
      ]
     },
     "execution_count": 53,
     "metadata": {},
     "output_type": "execute_result"
    },
    {
     "data": {
      "image/png": "[encoded data removed]",
      "text/plain": [
       "<Figure size 640x480 with 1 Axes>"
      ]
     },
     "metadata": {},
     "output_type": "display_data"
    }
   ],
   "source": [
    "sns.boxplot(x='Delivery_Status',y='Actual_Shipment_Time',data=fedex)"
   ]
  },
  {
   "cell_type": "markdown",
   "metadata": {
    "id": "RpnDl03cd3ie"
   },
   "source": [
    "**`inferences-`**\n",
    "\n",
    "Based on the boxplot analysis of the relationship between delivery status and actual shipment time in the FedEx dataset, it appears that there is a significant difference in the distribution of delivery statuses (0 and 1) across different actual shipment times. Specifically, the delivery status of 1 (canceled deliveries) has a higher median and a wider distribution of values than the delivery status of 0 (successful deliveries). This finding suggests that there may be factors related to actual shipment time that increase the likelihood of delivery cancellations, such as delays, logistical issues, or other external factors. Further analysis may be necessary to identify specific patterns or relationships between actual shipment time and delivery status in the FedEx dataset, and to develop targeted interventions that can improve delivery performance and customer satisfaction."
   ]
  },
  {
   "cell_type": "code",
   "execution_count": null,
   "metadata": {
    "colab": {
     "base_uri": "https://localhost:8080/",
     "height": 467
    },
    "id": "fgfn39i6ZXI1",
    "outputId": "357d8f85-51df-451a-800d-2a5db4251f78"
   },
   "outputs": [
    {
     "data": {
      "text/plain": [
       "<Axes: xlabel='Delivery_Status', ylabel='Planned_Shipment_Time'>"
      ]
     },
     "execution_count": 54,
     "metadata": {},
     "output_type": "execute_result"
    },
    {
     "data": {
      "image/png": "[encoded data removed]",
      "text/plain": [
       "<Figure size 640x480 with 1 Axes>"
      ]
     },
     "metadata": {},
     "output_type": "display_data"
    }
   ],
   "source": [
    "sns.boxplot(x='Delivery_Status',y='Planned_Shipment_Time',data=fedex)"
   ]
  },
  {
   "cell_type": "markdown",
   "metadata": {
    "id": "Muh7CzDpeJn9"
   },
   "source": [
    "**`inferences-`**\n",
    "\n",
    "Based on the boxplot analysis of the relationship between delivery status and planned shipment time in the FedEx dataset, it appears that there is a significant difference in the distribution of delivery statuses (0 and 1) with respect to planned shipment time. Specifically, the median (q2) and upper quartile (q3) of the delivery status values for planned shipment times are higher for 1 (delivery canceled) compared to 0 (delivery done). This indicates that there may be factors related to planned shipment time that are influencing the likelihood of delivery cancellations in the FedEx dataset. Possible explanations for this finding could include issues with supply chain logistics, delays in processing and shipping packages, or other operational challenges that are more likely to arise for shipments with longer planned shipment times. Further analysis may be necessary to fully understand the relationship between planned shipment time and delivery status in the FedEx dataset and to identify potential strategies for reducing the likelihood of delivery cancellations."
   ]
  },
  {
   "cell_type": "code",
   "execution_count": null,
   "metadata": {
    "colab": {
     "base_uri": "https://localhost:8080/",
     "height": 523
    },
    "id": "fHkO_i-mZXGO",
    "outputId": "4d3fa564-b088-426e-81f9-f5311cfda41e"
   },
   "outputs": [
    {
     "data": {
      "text/plain": [
       "<seaborn.axisgrid.FacetGrid at 0x7f01884c3b80>"
      ]
     },
     "execution_count": 55,
     "metadata": {},
     "output_type": "execute_result"
    },
    {
     "data": {
      "image/png": "[encoded data removed]",
      "text/plain": [
       "<Figure size 500x500 with 1 Axes>"
      ]
     },
     "metadata": {},
     "output_type": "display_data"
    }
   ],
   "source": [
    "sns.displot(x='Delivery_Status',y='Planned_Delivery_Time',data=fedex)"
   ]
  },
  {
   "cell_type": "markdown",
   "metadata": {
    "id": "baVJLYrVebnA"
   },
   "source": [
    "**`inferences-`**\n",
    "\n",
    "Based on the information you provided, it appears that the plot is showing a clear difference in the distribution of delivery status values (0 and 1) with respect to planned delivery time in the FedEx dataset. Specifically, the 0 delivery status values have a darker color for planned delivery times of 750 or higher, while the 1 delivery status values have a lighter color throughout the entire range of planned delivery times. This suggests that there may be differences in the underlying patterns or factors affecting delivery cancellations vs. deliveries completed successfully at different planned delivery times in the dataset. However, further analysis would be necessary to fully understand the nature of these differences and their implications for delivery performance in the FedEx dataset."
   ]
  },
  {
   "cell_type": "code",
   "execution_count": null,
   "metadata": {
    "id": "0vLNCqIKZXDi"
   },
   "outputs": [],
   "source": [
    "#sns.barplot(x='Delivery_Status',y='Carrier_Name',data=fedex)"
   ]
  },
  {
   "cell_type": "code",
   "execution_count": null,
   "metadata": {
    "id": "_wHSJjxUZwWN"
   },
   "outputs": [],
   "source": [
    "#sns.barplot(x='Delivery_Status',y='Carrier_Num',data=fedex)"
   ]
  },
  {
   "cell_type": "code",
   "execution_count": null,
   "metadata": {
    "colab": {
     "base_uri": "https://localhost:8080/",
     "height": 523
    },
    "id": "zxBjP3u-ZwS2",
    "outputId": "bc805024-6f55-4746-92b8-c3ee87d828e3"
   },
   "outputs": [
    {
     "data": {
      "text/plain": [
       "<seaborn.axisgrid.FacetGrid at 0x7f018840dd80>"
      ]
     },
     "execution_count": 58,
     "metadata": {},
     "output_type": "execute_result"
    },
    {
     "data": {
      "image/png": "[encoded data removed]",
      "text/plain": [
       "<Figure size 500x500 with 1 Axes>"
      ]
     },
     "metadata": {},
     "output_type": "display_data"
    }
   ],
   "source": [
    "sns.displot(x='Delivery_Status',y='Planned_TimeofTravel',data=fedex)"
   ]
  },
  {
   "cell_type": "markdown",
   "metadata": {
    "id": "sR4xMRFIe5jl"
   },
   "source": [
    "**`inferences-`**\n",
    "\n",
    "Based on the displot analysis of the relationship between delivery status and planned time of travel in the FedEx dataset, it appears that there is a potential difference in the distribution of delivery statuses (0 and 1) with respect to planned time of travel. Specifically, there is a higher frequency of delivery statuses of 0 (delivery done) for planned times of travel with shorter durations, as indicated by the darker color in the plot. In contrast, the frequency of delivery statuses of 1 (delivery canceled) appears to be relatively consistent across all values of planned time of travel, as indicated by the lighter color in the plot. This suggests that there may be certain timeframes or thresholds for planned time of travel that are associated with higher or lower likelihoods of delivery cancellations in the FedEx dataset. "
   ]
  },
  {
   "cell_type": "code",
   "execution_count": null,
   "metadata": {
    "id": "q9an6JqYZwPt"
   },
   "outputs": [],
   "source": [
    "#sns.factorplot(x='Delivery_Status',y='Shipment_Delay',data=fedex,kind='boxen')"
   ]
  },
  {
   "cell_type": "code",
   "execution_count": null,
   "metadata": {
    "colab": {
     "base_uri": "https://localhost:8080/",
     "height": 467
    },
    "id": "FMGWs75nZwMj",
    "outputId": "d07bd9d6-30c0-467d-e754-62bc508719cc"
   },
   "outputs": [
    {
     "data": {
      "text/plain": [
       "<Axes: xlabel='Actual_Shipment_Time', ylabel='Planned_Shipment_Time'>"
      ]
     },
     "execution_count": 60,
     "metadata": {},
     "output_type": "execute_result"
    },
    {
     "data": {
      "image/png": "[encoded data removed]",
      "text/plain": [
       "<Figure size 640x480 with 1 Axes>"
      ]
     },
     "metadata": {},
     "output_type": "display_data"
    }
   ],
   "source": [
    "sns.lineplot(x='Actual_Shipment_Time',y='Planned_Shipment_Time',data=fedex)"
   ]
  },
  {
   "cell_type": "markdown",
   "metadata": {
    "id": "HFv7tYszfLbA"
   },
   "source": [
    "**`inferences-`**\n",
    "\n",
    "Based on the scatterplot analysis of the relationship between actual shipment time and planned shipment time in the FedEx dataset, it appears that there is a positive correlation between the two variables. Specifically, as the planned shipment time increases, the actual shipment time also tends to increase. This finding suggests that there may be factors that contribute to delays in the planned shipment time, resulting in longer actual shipment times. Possible reasons for delays in planned shipment time could include issues related to scheduling, processing of packages, transportation, or logistical challenges. Understanding the factors that contribute to delays in planned shipment time may be helpful in identifying strategies for improving the efficiency and timeliness of shipments in the FedEx dataset."
   ]
  },
  {
   "cell_type": "code",
   "execution_count": null,
   "metadata": {
    "colab": {
     "base_uri": "https://localhost:8080/",
     "height": 523
    },
    "id": "DsK_E4MFZwJo",
    "outputId": "02fb7135-e31a-4c24-9713-91dfebd89f0d"
   },
   "outputs": [
    {
     "data": {
      "text/plain": [
       "<seaborn.axisgrid.FacetGrid at 0x7f01903682b0>"
      ]
     },
     "execution_count": 61,
     "metadata": {},
     "output_type": "execute_result"
    },
    {
     "data": {
      "image/png": "[encoded data removed]",
      "text/plain": [
       "<Figure size 500x500 with 1 Axes>"
      ]
     },
     "metadata": {},
     "output_type": "display_data"
    }
   ],
   "source": [
    "sns.displot(x='Planned_Shipment_Time',y='Planned_Delivery_Time',data=fedex)"
   ]
  },
  {
   "cell_type": "markdown",
   "metadata": {
    "id": "tH1lw7fIfvmx"
   },
   "source": [
    "**`inferences-`**\n",
    "\n",
    "Based on the scatter plot analysis of the relationship between planned shipment time and planned delivery time in the FedEx dataset, it appears that there is a positive correlation between these two variables. Specifically, as planned shipment time increases, there is a tendency for planned delivery time to also increase, as indicated by the higher points at the top of the plot. This finding suggests that there may be a relationship between the timing of shipment and the expected delivery timeline in the FedEx dataset. However, further analysis may be necessary to understand the nature of this relationship and to identify potential strategies for improving the accuracy and timeliness of delivery predictions in the FedEx system. Possible factors that may influence this relationship could include transportation schedules, processing times, and logistical considerations related to package handling and delivery."
   ]
  },
  {
   "cell_type": "code",
   "execution_count": null,
   "metadata": {
    "colab": {
     "base_uri": "https://localhost:8080/",
     "height": 523
    },
    "id": "3fvyGMo_ZwG0",
    "outputId": "d001e130-27bf-4b8a-e93d-d303332dc85c"
   },
   "outputs": [
    {
     "data": {
      "text/plain": [
       "<seaborn.axisgrid.FacetGrid at 0x7f0190106cb0>"
      ]
     },
     "execution_count": 62,
     "metadata": {},
     "output_type": "execute_result"
    },
    {
     "data": {
      "image/png": "[encoded data removed]",
      "text/plain": [
       "<Figure size 500x500 with 1 Axes>"
      ]
     },
     "metadata": {},
     "output_type": "display_data"
    }
   ],
   "source": [
    "sns.displot(x='Delivery_Status',y='Distance',data=fedex)"
   ]
  },
  {
   "cell_type": "markdown",
   "metadata": {
    "id": "2m3xil9phFwJ"
   },
   "source": [
    "**`inferences-`**\n",
    "\n",
    "Based on the displot analysis of the relationship between delivery status and distance in the FedEx dataset, it appears that there is a potential difference in the distribution of delivery statuses (0 and 1) with respect to distance. Specifically, there is a higher frequency of delivery statuses of 0 (delivery done) for distances with values below a certain threshold, as indicated by the darker color in the plot. In contrast, the frequency of delivery statuses of 1 (delivery canceled) appears to be relatively consistent across all values of distance, as indicated by the lighter color in the plot. This finding suggests that distance may not be a major factor in determining the likelihood of delivery cancellations in the FedEx dataset. Other factors such as package weight, package contents, or shipping volume may be more influential in determining delivery outcomes. "
   ]
  },
  {
   "cell_type": "code",
   "execution_count": null,
   "metadata": {
    "id": "LJU9ywaeZwD8"
   },
   "outputs": [],
   "source": [
    "#sns.boxplot(x='Delivery_Status',y='Month',data=fedex)"
   ]
  },
  {
   "cell_type": "code",
   "execution_count": null,
   "metadata": {
    "colab": {
     "base_uri": "https://localhost:8080/",
     "height": 467
    },
    "id": "8SuOVZndZwBR",
    "outputId": "4b71af34-e7dc-4669-c703-6c314693967d"
   },
   "outputs": [
    {
     "data": {
      "text/plain": [
       "<Axes: xlabel='Delivery_Status', ylabel='Month'>"
      ]
     },
     "execution_count": 64,
     "metadata": {},
     "output_type": "execute_result"
    },
    {
     "data": {
      "image/png": "[encoded data removed]",
      "text/plain": [
       "<Figure size 640x480 with 1 Axes>"
      ]
     },
     "metadata": {},
     "output_type": "display_data"
    }
   ],
   "source": [
    "sns.barplot(x='Delivery_Status',y='Month',data=fedex,palette='rocket')"
   ]
  },
  {
   "cell_type": "markdown",
   "metadata": {
    "id": "ljjTmRDKiobS"
   },
   "source": [
    "**`inferences-`**\n",
    "\n",
    "\n",
    "Based on the barplot analysis of the relationship between delivery status and month in the FedEx dataset, it appears that there is a general trend of increasing order volume as the months progress, regardless of delivery status (0 or 1). Specifically, both delivery status categories show an increase in the bar height as the month increases, indicating that there may be a seasonal pattern in the demand for FedEx services. This finding suggests that there may be factors influencing package shipments that are associated with particular times of the year, such as holidays, special events, or seasonal changes in business operations. Further analysis may be necessary to fully understand the nature of these patterns and to identify potential strategies for optimizing FedEx operations to better serve customer needs throughout the year."
   ]
  },
  {
   "cell_type": "code",
   "execution_count": null,
   "metadata": {
    "colab": {
     "base_uri": "https://localhost:8080/",
     "height": 523
    },
    "id": "eb8KbBxNZv-U",
    "outputId": "362787b0-8329-47e6-f7a3-e0bb933eb383"
   },
   "outputs": [
    {
     "data": {
      "text/plain": [
       "<seaborn.axisgrid.FacetGrid at 0x7f0188647670>"
      ]
     },
     "execution_count": 65,
     "metadata": {},
     "output_type": "execute_result"
    },
    {
     "data": {
      "image/png": "[encoded data removed]",
      "text/plain": [
       "<Figure size 620.111x500 with 1 Axes>"
      ]
     },
     "metadata": {},
     "output_type": "display_data"
    }
   ],
   "source": [
    "sns.displot(x='Planned_Delivery_Time',y='Actual_Shipment_Time',hue='Delivery_Status',data=fedex,palette='Set1')"
   ]
  },
  {
   "cell_type": "markdown",
   "metadata": {
    "id": "2EHz_Jvpj3Sa"
   },
   "source": [
    "**`inferences-`**\n",
    "\n",
    " Based on the  density plots analysis of the relationship between planned delivery time and actual shipment time in the FedEx dataset, with the delivery status indicated by hue, it appears that there is a positive correlation between these two variables. Specifically, as planned delivery time increases, there is a tendency for actual shipment time to also increase, as indicated by the higher points at the top of the plot. Additionally, there is some overlap in the distribution of delivery status colors, with both 0 and 1 points appearing in the same regions of the plot. This suggests that there may be other factors at play besides actual shipment time that influence delivery status, such as package size, destination, or delivery method. Further analysis may be necessary to fully understand the nature of this relationship and to identify potential strategies for improving shipment and delivery processes to reduce delays and improve overall customer satisfaction."
   ]
  },
  {
   "cell_type": "code",
   "execution_count": null,
   "metadata": {
    "colab": {
     "base_uri": "https://localhost:8080/",
     "height": 523
    },
    "id": "n3R7-UL3VXng",
    "outputId": "1dfff378-471b-4dcf-9b06-4c67598199d4"
   },
   "outputs": [
    {
     "data": {
      "text/plain": [
       "<seaborn.axisgrid.FacetGrid at 0x7f01903e41f0>"
      ]
     },
     "execution_count": 66,
     "metadata": {},
     "output_type": "execute_result"
    },
    {
     "data": {
      "image/png": "[encoded data removed]",
      "text/plain": [
       "<Figure size 620.111x500 with 1 Axes>"
      ]
     },
     "metadata": {},
     "output_type": "display_data"
    }
   ],
   "source": [
    "sns.displot(x='Planned_Shipment_Time',y='Actual_Shipment_Time',hue='Delivery_Status',data=fedex,palette='rocket')"
   ]
  },
  {
   "cell_type": "markdown",
   "metadata": {
    "id": "k6WqyT5slgGI"
   },
   "source": [
    "**`inferences-`**\n",
    "\n",
    " Based on the density plot analysis of the relationship between planned shipment time and actual shipment time in the FedEx dataset, with the delivery status indicated by hue, it appears that there is a positive correlation between these two variables. Specifically, the higher density regions of the plot indicate where there are more points clustered together, and there is a higher density of points in the upper right corner of the plot. This suggests that as planned shipment time increases, there is a tendency for actual shipment time to also increase. Additionally, there is some overlap in the distribution of delivery status colors, with both 0 and 1 colors appearing in the same regions of the plot. However, the majority of the 0 color appears as a diagonal line from the lower left to the upper right of the plot, while the majority of the 1 color appears as a diagonal line from the upper left to the lower right of the plot. This suggests that there may be a stronger relationship between planned and actual shipment time for deliveries that are cancelled (1) compared to deliveries that are completed (0). "
   ]
  },
  {
   "cell_type": "code",
   "execution_count": null,
   "metadata": {
    "colab": {
     "base_uri": "https://localhost:8080/",
     "height": 523
    },
    "id": "8MAAo-l5VnEm",
    "outputId": "1f0343e1-68d9-4f3c-d06d-20785177805e"
   },
   "outputs": [
    {
     "data": {
      "text/plain": [
       "<seaborn.axisgrid.FacetGrid at 0x7f01ff39a950>"
      ]
     },
     "execution_count": 67,
     "metadata": {},
     "output_type": "execute_result"
    },
    {
     "data": {
      "image/png": "[encoded data removed]",
      "text/plain": [
       "<Figure size 620.111x500 with 1 Axes>"
      ]
     },
     "metadata": {},
     "output_type": "display_data"
    }
   ],
   "source": [
    "sns.displot(x='Actual_Shipment_Time',y='Distance',hue='Delivery_Status',data=fedex,palette='rocket')"
   ]
  },
  {
   "cell_type": "markdown",
   "metadata": {
    "id": "56R22FVMmtnd"
   },
   "source": [
    "**`inferences-`**\n",
    "\n",
    "Based on the provided plot, it seems that there is no clear correlation between the actual shipment time and the distance traveled for both delivery statuses (d0 and d1). The density of points is relatively uniform throughout the plot, with no obvious patterns or clusters indicating a relationship between the two variables. However, it is important to note that further analysis may be necessary to fully understand the potential impact of these variables on delivery status and identify opportunities for improvement in the delivery process."
   ]
  },
  {
   "cell_type": "code",
   "execution_count": null,
   "metadata": {
    "colab": {
     "base_uri": "https://localhost:8080/",
     "height": 523
    },
    "id": "0BjDVXgfjexg",
    "outputId": "4194e29c-5919-4bba-8eff-aa0d624f1c24"
   },
   "outputs": [
    {
     "data": {
      "text/plain": [
       "<seaborn.axisgrid.FacetGrid at 0x7f01b4597ac0>"
      ]
     },
     "execution_count": 71,
     "metadata": {},
     "output_type": "execute_result"
    },
    {
     "data": {
      "image/png": "[encoded data removed]",
      "text/plain": [
       "<Figure size 620.111x500 with 1 Axes>"
      ]
     },
     "metadata": {},
     "output_type": "display_data"
    }
   ],
   "source": [
    "sns.lmplot(x='Shipment_Delay',y='Distance',data=fedex,hue='Delivery_Status',palette='Set2')"
   ]
  },
  {
   "cell_type": "markdown",
   "metadata": {
    "id": "IDnLNvwoi2Ln"
   },
   "source": [
    "# **`conclusion-`**\n",
    "\n",
    "Based on the visualizations and data analysis, it can be concluded that the columns 'Actual_Shipment_Time', 'Planned_Shipment_Time', 'Planned_Delivery_Time', 'Planned_TimeofTravel', 'Shipment_Delay', and 'Distance' have the most significant effect on the 'Delivery_Status' column. Specifically, delays in shipment and longer distances seem to be associated with a higher likelihood of delivery cancellations (1 in the 'Delivery_Status' column). Additionally, there appears to be a relationship between planned and actual shipment times and the likelihood of delivery cancellation, with delays in these times also potentially resulting in higher cancellation rates. Overall, improving shipment processes and reducing delays may be key strategies for improving delivery performance and customer satisfaction.\n"
   ]
  },
  {
   "cell_type": "code",
   "execution_count": null,
   "metadata": {
    "colab": {
     "base_uri": "https://localhost:8080/"
    },
    "id": "nfFzk9psBNzU",
    "outputId": "b1171053-78fd-4ae4-91c4-1d72b25515d1"
   },
   "outputs": [
    {
     "name": "stdout",
     "output_type": "stream",
     "text": [
      "['Year', 'Month', 'DayofMonth', 'DayOfWeek', 'Actual_Shipment_Time', 'Planned_Shipment_Time', 'Planned_Delivery_Time', 'Carrier_Name', 'Carrier_Num', 'Planned_TimeofTravel', 'Shipment_Delay', 'Source', 'Destination', 'Distance', 'Delivery_Status', 'Actual_Shipment_hour', 'Planned_Shipment_hour', 'Planned_Delivery_hour']\n"
     ]
    }
   ],
   "source": [
    "print(list(fedex))"
   ]
  },
  {
   "cell_type": "code",
   "execution_count": null,
   "metadata": {
    "id": "AQVjZIe3BHju"
   },
   "outputs": [],
   "source": [
    "fedex=fedex.reindex(columns=['Year', 'Month', 'DayofMonth', 'DayOfWeek','Carrier_Name', 'Carrier_Num', 'Source', 'Destination', 'Actual_Shipment_Time', 'Planned_Shipment_Time', 'Planned_Delivery_Time',  'Planned_TimeofTravel', 'Shipment_Delay', 'Distance', 'Delivery_Status'])"
   ]
  },
  {
   "cell_type": "code",
   "execution_count": null,
   "metadata": {},
   "outputs": [],
   "source": [
    "#MACHINE LEARNING MODELS"
   ]
  },
  {
   "cell_type": "code",
   "execution_count": null,
   "metadata": {
    "colab": {
     "base_uri": "https://localhost:8080/",
     "height": 270
    },
    "id": "FMVFkw0KBp66",
    "outputId": "e7bc3b86-f046-44f5-a624-c6345e457251"
   },
   "outputs": [
    {
     "data": {
      "text/html": [
       "\n",
       "  <div id=\"df-95ef5a20-3504-4f9e-9e19-4fdc4014441b\">\n",
       "    <div class=\"colab-df-container\">\n",
       "      <div>\n",
       "<style scoped>\n",
       "    .dataframe tbody tr th:only-of-type {\n",
       "        vertical-align: middle;\n",
       "    }\n",
       "\n",
       "    .dataframe tbody tr th {\n",
       "        vertical-align: top;\n",
       "    }\n",
       "\n",
       "    .dataframe thead th {\n",
       "        text-align: right;\n",
       "    }\n",
       "</style>\n",
       "<table border=\"1\" class=\"dataframe\">\n",
       "  <thead>\n",
       "    <tr style=\"text-align: right;\">\n",
       "      <th></th>\n",
       "      <th>Year</th>\n",
       "      <th>Month</th>\n",
       "      <th>DayofMonth</th>\n",
       "      <th>DayOfWeek</th>\n",
       "      <th>Carrier_Name</th>\n",
       "      <th>Carrier_Num</th>\n",
       "      <th>Source</th>\n",
       "      <th>Destination</th>\n",
       "      <th>Actual_Shipment_Time</th>\n",
       "      <th>Planned_Shipment_Time</th>\n",
       "      <th>Planned_Delivery_Time</th>\n",
       "      <th>Planned_TimeofTravel</th>\n",
       "      <th>Shipment_Delay</th>\n",
       "      <th>Distance</th>\n",
       "      <th>Delivery_Status</th>\n",
       "    </tr>\n",
       "  </thead>\n",
       "  <tbody>\n",
       "    <tr>\n",
       "      <th>0</th>\n",
       "      <td>2008</td>\n",
       "      <td>1</td>\n",
       "      <td>3</td>\n",
       "      <td>4</td>\n",
       "      <td>WN</td>\n",
       "      <td>335</td>\n",
       "      <td>IAD</td>\n",
       "      <td>TPA</td>\n",
       "      <td>20</td>\n",
       "      <td>19</td>\n",
       "      <td>22</td>\n",
       "      <td>150.0</td>\n",
       "      <td>8.0</td>\n",
       "      <td>810</td>\n",
       "      <td>0.0</td>\n",
       "    </tr>\n",
       "    <tr>\n",
       "      <th>1</th>\n",
       "      <td>2008</td>\n",
       "      <td>1</td>\n",
       "      <td>3</td>\n",
       "      <td>4</td>\n",
       "      <td>WN</td>\n",
       "      <td>3231</td>\n",
       "      <td>IAD</td>\n",
       "      <td>TPA</td>\n",
       "      <td>7</td>\n",
       "      <td>7</td>\n",
       "      <td>10</td>\n",
       "      <td>145.0</td>\n",
       "      <td>19.0</td>\n",
       "      <td>810</td>\n",
       "      <td>1.0</td>\n",
       "    </tr>\n",
       "    <tr>\n",
       "      <th>2</th>\n",
       "      <td>2008</td>\n",
       "      <td>1</td>\n",
       "      <td>3</td>\n",
       "      <td>4</td>\n",
       "      <td>WN</td>\n",
       "      <td>448</td>\n",
       "      <td>IND</td>\n",
       "      <td>BWI</td>\n",
       "      <td>6</td>\n",
       "      <td>6</td>\n",
       "      <td>7</td>\n",
       "      <td>90.0</td>\n",
       "      <td>8.0</td>\n",
       "      <td>515</td>\n",
       "      <td>0.0</td>\n",
       "    </tr>\n",
       "    <tr>\n",
       "      <th>3</th>\n",
       "      <td>2008</td>\n",
       "      <td>1</td>\n",
       "      <td>3</td>\n",
       "      <td>4</td>\n",
       "      <td>WN</td>\n",
       "      <td>1746</td>\n",
       "      <td>IND</td>\n",
       "      <td>BWI</td>\n",
       "      <td>9</td>\n",
       "      <td>9</td>\n",
       "      <td>11</td>\n",
       "      <td>90.0</td>\n",
       "      <td>-4.0</td>\n",
       "      <td>515</td>\n",
       "      <td>0.0</td>\n",
       "    </tr>\n",
       "    <tr>\n",
       "      <th>4</th>\n",
       "      <td>2008</td>\n",
       "      <td>1</td>\n",
       "      <td>3</td>\n",
       "      <td>4</td>\n",
       "      <td>WN</td>\n",
       "      <td>3920</td>\n",
       "      <td>IND</td>\n",
       "      <td>BWI</td>\n",
       "      <td>18</td>\n",
       "      <td>17</td>\n",
       "      <td>19</td>\n",
       "      <td>90.0</td>\n",
       "      <td>34.0</td>\n",
       "      <td>515</td>\n",
       "      <td>1.0</td>\n",
       "    </tr>\n",
       "  </tbody>\n",
       "</table>\n",
       "</div>\n",
       "      <button class=\"colab-df-convert\" onclick=\"convertToInteractive('df-95ef5a20-3504-4f9e-9e19-4fdc4014441b')\"\n",
       "              title=\"Convert this dataframe to an interactive table.\"\n",
       "              style=\"display:none;\">\n",
       "        \n",
       "  <svg xmlns=\"http://www.w3.org/2000/svg\" height=\"24px\"viewBox=\"0 0 24 24\"\n",
       "       width=\"24px\">\n",
       "    <path d=\"M0 0h24v24H0V0z\" fill=\"none\"/>\n",
       "    <path d=\"M18.56 5.44l.94 2.06.94-2.06 2.06-.94-2.06-.94-.94-2.06-.94 2.06-2.06.94zm-11 1L8.5 8.5l.94-2.06 2.06-.94-2.06-.94L8.5 2.5l-.94 2.06-2.06.94zm10 10l.94 2.06.94-2.06 2.06-.94-2.06-.94-.94-2.06-.94 2.06-2.06.94z\"/><path d=\"M17.41 7.96l-1.37-1.37c-.4-.4-.92-.59-1.43-.59-.52 0-1.04.2-1.43.59L10.3 9.45l-7.72 7.72c-.78.78-.78 2.05 0 2.83L4 21.41c.39.39.9.59 1.41.59.51 0 1.02-.2 1.41-.59l7.78-7.78 2.81-2.81c.8-.78.8-2.07 0-2.86zM5.41 20L4 18.59l7.72-7.72 1.47 1.35L5.41 20z\"/>\n",
       "  </svg>\n",
       "      </button>\n",
       "      \n",
       "  <style>\n",
       "    .colab-df-container {\n",
       "      display:flex;\n",
       "      flex-wrap:wrap;\n",
       "      gap: 12px;\n",
       "    }\n",
       "\n",
       "    .colab-df-convert {\n",
       "      background-color: #E8F0FE;\n",
       "      border: none;\n",
       "      border-radius: 50%;\n",
       "      cursor: pointer;\n",
       "      display: none;\n",
       "      fill: #1967D2;\n",
       "      height: 32px;\n",
       "      padding: 0 0 0 0;\n",
       "      width: 32px;\n",
       "    }\n",
       "\n",
       "    .colab-df-convert:hover {\n",
       "      background-color: #E2EBFA;\n",
       "      box-shadow: 0px 1px 2px rgba(60, 64, 67, 0.3), 0px 1px 3px 1px rgba(60, 64, 67, 0.15);\n",
       "      fill: #174EA6;\n",
       "    }\n",
       "\n",
       "    [theme=dark] .colab-df-convert {\n",
       "      background-color: #3B4455;\n",
       "      fill: #D2E3FC;\n",
       "    }\n",
       "\n",
       "    [theme=dark] .colab-df-convert:hover {\n",
       "      background-color: #434B5C;\n",
       "      box-shadow: 0px 1px 3px 1px rgba(0, 0, 0, 0.15);\n",
       "      filter: drop-shadow(0px 1px 2px rgba(0, 0, 0, 0.3));\n",
       "      fill: #FFFFFF;\n",
       "    }\n",
       "  </style>\n",
       "\n",
       "      <script>\n",
       "        const buttonEl =\n",
       "          document.querySelector('#df-95ef5a20-3504-4f9e-9e19-4fdc4014441b button.colab-df-convert');\n",
       "        buttonEl.style.display =\n",
       "          google.colab.kernel.accessAllowed ? 'block' : 'none';\n",
       "\n",
       "        async function convertToInteractive(key) {\n",
       "          const element = document.querySelector('#df-95ef5a20-3504-4f9e-9e19-4fdc4014441b');\n",
       "          const dataTable =\n",
       "            await google.colab.kernel.invokeFunction('convertToInteractive',\n",
       "                                                     [key], {});\n",
       "          if (!dataTable) return;\n",
       "\n",
       "          const docLinkHtml = 'Like what you see? Visit the ' +\n",
       "            '<a target=\"_blank\" href=https://colab.research.google.com/notebooks/data_table.ipynb>data table notebook</a>'\n",
       "            + ' to learn more about interactive tables.';\n",
       "          element.innerHTML = '';\n",
       "          dataTable['output_type'] = 'display_data';\n",
       "          await google.colab.output.renderOutput(dataTable, element);\n",
       "          const docLink = document.createElement('div');\n",
       "          docLink.innerHTML = docLinkHtml;\n",
       "          element.appendChild(docLink);\n",
       "        }\n",
       "      </script>\n",
       "    </div>\n",
       "  </div>\n",
       "  "
      ],
      "text/plain": [
       "   Year  Month  DayofMonth  DayOfWeek Carrier_Name  Carrier_Num Source  \\\n",
       "0  2008      1           3          4           WN          335    IAD   \n",
       "1  2008      1           3          4           WN         3231    IAD   \n",
       "2  2008      1           3          4           WN          448    IND   \n",
       "3  2008      1           3          4           WN         1746    IND   \n",
       "4  2008      1           3          4           WN         3920    IND   \n",
       "\n",
       "  Destination  Actual_Shipment_Time  Planned_Shipment_Time  \\\n",
       "0         TPA                    20                     19   \n",
       "1         TPA                     7                      7   \n",
       "2         BWI                     6                      6   \n",
       "3         BWI                     9                      9   \n",
       "4         BWI                    18                     17   \n",
       "\n",
       "   Planned_Delivery_Time  Planned_TimeofTravel  Shipment_Delay  Distance  \\\n",
       "0                     22                 150.0             8.0       810   \n",
       "1                     10                 145.0            19.0       810   \n",
       "2                      7                  90.0             8.0       515   \n",
       "3                     11                  90.0            -4.0       515   \n",
       "4                     19                  90.0            34.0       515   \n",
       "\n",
       "   Delivery_Status  \n",
       "0              0.0  \n",
       "1              1.0  \n",
       "2              0.0  \n",
       "3              0.0  \n",
       "4              1.0  "
      ]
     },
     "execution_count": 74,
     "metadata": {},
     "output_type": "execute_result"
    }
   ],
   "source": [
    "fedex.head()"
   ]
  },
  {
   "cell_type": "code",
   "execution_count": null,
   "metadata": {
    "id": "VaclA5nGB0pb"
   },
   "outputs": [],
   "source": [
    "x=fedex.iloc[:,8:-1]\n",
    "y=fedex['Delivery_Status']"
   ]
  },
  {
   "cell_type": "code",
   "execution_count": null,
   "metadata": {
    "colab": {
     "base_uri": "https://localhost:8080/",
     "height": 206
    },
    "id": "HQyJeLbXCFwU",
    "outputId": "b94c3732-f709-4f8d-9c5c-729fdbdda226"
   },
   "outputs": [
    {
     "data": {
      "text/html": [
       "\n",
       "  <div id=\"df-4556869d-97d4-433a-8e27-0bb514021fed\">\n",
       "    <div class=\"colab-df-container\">\n",
       "      <div>\n",
       "<style scoped>\n",
       "    .dataframe tbody tr th:only-of-type {\n",
       "        vertical-align: middle;\n",
       "    }\n",
       "\n",
       "    .dataframe tbody tr th {\n",
       "        vertical-align: top;\n",
       "    }\n",
       "\n",
       "    .dataframe thead th {\n",
       "        text-align: right;\n",
       "    }\n",
       "</style>\n",
       "<table border=\"1\" class=\"dataframe\">\n",
       "  <thead>\n",
       "    <tr style=\"text-align: right;\">\n",
       "      <th></th>\n",
       "      <th>Actual_Shipment_Time</th>\n",
       "      <th>Planned_Shipment_Time</th>\n",
       "      <th>Planned_Delivery_Time</th>\n",
       "      <th>Planned_TimeofTravel</th>\n",
       "      <th>Shipment_Delay</th>\n",
       "      <th>Distance</th>\n",
       "    </tr>\n",
       "  </thead>\n",
       "  <tbody>\n",
       "    <tr>\n",
       "      <th>0</th>\n",
       "      <td>20</td>\n",
       "      <td>19</td>\n",
       "      <td>22</td>\n",
       "      <td>150.0</td>\n",
       "      <td>8.0</td>\n",
       "      <td>810</td>\n",
       "    </tr>\n",
       "    <tr>\n",
       "      <th>1</th>\n",
       "      <td>7</td>\n",
       "      <td>7</td>\n",
       "      <td>10</td>\n",
       "      <td>145.0</td>\n",
       "      <td>19.0</td>\n",
       "      <td>810</td>\n",
       "    </tr>\n",
       "    <tr>\n",
       "      <th>2</th>\n",
       "      <td>6</td>\n",
       "      <td>6</td>\n",
       "      <td>7</td>\n",
       "      <td>90.0</td>\n",
       "      <td>8.0</td>\n",
       "      <td>515</td>\n",
       "    </tr>\n",
       "    <tr>\n",
       "      <th>3</th>\n",
       "      <td>9</td>\n",
       "      <td>9</td>\n",
       "      <td>11</td>\n",
       "      <td>90.0</td>\n",
       "      <td>-4.0</td>\n",
       "      <td>515</td>\n",
       "    </tr>\n",
       "    <tr>\n",
       "      <th>4</th>\n",
       "      <td>18</td>\n",
       "      <td>17</td>\n",
       "      <td>19</td>\n",
       "      <td>90.0</td>\n",
       "      <td>34.0</td>\n",
       "      <td>515</td>\n",
       "    </tr>\n",
       "  </tbody>\n",
       "</table>\n",
       "</div>\n",
       "      <button class=\"colab-df-convert\" onclick=\"convertToInteractive('df-4556869d-97d4-433a-8e27-0bb514021fed')\"\n",
       "              title=\"Convert this dataframe to an interactive table.\"\n",
       "              style=\"display:none;\">\n",
       "        \n",
       "  <svg xmlns=\"http://www.w3.org/2000/svg\" height=\"24px\"viewBox=\"0 0 24 24\"\n",
       "       width=\"24px\">\n",
       "    <path d=\"M0 0h24v24H0V0z\" fill=\"none\"/>\n",
       "    <path d=\"M18.56 5.44l.94 2.06.94-2.06 2.06-.94-2.06-.94-.94-2.06-.94 2.06-2.06.94zm-11 1L8.5 8.5l.94-2.06 2.06-.94-2.06-.94L8.5 2.5l-.94 2.06-2.06.94zm10 10l.94 2.06.94-2.06 2.06-.94-2.06-.94-.94-2.06-.94 2.06-2.06.94z\"/><path d=\"M17.41 7.96l-1.37-1.37c-.4-.4-.92-.59-1.43-.59-.52 0-1.04.2-1.43.59L10.3 9.45l-7.72 7.72c-.78.78-.78 2.05 0 2.83L4 21.41c.39.39.9.59 1.41.59.51 0 1.02-.2 1.41-.59l7.78-7.78 2.81-2.81c.8-.78.8-2.07 0-2.86zM5.41 20L4 18.59l7.72-7.72 1.47 1.35L5.41 20z\"/>\n",
       "  </svg>\n",
       "      </button>\n",
       "      \n",
       "  <style>\n",
       "    .colab-df-container {\n",
       "      display:flex;\n",
       "      flex-wrap:wrap;\n",
       "      gap: 12px;\n",
       "    }\n",
       "\n",
       "    .colab-df-convert {\n",
       "      background-color: #E8F0FE;\n",
       "      border: none;\n",
       "      border-radius: 50%;\n",
       "      cursor: pointer;\n",
       "      display: none;\n",
       "      fill: #1967D2;\n",
       "      height: 32px;\n",
       "      padding: 0 0 0 0;\n",
       "      width: 32px;\n",
       "    }\n",
       "\n",
       "    .colab-df-convert:hover {\n",
       "      background-color: #E2EBFA;\n",
       "      box-shadow: 0px 1px 2px rgba(60, 64, 67, 0.3), 0px 1px 3px 1px rgba(60, 64, 67, 0.15);\n",
       "      fill: #174EA6;\n",
       "    }\n",
       "\n",
       "    [theme=dark] .colab-df-convert {\n",
       "      background-color: #3B4455;\n",
       "      fill: #D2E3FC;\n",
       "    }\n",
       "\n",
       "    [theme=dark] .colab-df-convert:hover {\n",
       "      background-color: #434B5C;\n",
       "      box-shadow: 0px 1px 3px 1px rgba(0, 0, 0, 0.15);\n",
       "      filter: drop-shadow(0px 1px 2px rgba(0, 0, 0, 0.3));\n",
       "      fill: #FFFFFF;\n",
       "    }\n",
       "  </style>\n",
       "\n",
       "      <script>\n",
       "        const buttonEl =\n",
       "          document.querySelector('#df-4556869d-97d4-433a-8e27-0bb514021fed button.colab-df-convert');\n",
       "        buttonEl.style.display =\n",
       "          google.colab.kernel.accessAllowed ? 'block' : 'none';\n",
       "\n",
       "        async function convertToInteractive(key) {\n",
       "          const element = document.querySelector('#df-4556869d-97d4-433a-8e27-0bb514021fed');\n",
       "          const dataTable =\n",
       "            await google.colab.kernel.invokeFunction('convertToInteractive',\n",
       "                                                     [key], {});\n",
       "          if (!dataTable) return;\n",
       "\n",
       "          const docLinkHtml = 'Like what you see? Visit the ' +\n",
       "            '<a target=\"_blank\" href=https://colab.research.google.com/notebooks/data_table.ipynb>data table notebook</a>'\n",
       "            + ' to learn more about interactive tables.';\n",
       "          element.innerHTML = '';\n",
       "          dataTable['output_type'] = 'display_data';\n",
       "          await google.colab.output.renderOutput(dataTable, element);\n",
       "          const docLink = document.createElement('div');\n",
       "          docLink.innerHTML = docLinkHtml;\n",
       "          element.appendChild(docLink);\n",
       "        }\n",
       "      </script>\n",
       "    </div>\n",
       "  </div>\n",
       "  "
      ],
      "text/plain": [
       "   Actual_Shipment_Time  Planned_Shipment_Time  Planned_Delivery_Time  \\\n",
       "0                    20                     19                     22   \n",
       "1                     7                      7                     10   \n",
       "2                     6                      6                      7   \n",
       "3                     9                      9                     11   \n",
       "4                    18                     17                     19   \n",
       "\n",
       "   Planned_TimeofTravel  Shipment_Delay  Distance  \n",
       "0                 150.0             8.0       810  \n",
       "1                 145.0            19.0       810  \n",
       "2                  90.0             8.0       515  \n",
       "3                  90.0            -4.0       515  \n",
       "4                  90.0            34.0       515  "
      ]
     },
     "execution_count": 76,
     "metadata": {},
     "output_type": "execute_result"
    }
   ],
   "source": [
    "x.head()"
   ]
  },
  {
   "cell_type": "code",
   "execution_count": null,
   "metadata": {
    "id": "0NzGxyfYAMoj"
   },
   "outputs": [],
   "source": [
    "from sklearn.model_selection import train_test_split\n",
    "xtrain,xtest,ytrain,ytest=train_test_split(x,y,test_size=0.2,random_state=42)"
   ]
  },
  {
   "cell_type": "code",
   "execution_count": null,
   "metadata": {
    "id": "UBaXwHF5Dcvu"
   },
   "outputs": [],
   "source": [
    "from sklearn.linear_model import LogisticRegression\n",
    "model_lr = LogisticRegression()\n",
    "from sklearn.ensemble import RandomForestClassifier\n",
    "model_rf = RandomForestClassifier()\n",
    "from sklearn.tree import DecisionTreeClassifier\n",
    "model_dt=DecisionTreeClassifier()\n",
    "from sklearn.svm import SVC\n",
    "model_sv = SVC()\n",
    "from sklearn.neighbors import KNeighborsClassifier\n",
    "model_kn = KNeighborsClassifier()\n",
    "from sklearn.metrics import accuracy_score,precision_score"
   ]
  },
  {
   "cell_type": "markdown",
   "metadata": {},
   "source": [
    "# Logistic Regression Model"
   ]
  },
  {
   "cell_type": "code",
   "execution_count": null,
   "metadata": {
    "colab": {
     "base_uri": "https://localhost:8080/"
    },
    "id": "iWCRn6IjDctO",
    "outputId": "81227241-e647-40d5-8b7b-77cc4a675f97",
    "scrolled": true
   },
   "outputs": [
    {
     "name": "stderr",
     "output_type": "stream",
     "text": [
      "/usr/local/lib/python3.10/dist-packages/sklearn/linear_model/_logistic.py:458: ConvergenceWarning: lbfgs failed to converge (status=1):\n",
      "STOP: TOTAL NO. of ITERATIONS REACHED LIMIT.\n",
      "\n",
      "Increase the number of iterations (max_iter) or scale the data as shown in:\n",
      "    https://scikit-learn.org/stable/modules/preprocessing.html\n",
      "Please also refer to the documentation for alternative solver options:\n",
      "    https://scikit-learn.org/stable/modules/linear_model.html#logistic-regression\n",
      "  n_iter_i = _check_optimize_result(\n"
     ]
    },
    {
     "name": "stdout",
     "output_type": "stream",
     "text": [
      "accuracy_score 100.0\n",
      "precision_score LogisticRegression: 1.0\n"
     ]
    }
   ],
   "source": [
    "model_lr.fit(xtrain,ytrain)\n",
    "pred_lr=model_lr.predict(xtest)\n",
    "print(\"accuracy_score\",accuracy_score(ytest,pred_lr)*100)\n",
    "print(\"precision_score LogisticRegression:\",precision_score(ytest,pred_lr))"
   ]
  },
  {
   "cell_type": "markdown",
   "metadata": {},
   "source": [
    "# K-Nearest Neghbours Classifier Model"
   ]
  },
  {
   "cell_type": "code",
   "execution_count": null,
   "metadata": {
    "colab": {
     "base_uri": "https://localhost:8080/"
    },
    "id": "tSnUXJVaDcpp",
    "outputId": "2697dabb-2f70-4ffb-f805-4972500cadad"
   },
   "outputs": [
    {
     "name": "stdout",
     "output_type": "stream",
     "text": [
      "accuracy_score 99.53821016335124\n",
      "precision_score KNeighborsClassifier 0.9919661793002711\n"
     ]
    }
   ],
   "source": [
    "model_kn.fit(xtrain,ytrain)\n",
    "pred_kn=model_kn.predict(xtest)\n",
    "print(\"accuracy_score\",accuracy_score(ytest,pred_kn)*100)\n",
    "print(\"precision_score KNeighborsClassifier\",precision_score(ytest,pred_kn))"
   ]
  },
  {
   "cell_type": "markdown",
   "metadata": {},
   "source": [
    "# Random Forest Classifier Model"
   ]
  },
  {
   "cell_type": "code",
   "execution_count": null,
   "metadata": {
    "colab": {
     "base_uri": "https://localhost:8080/"
    },
    "id": "reBX-MB0JHMb",
    "outputId": "c6713f67-0379-43fb-9271-a409f3486b48"
   },
   "outputs": [
    {
     "name": "stdout",
     "output_type": "stream",
     "text": [
      "accuracy_score 100.0\n",
      "precision_score RandomForestClassifier: 1.0\n"
     ]
    }
   ],
   "source": [
    "model_rf.fit(xtrain,ytrain)\n",
    "pred_rf=model_rf.predict(xtest)\n",
    "print(\"accuracy_score\",accuracy_score(ytest,pred_rf)*100)\n",
    "print(\"precision_score RandomForestClassifier:\",precision_score(ytest,pred_rf))"
   ]
  },
  {
   "cell_type": "markdown",
   "metadata": {},
   "source": [
    "# Decision Tree Classifier Model"
   ]
  },
  {
   "cell_type": "code",
   "execution_count": null,
   "metadata": {
    "colab": {
     "base_uri": "https://localhost:8080/"
    },
    "id": "-UMtSwyPCL0p",
    "outputId": "ad8fb9c9-776d-4de3-ac69-015c355be70d"
   },
   "outputs": [
    {
     "name": "stdout",
     "output_type": "stream",
     "text": [
      "accuracy_score 100.0\n",
      "precision_score DecisionTreeClassifier: 1.0\n"
     ]
    }
   ],
   "source": [
    "model_dt.fit(xtrain,ytrain)\n",
    "pred_dt=model_dt.predict(xtest)\n",
    "print(\"accuracy_score\",accuracy_score(ytest,pred_dt)*100)\n",
    "print(\"precision_score DecisionTreeClassifier:\",precision_score(ytest,pred_dt))"
   ]
  },
  {
   "cell_type": "markdown",
   "metadata": {
    "id": "xp3OG_2Yjpjo"
   },
   "source": [
    "**`conclusion-`**\n",
    "\n",
    "An accuracy score of 100% suggests that the random forest and decision tree classifiers were able to predict the delivery status accurately for all the test samples. However, it is important to be cautious about such high accuracy scores as they may indicate overfitting to the training data. Therefore, it would be advisable to perform additional testing on unseen data to validate the performance of these models.\n",
    "\n",
    "The precision score of 1 for both models indicates that the models had no false positives, i.e., all the predicted positive values were actually positive. However, it is important to evaluate other performance metrics as well, such as recall, F1 score, and ROC AUC, to get a more comprehensive understanding of the model's performance"
   ]
  }
 ],
 "metadata": {
  "colab": {
   "provenance": []
  },
  "gpuClass": "standard",
  "kernelspec": {
   "display_name": "Python 3 (ipykernel)",
   "language": "python",
   "name": "python3"
  },
  "language_info": {
   "codemirror_mode": {
    "name": "ipython",
    "version": 3
   },
   "file_extension": ".py",
   "mimetype": "text/x-python",
   "name": "python",
   "nbconvert_exporter": "python",
   "pygments_lexer": "ipython3",
   "version": "3.9.13"
  }
 },
 "nbformat": 4,
 "nbformat_minor": 1
}
