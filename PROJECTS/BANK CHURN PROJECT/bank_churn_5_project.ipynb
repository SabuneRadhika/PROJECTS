{
 "cells": [
  {
   "cell_type": "markdown",
   "metadata": {},
   "source": [
    "# Title: Analyzing Bank Churn Dataset: Understanding Customer Retention Factors"
   ]
  },
  {
   "cell_type": "markdown",
   "metadata": {},
   "source": [
    "The Bank Churn dataset is a comprehensive collection of customer data obtained from a bank. It provides valuable insights into customer behavior and factors influencing churn within the banking industry. The dataset includes a range of customer attributes such as credit score, country, gender, age, tenure, balance, credit card usage, active membership status, estimated salary, and churn status. Each attribute contributes to understanding the dynamics of customer churn and can be analyzed to identify patterns and trends. By exploring this dataset, researchers and analysts can gain a deeper understanding of customer churn and develop strategies to improve customer retention rates."
   ]
  },
  {
   "cell_type": "code",
   "execution_count": null,
   "metadata": {
    "id": "FV2LiiSaq0lJ"
   },
   "outputs": [],
   "source": []
  },
  {
   "cell_type": "code",
   "execution_count": 1,
   "metadata": {
    "id": "KSOJHVBHrAeV"
   },
   "outputs": [],
   "source": [
    "import  numpy as np\n",
    "import pandas as pd \n",
    "import seaborn as sns\n",
    "import matplotlib.pyplot as plt\n",
    "%matplotlib inline\n",
    "import warnings\n",
    "warnings.filterwarnings('ignore')\n",
    "bank = pd.read_csv(\"Bank_Churn.csv\")"
   ]
  },
  {
   "cell_type": "code",
   "execution_count": 2,
   "metadata": {
    "colab": {
     "base_uri": "https://localhost:8080/",
     "height": 424
    },
    "id": "BXmm5r5jrAhl",
    "outputId": "c867f832-9cde-4721-f135-2c59a43f59ec"
   },
   "outputs": [
    {
     "data": {
      "text/html": [
       "<div>\n",
       "<style scoped>\n",
       "    .dataframe tbody tr th:only-of-type {\n",
       "        vertical-align: middle;\n",
       "    }\n",
       "\n",
       "    .dataframe tbody tr th {\n",
       "        vertical-align: top;\n",
       "    }\n",
       "\n",
       "    .dataframe thead th {\n",
       "        text-align: right;\n",
       "    }\n",
       "</style>\n",
       "<table border=\"1\" class=\"dataframe\">\n",
       "  <thead>\n",
       "    <tr style=\"text-align: right;\">\n",
       "      <th></th>\n",
       "      <th>customer_id</th>\n",
       "      <th>credit_score</th>\n",
       "      <th>country</th>\n",
       "      <th>gender</th>\n",
       "      <th>age</th>\n",
       "      <th>tenure</th>\n",
       "      <th>balance</th>\n",
       "      <th>credit_card</th>\n",
       "      <th>active_member</th>\n",
       "      <th>estimated_salary</th>\n",
       "      <th>churn</th>\n",
       "    </tr>\n",
       "  </thead>\n",
       "  <tbody>\n",
       "    <tr>\n",
       "      <th>0</th>\n",
       "      <td>15634602</td>\n",
       "      <td>619</td>\n",
       "      <td>France</td>\n",
       "      <td>Female</td>\n",
       "      <td>42</td>\n",
       "      <td>2</td>\n",
       "      <td>0.00</td>\n",
       "      <td>1</td>\n",
       "      <td>1</td>\n",
       "      <td>101348.88</td>\n",
       "      <td>1</td>\n",
       "    </tr>\n",
       "    <tr>\n",
       "      <th>1</th>\n",
       "      <td>15647311</td>\n",
       "      <td>608</td>\n",
       "      <td>Spain</td>\n",
       "      <td>Female</td>\n",
       "      <td>41</td>\n",
       "      <td>1</td>\n",
       "      <td>83807.86</td>\n",
       "      <td>0</td>\n",
       "      <td>1</td>\n",
       "      <td>112542.58</td>\n",
       "      <td>0</td>\n",
       "    </tr>\n",
       "    <tr>\n",
       "      <th>2</th>\n",
       "      <td>15619304</td>\n",
       "      <td>502</td>\n",
       "      <td>France</td>\n",
       "      <td>Female</td>\n",
       "      <td>42</td>\n",
       "      <td>8</td>\n",
       "      <td>159660.80</td>\n",
       "      <td>1</td>\n",
       "      <td>0</td>\n",
       "      <td>113931.57</td>\n",
       "      <td>1</td>\n",
       "    </tr>\n",
       "    <tr>\n",
       "      <th>3</th>\n",
       "      <td>15701354</td>\n",
       "      <td>699</td>\n",
       "      <td>France</td>\n",
       "      <td>Female</td>\n",
       "      <td>39</td>\n",
       "      <td>1</td>\n",
       "      <td>0.00</td>\n",
       "      <td>0</td>\n",
       "      <td>0</td>\n",
       "      <td>93826.63</td>\n",
       "      <td>0</td>\n",
       "    </tr>\n",
       "    <tr>\n",
       "      <th>4</th>\n",
       "      <td>15737888</td>\n",
       "      <td>850</td>\n",
       "      <td>Spain</td>\n",
       "      <td>Female</td>\n",
       "      <td>43</td>\n",
       "      <td>2</td>\n",
       "      <td>125510.82</td>\n",
       "      <td>1</td>\n",
       "      <td>1</td>\n",
       "      <td>79084.10</td>\n",
       "      <td>0</td>\n",
       "    </tr>\n",
       "    <tr>\n",
       "      <th>...</th>\n",
       "      <td>...</td>\n",
       "      <td>...</td>\n",
       "      <td>...</td>\n",
       "      <td>...</td>\n",
       "      <td>...</td>\n",
       "      <td>...</td>\n",
       "      <td>...</td>\n",
       "      <td>...</td>\n",
       "      <td>...</td>\n",
       "      <td>...</td>\n",
       "      <td>...</td>\n",
       "    </tr>\n",
       "    <tr>\n",
       "      <th>9995</th>\n",
       "      <td>15606229</td>\n",
       "      <td>771</td>\n",
       "      <td>France</td>\n",
       "      <td>Male</td>\n",
       "      <td>39</td>\n",
       "      <td>5</td>\n",
       "      <td>0.00</td>\n",
       "      <td>1</td>\n",
       "      <td>0</td>\n",
       "      <td>96270.64</td>\n",
       "      <td>0</td>\n",
       "    </tr>\n",
       "    <tr>\n",
       "      <th>9996</th>\n",
       "      <td>15569892</td>\n",
       "      <td>516</td>\n",
       "      <td>France</td>\n",
       "      <td>Male</td>\n",
       "      <td>35</td>\n",
       "      <td>10</td>\n",
       "      <td>57369.61</td>\n",
       "      <td>1</td>\n",
       "      <td>1</td>\n",
       "      <td>101699.77</td>\n",
       "      <td>0</td>\n",
       "    </tr>\n",
       "    <tr>\n",
       "      <th>9997</th>\n",
       "      <td>15584532</td>\n",
       "      <td>709</td>\n",
       "      <td>France</td>\n",
       "      <td>Female</td>\n",
       "      <td>36</td>\n",
       "      <td>7</td>\n",
       "      <td>0.00</td>\n",
       "      <td>0</td>\n",
       "      <td>1</td>\n",
       "      <td>42085.58</td>\n",
       "      <td>1</td>\n",
       "    </tr>\n",
       "    <tr>\n",
       "      <th>9998</th>\n",
       "      <td>15682355</td>\n",
       "      <td>772</td>\n",
       "      <td>Germany</td>\n",
       "      <td>Male</td>\n",
       "      <td>42</td>\n",
       "      <td>3</td>\n",
       "      <td>75075.31</td>\n",
       "      <td>1</td>\n",
       "      <td>0</td>\n",
       "      <td>92888.52</td>\n",
       "      <td>1</td>\n",
       "    </tr>\n",
       "    <tr>\n",
       "      <th>9999</th>\n",
       "      <td>15628319</td>\n",
       "      <td>792</td>\n",
       "      <td>France</td>\n",
       "      <td>Female</td>\n",
       "      <td>28</td>\n",
       "      <td>4</td>\n",
       "      <td>130142.79</td>\n",
       "      <td>1</td>\n",
       "      <td>0</td>\n",
       "      <td>38190.78</td>\n",
       "      <td>0</td>\n",
       "    </tr>\n",
       "  </tbody>\n",
       "</table>\n",
       "<p>10000 rows × 11 columns</p>\n",
       "</div>"
      ],
      "text/plain": [
       "      customer_id  credit_score  country  gender  age  tenure    balance  \\\n",
       "0        15634602           619   France  Female   42       2       0.00   \n",
       "1        15647311           608    Spain  Female   41       1   83807.86   \n",
       "2        15619304           502   France  Female   42       8  159660.80   \n",
       "3        15701354           699   France  Female   39       1       0.00   \n",
       "4        15737888           850    Spain  Female   43       2  125510.82   \n",
       "...           ...           ...      ...     ...  ...     ...        ...   \n",
       "9995     15606229           771   France    Male   39       5       0.00   \n",
       "9996     15569892           516   France    Male   35      10   57369.61   \n",
       "9997     15584532           709   France  Female   36       7       0.00   \n",
       "9998     15682355           772  Germany    Male   42       3   75075.31   \n",
       "9999     15628319           792   France  Female   28       4  130142.79   \n",
       "\n",
       "      credit_card  active_member  estimated_salary  churn  \n",
       "0               1              1         101348.88      1  \n",
       "1               0              1         112542.58      0  \n",
       "2               1              0         113931.57      1  \n",
       "3               0              0          93826.63      0  \n",
       "4               1              1          79084.10      0  \n",
       "...           ...            ...               ...    ...  \n",
       "9995            1              0          96270.64      0  \n",
       "9996            1              1         101699.77      0  \n",
       "9997            0              1          42085.58      1  \n",
       "9998            1              0          92888.52      1  \n",
       "9999            1              0          38190.78      0  \n",
       "\n",
       "[10000 rows x 11 columns]"
      ]
     },
     "execution_count": 2,
     "metadata": {},
     "output_type": "execute_result"
    }
   ],
   "source": [
    "bank"
   ]
  },
  {
   "cell_type": "code",
   "execution_count": 3,
   "metadata": {
    "colab": {
     "base_uri": "https://localhost:8080/"
    },
    "id": "0MnN2HO1rAkf",
    "outputId": "73442652-3fa1-411a-d4dd-7270e0ee3e4b"
   },
   "outputs": [
    {
     "data": {
      "text/plain": [
       "0"
      ]
     },
     "execution_count": 3,
     "metadata": {},
     "output_type": "execute_result"
    }
   ],
   "source": [
    "bank.duplicated().sum()"
   ]
  },
  {
   "cell_type": "code",
   "execution_count": 4,
   "metadata": {
    "colab": {
     "base_uri": "https://localhost:8080/"
    },
    "id": "sYQl06nxrAoA",
    "outputId": "0a025547-eddb-4a78-fc0e-fc56c7eb94df"
   },
   "outputs": [
    {
     "data": {
      "text/plain": [
       "customer_id         0\n",
       "credit_score        0\n",
       "country             0\n",
       "gender              0\n",
       "age                 0\n",
       "tenure              0\n",
       "balance             0\n",
       "credit_card         0\n",
       "active_member       0\n",
       "estimated_salary    0\n",
       "churn               0\n",
       "dtype: int64"
      ]
     },
     "execution_count": 4,
     "metadata": {},
     "output_type": "execute_result"
    }
   ],
   "source": [
    "bank.isnull().sum()"
   ]
  },
  {
   "cell_type": "code",
   "execution_count": 5,
   "metadata": {
    "id": "nhPA7Zh1tfES"
   },
   "outputs": [],
   "source": [
    "bank['age G']=pd.cut(bank['age'],bins=[18,30,40,50],labels=['18-30','30-40','40+'])"
   ]
  },
  {
   "cell_type": "code",
   "execution_count": 6,
   "metadata": {
    "colab": {
     "base_uri": "https://localhost:8080/"
    },
    "id": "ve8CxnnS3Igq",
    "outputId": "70077769-7e09-43b1-aa6d-39b41250ae72"
   },
   "outputs": [
    {
     "name": "stdout",
     "output_type": "stream",
     "text": [
      "['customer_id', 'credit_score', 'country', 'gender', 'age', 'tenure', 'balance', 'credit_card', 'active_member', 'estimated_salary', 'churn', 'age G']\n"
     ]
    }
   ],
   "source": [
    "print(list(bank))"
   ]
  },
  {
   "cell_type": "code",
   "execution_count": 7,
   "metadata": {
    "id": "F4pbG-LN3DoW"
   },
   "outputs": [],
   "source": [
    "bank=bank.reindex(columns=['customer_id',   'credit_card', 'age G','country', 'estimated_salary' ,'gender','age','credit_score',  'tenure', 'balance', 'active_member', 'churn'])"
   ]
  },
  {
   "cell_type": "code",
   "execution_count": 8,
   "metadata": {
    "colab": {
     "base_uri": "https://localhost:8080/",
     "height": 523
    },
    "id": "_YapKM753DlB",
    "outputId": "08463469-acb3-4396-a70e-13e79227c2dd"
   },
   "outputs": [
    {
     "data": {
      "text/plain": [
       "<seaborn.axisgrid.FacetGrid at 0x22a87325940>"
      ]
     },
     "execution_count": 8,
     "metadata": {},
     "output_type": "execute_result"
    },
    {
     "data": {
      "image/png": "[encoded data removed]",
      "text/plain": [
       "<Figure size 500x500 with 1 Axes>"
      ]
     },
     "metadata": {},
     "output_type": "display_data"
    }
   ],
   "source": [
    "sns.displot(x='churn',y='age',data=bank)"
   ]
  },
  {
   "cell_type": "markdown",
   "metadata": {
    "id": "s7Zn91Er1Tg0"
   },
   "source": [
    "inference-\n",
    "\n",
    "The darker colored bars represent the age distribution for the customers who did not churn (churn=0) between the ages of 25 and 45. This suggests that younger customers are more likely to stay with the bank. However, we cannot make any definitive conclusions without further analysis or a visual representation of the bars. Additionally, histograms may not be the best type of plot for comparing the age distribution between two groups, especially if the sample sizes differ significantly."
   ]
  },
  {
   "cell_type": "code",
   "execution_count": 9,
   "metadata": {
    "colab": {
     "base_uri": "https://localhost:8080/",
     "height": 466
    },
    "id": "LLFPsjHSxe3X",
    "outputId": "79d88312-43f8-4907-fe20-7d3b5e1fd891"
   },
   "outputs": [
    {
     "data": {
      "text/plain": [
       "<AxesSubplot:xlabel='churn', ylabel='gender'>"
      ]
     },
     "execution_count": 9,
     "metadata": {},
     "output_type": "execute_result"
    },
    {
     "data": {
      "image/png": "[encoded data removed]",
      "text/plain": [
       "<Figure size 640x480 with 1 Axes>"
      ]
     },
     "metadata": {},
     "output_type": "display_data"
    }
   ],
   "source": [
    "sns.barplot(x=bank['churn'],y=bank['gender'])"
   ]
  },
  {
   "cell_type": "code",
   "execution_count": 10,
   "metadata": {
    "colab": {
     "base_uri": "https://localhost:8080/",
     "height": 510
    },
    "id": "iSLfTfiWbElS",
    "outputId": "41135a07-f6ca-42d7-896d-55de3bfcf49b"
   },
   "outputs": [
    {
     "data": {
      "text/plain": [
       "([<matplotlib.patches.Wedge at 0x22a89467550>,\n",
       "  <matplotlib.patches.Wedge at 0x22a89467c70>],\n",
       " [Text(-0.6618432068009882, 0.8786145739807555, 'Credit card avtice members'),\n",
       "  Text(0.6618432068009881, -0.8786145739807556, 'Credit card not avtice members')],\n",
       " [Text(-0.3610053855278117, 0.47924431308041204, '70.55'),\n",
       "  Text(0.36100538552781164, -0.4792443130804121, '29.45')])"
      ]
     },
     "execution_count": 10,
     "metadata": {},
     "output_type": "execute_result"
    },
    {
     "data": {
      "image/png": "[encoded data removed]",
      "text/plain": [
       "<Figure size 640x480 with 1 Axes>"
      ]
     },
     "metadata": {},
     "output_type": "display_data"
    }
   ],
   "source": [
    "plt.pie(bank.credit_card.value_counts().values,labels=['Credit card avtice members','Credit card not avtice members'],autopct='%.2f',)\n"
   ]
  },
  {
   "cell_type": "markdown",
   "metadata": {
    "id": "3lRSYV3e1XU4"
   },
   "source": [
    "inference-\n",
    "\n"
   ]
  },
  {
   "cell_type": "markdown",
   "metadata": {
    "id": "ZLxe4ZF915Tk"
   },
   "source": [
    "inferences-\n",
    "\n",
    "The plt.pie() command creates a pie chart to show the proportion of customers who are active or not active credit card members. The pie chart indicates that 70.55% of the customers in the bank dataset are active credit card members, while 29.45% are not active.\n",
    "\n",
    "This suggests that the majority of customers in the bank dataset have an active credit card membership. However, we cannot make any definitive conclusions without further analysis or understanding of the context in which the dataset was collected.\n",
    "\n",
    "It is worth noting that pie charts may not always be the best type of plot for presenting data, as it can be difficult to accurately compare the sizes of different segments, especially when there are many categories. In some cases, a bar chart or stacked bar chart may be more appropriate."
   ]
  },
  {
   "cell_type": "code",
   "execution_count": 11,
   "metadata": {
    "colab": {
     "base_uri": "https://localhost:8080/",
     "height": 445
    },
    "id": "jY35-OyrdLrT",
    "outputId": "9bde4f61-42b7-43c5-ec14-db6ec204823c"
   },
   "outputs": [
    {
     "data": {
      "text/plain": [
       "Text(0.5, 1.0, 'GENDER')"
      ]
     },
     "execution_count": 11,
     "metadata": {},
     "output_type": "execute_result"
    },
    {
     "data": {
      "image/png": "[encoded data removed]",
      "text/plain": [
       "<Figure size 640x480 with 1 Axes>"
      ]
     },
     "metadata": {},
     "output_type": "display_data"
    }
   ],
   "source": [
    "plt.pie(bank.gender.value_counts(),labels=['Female','Male'],explode=[0.1,0], autopct=\"%.2f\",colors=['pink','blue'])\n",
    "plt.title('GENDER')\n"
   ]
  },
  {
   "cell_type": "markdown",
   "metadata": {
    "id": "iXs_wP-K2W7R"
   },
   "source": [
    "inferences-\n",
    "\n",
    "\n",
    "The plt.pie() command creates a pie chart to show the proportion of male and female customers in the bank dataset. The chart indicates that there are slightly more female customers (54.57%) than male customers (45.43%) in the dataset. However, we cannot make any definitive conclusions without further analysis or understanding of the context in which the data was collected."
   ]
  },
  {
   "cell_type": "code",
   "execution_count": 12,
   "metadata": {
    "colab": {
     "base_uri": "https://localhost:8080/",
     "height": 524
    },
    "id": "XdU8KOB03DW7",
    "outputId": "fb96de4a-b32b-48cd-dea0-55a7dca3bda6"
   },
   "outputs": [
    {
     "data": {
      "text/plain": [
       "<seaborn.axisgrid.FacetGrid at 0x22a894a4130>"
      ]
     },
     "execution_count": 12,
     "metadata": {},
     "output_type": "execute_result"
    },
    {
     "data": {
      "image/png": "[encoded data removed]",
      "text/plain": [
       "<Figure size 500x500 with 1 Axes>"
      ]
     },
     "metadata": {},
     "output_type": "display_data"
    }
   ],
   "source": [
    "sns.catplot(x='churn',y='credit_score',data=bank,color='y',kind='violin')"
   ]
  },
  {
   "cell_type": "markdown",
   "metadata": {
    "id": "xY3nRAd-29dY"
   },
   "source": [
    "inferences-\n",
    "\n",
    "The plot indicates that the median credit score for customers who churned (churn=1) is slightly lower than that of customers who did not churn (churn=0). However, both groups have similar interquartile ranges, suggesting that there is significant overlap in the credit scores of the two groups.\n",
    "\n",
    "It is important to note that the violin plot is a density estimate of the data and does not show the actual number of observations at each value. Therefore, further analysis such as hypothesis testing or statistical modeling may be required to draw more definitive conclusions."
   ]
  },
  {
   "cell_type": "code",
   "execution_count": 13,
   "metadata": {
    "colab": {
     "base_uri": "https://localhost:8080/",
     "height": 523
    },
    "id": "_d0Ed-jVraoz",
    "outputId": "71acb13a-78ed-44e8-f1f7-6bce0cb03693"
   },
   "outputs": [
    {
     "data": {
      "text/plain": [
       "<seaborn.axisgrid.FacetGrid at 0x22a8952fdc0>"
      ]
     },
     "execution_count": 13,
     "metadata": {},
     "output_type": "execute_result"
    },
    {
     "data": {
      "image/png": "[encoded data removed]",
      "text/plain": [
       "<Figure size 500x500 with 1 Axes>"
      ]
     },
     "metadata": {},
     "output_type": "display_data"
    }
   ],
   "source": [
    "sns.catplot(x='churn',y='credit_card',data=bank,kind='violin',palette='Set2')"
   ]
  },
  {
   "cell_type": "markdown",
   "metadata": {
    "id": "8zKOTLOr3hTs"
   },
   "source": [
    "inference-\n",
    "\n",
    "The plot indicates that customers who did not churn (churn=0) have a slightly lower volume of credit card usage compared to those who churned (churn=1). This suggests that customers who use their credit cards more frequently may be more likely to churn."
   ]
  },
  {
   "cell_type": "code",
   "execution_count": 14,
   "metadata": {
    "colab": {
     "base_uri": "https://localhost:8080/",
     "height": 523
    },
    "id": "3GkJncoOramc",
    "outputId": "79806042-8fa4-4a35-c48f-31f412521366"
   },
   "outputs": [
    {
     "data": {
      "text/plain": [
       "<seaborn.axisgrid.FacetGrid at 0x22a8a62ee50>"
      ]
     },
     "execution_count": 14,
     "metadata": {},
     "output_type": "execute_result"
    },
    {
     "data": {
      "image/png": "[encoded data removed]",
      "text/plain": [
       "<Figure size 613.875x500 with 1 Axes>"
      ]
     },
     "metadata": {},
     "output_type": "display_data"
    }
   ],
   "source": [
    "sns.displot(y='churn',hue='country',data=bank,palette='Greys')"
   ]
  },
  {
   "cell_type": "markdown",
   "metadata": {
    "id": "18yRH-PK34hz"
   },
   "source": [
    "inferences-\n",
    "\n",
    "\n",
    "The histogram indicates that in churn=0 category, France has the highest number of customers followed by Spain and Germany, respectively. However, in churn=1 category, the number of customers from each country is relatively equal.\n",
    "\n",
    "This suggests that the distribution of churn status varies across different countries, with France having a larger proportion of loyal customers (churn=0) compared to Spain and Germany."
   ]
  },
  {
   "cell_type": "code",
   "execution_count": 15,
   "metadata": {
    "colab": {
     "base_uri": "https://localhost:8080/",
     "height": 523
    },
    "id": "-Uxtw0b5rajF",
    "outputId": "52157a29-4794-43ca-e477-56a05e169f50"
   },
   "outputs": [
    {
     "data": {
      "text/plain": [
       "<seaborn.axisgrid.FacetGrid at 0x22a8a5c1bb0>"
      ]
     },
     "execution_count": 15,
     "metadata": {},
     "output_type": "execute_result"
    },
    {
     "data": {
      "image/png": "[encoded data removed]",
      "text/plain": [
       "<Figure size 558.875x500 with 1 Axes>"
      ]
     },
     "metadata": {},
     "output_type": "display_data"
    }
   ],
   "source": [
    "sns.displot(hue='churn',y='tenure',data=bank,palette='Set1')"
   ]
  },
  {
   "cell_type": "markdown",
   "metadata": {
    "id": "PfwvkFCJ7CgK"
   },
   "source": [
    "inferences-\n",
    "\n",
    "\n",
    "This histogram to show the distribution of tenure (i.e., the length of time a customer has been with the bank) for customers who churned (churn=1) and those who did not churn (churn=0) in the bank dataset.\n",
    "\n",
    "The histogram indicates that the distribution of tenure for customers who churned (churn=1) is skewed towards lower values compared to those who did not churn (churn=0). In fact, the number of customers who churned decreases sharply after the first year of tenure.\n",
    "\n",
    "This suggests that customers who have been with the bank for a longer period of time are less likely to churn. In fact, the number of customers who churned after the first year of tenure is around 60% lower compared to those who did not churn.\n",
    "\n"
   ]
  },
  {
   "cell_type": "code",
   "execution_count": 16,
   "metadata": {
    "colab": {
     "base_uri": "https://localhost:8080/",
     "height": 466
    },
    "id": "M4_ktgPtragD",
    "outputId": "a79bcccc-832b-49ca-b2bf-5185d9f1cb4a"
   },
   "outputs": [
    {
     "data": {
      "text/plain": [
       "<AxesSubplot:xlabel='churn', ylabel='balance'>"
      ]
     },
     "execution_count": 16,
     "metadata": {},
     "output_type": "execute_result"
    },
    {
     "data": {
      "image/png": "[encoded data removed]",
      "text/plain": [
       "<Figure size 640x480 with 1 Axes>"
      ]
     },
     "metadata": {},
     "output_type": "display_data"
    }
   ],
   "source": [
    "sns.barplot(x='churn',y='balance',data=bank)"
   ]
  },
  {
   "cell_type": "markdown",
   "metadata": {
    "id": "CTQmfmQK7jSQ"
   },
   "source": [
    "inferences-\n",
    "\n",
    "The plot indicates that the average balance of customers who churned (churn=1) is higher compared to those who did not churn (churn=0). In particular, the average balance of customers who churned is above 90,000, whereas the average balance of those who did not churn is below 70,000.\n",
    "\n",
    "This suggests that customers with higher balances may be more likely to churn."
   ]
  },
  {
   "cell_type": "code",
   "execution_count": 17,
   "metadata": {
    "colab": {
     "base_uri": "https://localhost:8080/",
     "height": 523
    },
    "id": "gYrXoMYiradb",
    "outputId": "b3c285fa-8152-45a7-eb43-17929f653eea"
   },
   "outputs": [
    {
     "data": {
      "text/plain": [
       "<seaborn.axisgrid.FacetGrid at 0x22a89544bb0>"
      ]
     },
     "execution_count": 17,
     "metadata": {},
     "output_type": "execute_result"
    },
    {
     "data": {
      "image/png": "[encoded data removed]",
      "text/plain": [
       "<Figure size 558.875x500 with 1 Axes>"
      ]
     },
     "metadata": {},
     "output_type": "display_data"
    }
   ],
   "source": [
    "sns.displot(hue='churn',y='active_member',data=bank,palette='rocket')"
   ]
  },
  {
   "cell_type": "markdown",
   "metadata": {
    "id": "8VAMFvEj75dO"
   },
   "source": [
    "inferences-\n",
    "\n",
    "\n",
    "The histogram indicates that the number of customers who did not churn (churn=0) and who are active members (active_member=1) is much higher compared to those who churned (churn=1) and who are active members. Additionally, the number of customers who did not churn and who are inactive members (active_member=0) is higher compared to those who churned and who are inactive members."
   ]
  },
  {
   "cell_type": "code",
   "execution_count": 18,
   "metadata": {
    "colab": {
     "base_uri": "https://localhost:8080/",
     "height": 510
    },
    "id": "yAF4GwPBxhg4",
    "outputId": "63b38485-1d0b-4380-b382-e1d050450fb5"
   },
   "outputs": [
    {
     "data": {
      "text/plain": [
       "([<matplotlib.patches.Wedge at 0x22a8a8fe610>,\n",
       "  <matplotlib.patches.Wedge at 0x22a8a8fed30>],\n",
       " [Text(-0.05216229267876963, 1.0987625290400536, 'Avtice members'),\n",
       "  Text(0.05216229267876925, -1.0987625290400536, 'Not avtice members')],\n",
       " [Text(-0.028452159642965248, 0.5993250158400292, '51.51'),\n",
       "  Text(0.02845215964296504, -0.5993250158400292, '48.49')])"
      ]
     },
     "execution_count": 18,
     "metadata": {},
     "output_type": "execute_result"
    },
    {
     "data": {
      "image/png": "[encoded data removed]",
      "text/plain": [
       "<Figure size 640x480 with 1 Axes>"
      ]
     },
     "metadata": {},
     "output_type": "display_data"
    }
   ],
   "source": [
    "plt.pie(bank.active_member.value_counts().values,labels=['Avtice members','Not avtice members'],autopct='%.2f',)"
   ]
  },
  {
   "cell_type": "markdown",
   "metadata": {
    "id": "F8RoB9cN9V_O"
   },
   "source": [
    "inferences-\n",
    "\n",
    "\n",
    "The pie chart indicates that approximately 51.51% of the customers are active members, while the remaining 48.49% are not active members.\n",
    "\n",
    "This suggests that the majority of customers in the bank dataset are active members, which may be a positive factor in predicting churn."
   ]
  },
  {
   "cell_type": "code",
   "execution_count": 19,
   "metadata": {
    "colab": {
     "base_uri": "https://localhost:8080/",
     "height": 466
    },
    "id": "Exl3OJ85raZ1",
    "outputId": "a9333dd9-080a-440c-f549-12470af85112"
   },
   "outputs": [
    {
     "data": {
      "text/plain": [
       "<AxesSubplot:xlabel='churn', ylabel='estimated_salary'>"
      ]
     },
     "execution_count": 19,
     "metadata": {},
     "output_type": "execute_result"
    },
    {
     "data": {
      "image/png": "[encoded data removed]",
      "text/plain": [
       "<Figure size 640x480 with 1 Axes>"
      ]
     },
     "metadata": {},
     "output_type": "display_data"
    }
   ],
   "source": [
    "sns.boxplot(x='churn',y='estimated_salary',data=bank)"
   ]
  },
  {
   "cell_type": "markdown",
   "metadata": {
    "id": "JQjtea7T9ZFi"
   },
   "source": [
    "inferences-\n",
    "\n",
    "The box plot indicates that there is no significant difference in the distribution of estimated salaries between customers who churned and those who did not churn. This suggests that estimated salary may not be a strong predictor of churn in the bank dataset."
   ]
  },
  {
   "cell_type": "code",
   "execution_count": null,
   "metadata": {
    "id": "F11qHXQuraSB"
   },
   "outputs": [],
   "source": []
  },
  {
   "cell_type": "code",
   "execution_count": 20,
   "metadata": {
    "colab": {
     "base_uri": "https://localhost:8080/",
     "height": 638
    },
    "id": "nerAkdh44gYu",
    "outputId": "a61ad58c-6bce-4e87-998f-d062843e7a80"
   },
   "outputs": [
    {
     "data": {
      "text/plain": [
       "<AxesSubplot:ylabel='Density'>"
      ]
     },
     "execution_count": 20,
     "metadata": {},
     "output_type": "execute_result"
    },
    {
     "data": {
      "image/png": "[encoded data removed]",
      "text/plain": [
       "<Figure size 640x480 with 1 Axes>"
      ]
     },
     "metadata": {},
     "output_type": "display_data"
    }
   ],
   "source": [
    "sns.distplot(x=bank['churn'])"
   ]
  },
  {
   "cell_type": "markdown",
   "metadata": {
    "id": "z-TYhTuT-UDp"
   },
   "source": [
    "inferences-\n",
    "\n",
    "The distribution plot indicates that there are more customers who did not churn (churn=0) than customers who churned (churn=1). This suggests that the dataset may be imbalanced, with more examples of one class than the other. Imbalanced datasets can be problematic for machine learning models, as they may be biased towards the majority class."
   ]
  },
  {
   "cell_type": "markdown",
   "metadata": {
    "id": "6dTraq_o-zia"
   },
   "source": [
    "# **`conclusion-`**\n",
    "\n",
    "\n",
    "Based on the analysis of the bank dataset, it appears that several factors, including country, estimated salary, gender, age, credit score, tenure, balance, and active membership status, may be influencing churn. Customers from certain countries may be more likely to churn, while those with higher estimated salaries may be less likely to churn. Age, gender, and credit score may also play a role, with some groups of customers more likely to churn than others. Customers who have been with the bank for a longer period of time, have higher balances, and are active members appear to be less likely to churn. These factors should be considered when developing strategies to reduce churn and retain customers in the banking industry."
   ]
  },
  {
   "cell_type": "code",
   "execution_count": null,
   "metadata": {
    "id": "F8807TeY4gVX"
   },
   "outputs": [],
   "source": []
  },
  {
   "cell_type": "code",
   "execution_count": 21,
   "metadata": {
    "colab": {
     "base_uri": "https://localhost:8080/",
     "height": 206
    },
    "id": "LmrknII94gTK",
    "outputId": "cb11cd5c-0eea-4475-ca19-1813c16d4af1"
   },
   "outputs": [
    {
     "data": {
      "text/html": [
       "<div>\n",
       "<style scoped>\n",
       "    .dataframe tbody tr th:only-of-type {\n",
       "        vertical-align: middle;\n",
       "    }\n",
       "\n",
       "    .dataframe tbody tr th {\n",
       "        vertical-align: top;\n",
       "    }\n",
       "\n",
       "    .dataframe thead th {\n",
       "        text-align: right;\n",
       "    }\n",
       "</style>\n",
       "<table border=\"1\" class=\"dataframe\">\n",
       "  <thead>\n",
       "    <tr style=\"text-align: right;\">\n",
       "      <th></th>\n",
       "      <th>customer_id</th>\n",
       "      <th>credit_card</th>\n",
       "      <th>age G</th>\n",
       "      <th>country</th>\n",
       "      <th>estimated_salary</th>\n",
       "      <th>gender</th>\n",
       "      <th>age</th>\n",
       "      <th>credit_score</th>\n",
       "      <th>tenure</th>\n",
       "      <th>balance</th>\n",
       "      <th>active_member</th>\n",
       "      <th>churn</th>\n",
       "    </tr>\n",
       "  </thead>\n",
       "  <tbody>\n",
       "    <tr>\n",
       "      <th>0</th>\n",
       "      <td>15634602</td>\n",
       "      <td>1</td>\n",
       "      <td>40+</td>\n",
       "      <td>France</td>\n",
       "      <td>101348.88</td>\n",
       "      <td>Female</td>\n",
       "      <td>42</td>\n",
       "      <td>619</td>\n",
       "      <td>2</td>\n",
       "      <td>0.00</td>\n",
       "      <td>1</td>\n",
       "      <td>1</td>\n",
       "    </tr>\n",
       "    <tr>\n",
       "      <th>1</th>\n",
       "      <td>15647311</td>\n",
       "      <td>0</td>\n",
       "      <td>40+</td>\n",
       "      <td>Spain</td>\n",
       "      <td>112542.58</td>\n",
       "      <td>Female</td>\n",
       "      <td>41</td>\n",
       "      <td>608</td>\n",
       "      <td>1</td>\n",
       "      <td>83807.86</td>\n",
       "      <td>1</td>\n",
       "      <td>0</td>\n",
       "    </tr>\n",
       "    <tr>\n",
       "      <th>2</th>\n",
       "      <td>15619304</td>\n",
       "      <td>1</td>\n",
       "      <td>40+</td>\n",
       "      <td>France</td>\n",
       "      <td>113931.57</td>\n",
       "      <td>Female</td>\n",
       "      <td>42</td>\n",
       "      <td>502</td>\n",
       "      <td>8</td>\n",
       "      <td>159660.80</td>\n",
       "      <td>0</td>\n",
       "      <td>1</td>\n",
       "    </tr>\n",
       "    <tr>\n",
       "      <th>3</th>\n",
       "      <td>15701354</td>\n",
       "      <td>0</td>\n",
       "      <td>30-40</td>\n",
       "      <td>France</td>\n",
       "      <td>93826.63</td>\n",
       "      <td>Female</td>\n",
       "      <td>39</td>\n",
       "      <td>699</td>\n",
       "      <td>1</td>\n",
       "      <td>0.00</td>\n",
       "      <td>0</td>\n",
       "      <td>0</td>\n",
       "    </tr>\n",
       "    <tr>\n",
       "      <th>4</th>\n",
       "      <td>15737888</td>\n",
       "      <td>1</td>\n",
       "      <td>40+</td>\n",
       "      <td>Spain</td>\n",
       "      <td>79084.10</td>\n",
       "      <td>Female</td>\n",
       "      <td>43</td>\n",
       "      <td>850</td>\n",
       "      <td>2</td>\n",
       "      <td>125510.82</td>\n",
       "      <td>1</td>\n",
       "      <td>0</td>\n",
       "    </tr>\n",
       "  </tbody>\n",
       "</table>\n",
       "</div>"
      ],
      "text/plain": [
       "   customer_id  credit_card  age G country  estimated_salary  gender  age  \\\n",
       "0     15634602            1    40+  France         101348.88  Female   42   \n",
       "1     15647311            0    40+   Spain         112542.58  Female   41   \n",
       "2     15619304            1    40+  France         113931.57  Female   42   \n",
       "3     15701354            0  30-40  France          93826.63  Female   39   \n",
       "4     15737888            1    40+   Spain          79084.10  Female   43   \n",
       "\n",
       "   credit_score  tenure    balance  active_member  churn  \n",
       "0           619       2       0.00              1      1  \n",
       "1           608       1   83807.86              1      0  \n",
       "2           502       8  159660.80              0      1  \n",
       "3           699       1       0.00              0      0  \n",
       "4           850       2  125510.82              1      0  "
      ]
     },
     "execution_count": 21,
     "metadata": {},
     "output_type": "execute_result"
    }
   ],
   "source": [
    "bank.head()"
   ]
  },
  {
   "cell_type": "code",
   "execution_count": 22,
   "metadata": {
    "id": "b5bY8kA94gGU"
   },
   "outputs": [],
   "source": [
    "x=bank.iloc[:,3:-1]\n",
    "y=bank['churn']"
   ]
  },
  {
   "cell_type": "code",
   "execution_count": 23,
   "metadata": {
    "colab": {
     "base_uri": "https://localhost:8080/",
     "height": 424
    },
    "id": "ln_bMOLWhZKX",
    "outputId": "8d9a8263-3a4c-4110-eaa6-d3fa45df0024"
   },
   "outputs": [
    {
     "data": {
      "text/html": [
       "<div>\n",
       "<style scoped>\n",
       "    .dataframe tbody tr th:only-of-type {\n",
       "        vertical-align: middle;\n",
       "    }\n",
       "\n",
       "    .dataframe tbody tr th {\n",
       "        vertical-align: top;\n",
       "    }\n",
       "\n",
       "    .dataframe thead th {\n",
       "        text-align: right;\n",
       "    }\n",
       "</style>\n",
       "<table border=\"1\" class=\"dataframe\">\n",
       "  <thead>\n",
       "    <tr style=\"text-align: right;\">\n",
       "      <th></th>\n",
       "      <th>country</th>\n",
       "      <th>estimated_salary</th>\n",
       "      <th>gender</th>\n",
       "      <th>age</th>\n",
       "      <th>credit_score</th>\n",
       "      <th>tenure</th>\n",
       "      <th>balance</th>\n",
       "      <th>active_member</th>\n",
       "    </tr>\n",
       "  </thead>\n",
       "  <tbody>\n",
       "    <tr>\n",
       "      <th>0</th>\n",
       "      <td>France</td>\n",
       "      <td>101348.88</td>\n",
       "      <td>Female</td>\n",
       "      <td>42</td>\n",
       "      <td>619</td>\n",
       "      <td>2</td>\n",
       "      <td>0.00</td>\n",
       "      <td>1</td>\n",
       "    </tr>\n",
       "    <tr>\n",
       "      <th>1</th>\n",
       "      <td>Spain</td>\n",
       "      <td>112542.58</td>\n",
       "      <td>Female</td>\n",
       "      <td>41</td>\n",
       "      <td>608</td>\n",
       "      <td>1</td>\n",
       "      <td>83807.86</td>\n",
       "      <td>1</td>\n",
       "    </tr>\n",
       "    <tr>\n",
       "      <th>2</th>\n",
       "      <td>France</td>\n",
       "      <td>113931.57</td>\n",
       "      <td>Female</td>\n",
       "      <td>42</td>\n",
       "      <td>502</td>\n",
       "      <td>8</td>\n",
       "      <td>159660.80</td>\n",
       "      <td>0</td>\n",
       "    </tr>\n",
       "    <tr>\n",
       "      <th>3</th>\n",
       "      <td>France</td>\n",
       "      <td>93826.63</td>\n",
       "      <td>Female</td>\n",
       "      <td>39</td>\n",
       "      <td>699</td>\n",
       "      <td>1</td>\n",
       "      <td>0.00</td>\n",
       "      <td>0</td>\n",
       "    </tr>\n",
       "    <tr>\n",
       "      <th>4</th>\n",
       "      <td>Spain</td>\n",
       "      <td>79084.10</td>\n",
       "      <td>Female</td>\n",
       "      <td>43</td>\n",
       "      <td>850</td>\n",
       "      <td>2</td>\n",
       "      <td>125510.82</td>\n",
       "      <td>1</td>\n",
       "    </tr>\n",
       "    <tr>\n",
       "      <th>...</th>\n",
       "      <td>...</td>\n",
       "      <td>...</td>\n",
       "      <td>...</td>\n",
       "      <td>...</td>\n",
       "      <td>...</td>\n",
       "      <td>...</td>\n",
       "      <td>...</td>\n",
       "      <td>...</td>\n",
       "    </tr>\n",
       "    <tr>\n",
       "      <th>9995</th>\n",
       "      <td>France</td>\n",
       "      <td>96270.64</td>\n",
       "      <td>Male</td>\n",
       "      <td>39</td>\n",
       "      <td>771</td>\n",
       "      <td>5</td>\n",
       "      <td>0.00</td>\n",
       "      <td>0</td>\n",
       "    </tr>\n",
       "    <tr>\n",
       "      <th>9996</th>\n",
       "      <td>France</td>\n",
       "      <td>101699.77</td>\n",
       "      <td>Male</td>\n",
       "      <td>35</td>\n",
       "      <td>516</td>\n",
       "      <td>10</td>\n",
       "      <td>57369.61</td>\n",
       "      <td>1</td>\n",
       "    </tr>\n",
       "    <tr>\n",
       "      <th>9997</th>\n",
       "      <td>France</td>\n",
       "      <td>42085.58</td>\n",
       "      <td>Female</td>\n",
       "      <td>36</td>\n",
       "      <td>709</td>\n",
       "      <td>7</td>\n",
       "      <td>0.00</td>\n",
       "      <td>1</td>\n",
       "    </tr>\n",
       "    <tr>\n",
       "      <th>9998</th>\n",
       "      <td>Germany</td>\n",
       "      <td>92888.52</td>\n",
       "      <td>Male</td>\n",
       "      <td>42</td>\n",
       "      <td>772</td>\n",
       "      <td>3</td>\n",
       "      <td>75075.31</td>\n",
       "      <td>0</td>\n",
       "    </tr>\n",
       "    <tr>\n",
       "      <th>9999</th>\n",
       "      <td>France</td>\n",
       "      <td>38190.78</td>\n",
       "      <td>Female</td>\n",
       "      <td>28</td>\n",
       "      <td>792</td>\n",
       "      <td>4</td>\n",
       "      <td>130142.79</td>\n",
       "      <td>0</td>\n",
       "    </tr>\n",
       "  </tbody>\n",
       "</table>\n",
       "<p>10000 rows × 8 columns</p>\n",
       "</div>"
      ],
      "text/plain": [
       "      country  estimated_salary  gender  age  credit_score  tenure    balance  \\\n",
       "0      France         101348.88  Female   42           619       2       0.00   \n",
       "1       Spain         112542.58  Female   41           608       1   83807.86   \n",
       "2      France         113931.57  Female   42           502       8  159660.80   \n",
       "3      France          93826.63  Female   39           699       1       0.00   \n",
       "4       Spain          79084.10  Female   43           850       2  125510.82   \n",
       "...       ...               ...     ...  ...           ...     ...        ...   \n",
       "9995   France          96270.64    Male   39           771       5       0.00   \n",
       "9996   France         101699.77    Male   35           516      10   57369.61   \n",
       "9997   France          42085.58  Female   36           709       7       0.00   \n",
       "9998  Germany          92888.52    Male   42           772       3   75075.31   \n",
       "9999   France          38190.78  Female   28           792       4  130142.79   \n",
       "\n",
       "      active_member  \n",
       "0                 1  \n",
       "1                 1  \n",
       "2                 0  \n",
       "3                 0  \n",
       "4                 1  \n",
       "...             ...  \n",
       "9995              0  \n",
       "9996              1  \n",
       "9997              1  \n",
       "9998              0  \n",
       "9999              0  \n",
       "\n",
       "[10000 rows x 8 columns]"
      ]
     },
     "execution_count": 23,
     "metadata": {},
     "output_type": "execute_result"
    }
   ],
   "source": [
    "x"
   ]
  },
  {
   "cell_type": "code",
   "execution_count": 24,
   "metadata": {
    "id": "nkIwG4udzGcj"
   },
   "outputs": [],
   "source": [
    "x['gender']=x['gender'].astype('category').cat.codes\n",
    "x['country']=x['country'].astype('category').cat.codes"
   ]
  },
  {
   "cell_type": "code",
   "execution_count": 25,
   "metadata": {
    "id": "7QSPPCqjByRC"
   },
   "outputs": [],
   "source": [
    "from sklearn.model_selection import train_test_split\n",
    "x_train,x_test,y_train,y_test = train_test_split(x,y,test_size=0.2,random_state=49)"
   ]
  },
  {
   "cell_type": "code",
   "execution_count": 26,
   "metadata": {
    "colab": {
     "base_uri": "https://localhost:8080/"
    },
    "id": "nwk3zYlIhd0o",
    "outputId": "e9c5f15e-536d-4ce7-d201-ab7f5c2a6e8a"
   },
   "outputs": [
    {
     "data": {
      "text/plain": [
       "8"
      ]
     },
     "execution_count": 26,
     "metadata": {},
     "output_type": "execute_result"
    }
   ],
   "source": [
    "len(x_train.columns)"
   ]
  },
  {
   "cell_type": "code",
   "execution_count": 27,
   "metadata": {
    "id": "jZvuqNry9nUl"
   },
   "outputs": [
    {
     "name": "stdout",
     "output_type": "stream",
     "text": [
      "accuracy_score 80.05\n",
      "precision_score LogisticRegression: 0.8005\n",
      "accuracy_score 84.25\n",
      "precision_score RandomForestClassifier: 0.8425\n",
      "accuracy_score 73.35000000000001\n",
      "precision_score DecisionTreeClassifier: 0.7335\n",
      "accuracy_score 80.35\n",
      "precision_score SVC 0.8035\n",
      "accuracy_score 76.4\n",
      "precision_score KNeighborsClassifier 0.764\n"
     ]
    }
   ],
   "source": [
    "\n",
    "from sklearn.model_selection import train_test_split\n",
    "xtrain,xtest,ytrain,ytest=train_test_split(x,y,test_size=0.2,random_state=42)\n",
    "\n",
    "from sklearn.linear_model import LogisticRegression\n",
    "model_lr = LogisticRegression()\n",
    "from sklearn.ensemble import RandomForestClassifier\n",
    "model_rf = RandomForestClassifier()\n",
    "from sklearn.tree import DecisionTreeClassifier\n",
    "model_dt=DecisionTreeClassifier()\n",
    "from sklearn.svm import SVC\n",
    "model_sv = SVC()\n",
    "from sklearn.neighbors import KNeighborsClassifier\n",
    "model_kn = KNeighborsClassifier()\n",
    "from sklearn.metrics import accuracy_score,precision_score\n",
    "\n",
    "model_lr.fit(xtrain,ytrain)\n",
    "pred_lr=model_lr.predict(xtest)\n",
    "print(\"accuracy_score\",accuracy_score(ytest,pred_lr)*100)\n",
    "print(\"precision_score LogisticRegression:\",precision_score(ytest,pred_lr,average='micro'))\n",
    "\n",
    "model_rf.fit(xtrain,ytrain)\n",
    "pred_rf=model_rf.predict(xtest)\n",
    "print(\"accuracy_score\",accuracy_score(ytest,pred_rf)*100)\n",
    "print(\"precision_score RandomForestClassifier:\",precision_score(ytest,pred_rf,average='micro'))\n",
    "\n",
    "model_dt.fit(xtrain,ytrain)\n",
    "pred_dt=model_dt.predict(xtest)\n",
    "print(\"accuracy_score\",accuracy_score(ytest,pred_dt)*100)\n",
    "print(\"precision_score DecisionTreeClassifier:\",precision_score(ytest,pred_dt,average='micro'))\n",
    "\n",
    "model_sv.fit(xtrain,ytrain)\n",
    "pred_sv=model_sv.predict(xtest)\n",
    "print(\"accuracy_score\",accuracy_score(ytest,pred_sv)*100)\n",
    "print(\"precision_score SVC\",precision_score(ytest,pred_sv,average='micro'))\n",
    "\n",
    "model_kn.fit(xtrain,ytrain)\n",
    "pred_kn=model_kn.predict(xtest)\n",
    "print(\"accuracy_score\",accuracy_score(ytest,pred_kn)*100)\n",
    "print(\"precision_score KNeighborsClassifier\",precision_score(ytest,pred_kn,average='micro'))"
   ]
  },
  {
   "cell_type": "code",
   "execution_count": 28,
   "metadata": {
    "id": "Xmhg9Y5R4gC-"
   },
   "outputs": [],
   "source": [
    "import tensorflow as tf\n",
    "from keras.models  import Sequential\n",
    "from tensorflow.keras.layers import Dense\n",
    "\n",
    "model_1 = Sequential()\n",
    "    \n",
    "\n",
    "model_1.add(Dense(10, input_shape=(8,), activation='relu'))\n",
    "model_1.add(Dense(10, activation='relu'))\n",
    "model_1.add(Dense(10, activation='relu'))\n",
    "model_1.add(Dense(10, activation='relu'))\n",
    "model_1.add(Dense(1, activation='softmax'))\n",
    "\n",
    "model_1.compile(loss='binary_crossentropy', optimizer='adam', metrics=['accuracy'])"
   ]
  },
  {
   "cell_type": "code",
   "execution_count": 29,
   "metadata": {
    "colab": {
     "base_uri": "https://localhost:8080/"
    },
    "id": "Bk0AZcoD8-wc",
    "outputId": "ae2b01a0-59c7-4df7-a1bd-2f0af9f67e83"
   },
   "outputs": [
    {
     "name": "stdout",
     "output_type": "stream",
     "text": [
      "Epoch 1/7\n",
      "2500/2500 [==============================] - 5s 2ms/step - loss: 25.2951 - accuracy: 0.2037\n",
      "Epoch 2/7\n",
      "2500/2500 [==============================] - 4s 2ms/step - loss: 1.2531 - accuracy: 0.2037\n",
      "Epoch 3/7\n",
      "2500/2500 [==============================] - 4s 2ms/step - loss: 0.7341 - accuracy: 0.2037\n",
      "Epoch 4/7\n",
      "2500/2500 [==============================] - 4s 2ms/step - loss: 0.5243 - accuracy: 0.2037\n",
      "Epoch 5/7\n",
      "2500/2500 [==============================] - 4s 2ms/step - loss: 0.5115 - accuracy: 0.2037\n",
      "Epoch 6/7\n",
      "2500/2500 [==============================] - 5s 2ms/step - loss: 0.5052 - accuracy: 0.2037\n",
      "Epoch 7/7\n",
      "2500/2500 [==============================] - 4s 2ms/step - loss: 0.5056 - accuracy: 0.2037\n"
     ]
    },
    {
     "data": {
      "text/plain": [
       "<keras.callbacks.History at 0x22a99b9ef10>"
      ]
     },
     "execution_count": 29,
     "metadata": {},
     "output_type": "execute_result"
    }
   ],
   "source": [
    "model_1.fit(x, y, epochs=7, batch_size=4)"
   ]
  },
  {
   "cell_type": "code",
   "execution_count": 30,
   "metadata": {
    "id": "xc6Vy3nGBo7L"
   },
   "outputs": [
    {
     "name": "stdout",
     "output_type": "stream",
     "text": [
      "63/63 [==============================] - 0s 1ms/step\n"
     ]
    }
   ],
   "source": [
    "predict_dl = model_1.predict(x_test)"
   ]
  },
  {
   "cell_type": "code",
   "execution_count": 31,
   "metadata": {
    "id": "hCK0hL_NDRX6"
   },
   "outputs": [
    {
     "name": "stdout",
     "output_type": "stream",
     "text": [
      "313/313 [==============================] - 0s 1ms/step\n"
     ]
    }
   ],
   "source": [
    "predictions = (model_1.predict(x) > 0.5).astype(int)"
   ]
  },
  {
   "cell_type": "code",
   "execution_count": 32,
   "metadata": {
    "id": "heMH97snfsxY"
   },
   "outputs": [],
   "source": [
    "import tensorflow as tf\n",
    "from keras.models  import Sequential\n",
    "from tensorflow.keras.layers import Dense\n",
    "\n",
    "model = Sequential()\n",
    "\n",
    "model.add(Dense(10, input_dim=8, activation='relu'))\n",
    "model.add(Dense(10, activation='relu'))\n",
    "model.add(Dense(10, activation='relu'))\n",
    "model.add(Dense(10, activation='relu'))\n",
    "model.add(Dense(3, activation='softmax'))\n",
    "\n",
    "model.compile(loss='sparse_categorical_crossentropy', optimizer='adam', metrics=['accuracy'])"
   ]
  },
  {
   "cell_type": "code",
   "execution_count": 33,
   "metadata": {
    "colab": {
     "base_uri": "https://localhost:8080/"
    },
    "id": "RBXrcFqnf3c5",
    "outputId": "26df5b60-f79d-4cff-cd17-ab73a57e9e7a"
   },
   "outputs": [
    {
     "name": "stdout",
     "output_type": "stream",
     "text": [
      "Epoch 1/20\n",
      "100/100 [==============================] - 1s 2ms/step - loss: 1692.1476 - accuracy: 0.5388\n",
      "Epoch 2/20\n",
      "100/100 [==============================] - 0s 2ms/step - loss: 33.3701 - accuracy: 0.6677\n",
      "Epoch 3/20\n",
      "100/100 [==============================] - 0s 2ms/step - loss: 17.7187 - accuracy: 0.6741\n",
      "Epoch 4/20\n",
      "100/100 [==============================] - 0s 2ms/step - loss: 13.9009 - accuracy: 0.6776\n",
      "Epoch 5/20\n",
      "100/100 [==============================] - 0s 2ms/step - loss: 18.7787 - accuracy: 0.6739\n",
      "Epoch 6/20\n",
      "100/100 [==============================] - 0s 2ms/step - loss: 17.1899 - accuracy: 0.6855\n",
      "Epoch 7/20\n",
      "100/100 [==============================] - 0s 2ms/step - loss: 13.4089 - accuracy: 0.6717\n",
      "Epoch 8/20\n",
      "100/100 [==============================] - 0s 2ms/step - loss: 15.2923 - accuracy: 0.6740\n",
      "Epoch 9/20\n",
      "100/100 [==============================] - 0s 2ms/step - loss: 15.7225 - accuracy: 0.6648\n",
      "Epoch 10/20\n",
      "100/100 [==============================] - 0s 2ms/step - loss: 11.1702 - accuracy: 0.6803\n",
      "Epoch 11/20\n",
      "100/100 [==============================] - 0s 2ms/step - loss: 13.0285 - accuracy: 0.6788\n",
      "Epoch 12/20\n",
      "100/100 [==============================] - 0s 2ms/step - loss: 13.7522 - accuracy: 0.6683\n",
      "Epoch 13/20\n",
      "100/100 [==============================] - 0s 2ms/step - loss: 14.0499 - accuracy: 0.6752\n",
      "Epoch 14/20\n",
      "100/100 [==============================] - 0s 2ms/step - loss: 15.1717 - accuracy: 0.6752\n",
      "Epoch 15/20\n",
      "100/100 [==============================] - 0s 2ms/step - loss: 10.9386 - accuracy: 0.6802\n",
      "Epoch 16/20\n",
      "100/100 [==============================] - 0s 2ms/step - loss: 11.3747 - accuracy: 0.6839\n",
      "Epoch 17/20\n",
      "100/100 [==============================] - 0s 2ms/step - loss: 8.5626 - accuracy: 0.6696\n",
      "Epoch 18/20\n",
      "100/100 [==============================] - 0s 2ms/step - loss: 11.2779 - accuracy: 0.6708\n",
      "Epoch 19/20\n",
      "100/100 [==============================] - 0s 2ms/step - loss: 11.5022 - accuracy: 0.6702\n",
      "Epoch 20/20\n",
      "100/100 [==============================] - 0s 2ms/step - loss: 9.9920 - accuracy: 0.6765\n"
     ]
    },
    {
     "data": {
      "text/plain": [
       "<keras.callbacks.History at 0x22a99f5d700>"
      ]
     },
     "execution_count": 33,
     "metadata": {},
     "output_type": "execute_result"
    }
   ],
   "source": [
    "model.fit(x, y, epochs=20, batch_size=100)"
   ]
  }
 ],
 "metadata": {
  "accelerator": "TPU",
  "colab": {
   "provenance": []
  },
  "gpuClass": "standard",
  "kernelspec": {
   "display_name": "Python 3 (ipykernel)",
   "language": "python",
   "name": "python3"
  },
  "language_info": {
   "codemirror_mode": {
    "name": "ipython",
    "version": 3
   },
   "file_extension": ".py",
   "mimetype": "text/x-python",
   "name": "python",
   "nbconvert_exporter": "python",
   "pygments_lexer": "ipython3",
   "version": "3.9.13"
  }
 },
 "nbformat": 4,
 "nbformat_minor": 1
}
